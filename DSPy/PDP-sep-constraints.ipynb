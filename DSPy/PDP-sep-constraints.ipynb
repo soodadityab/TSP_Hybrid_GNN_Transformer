{
 "cells": [
  {
   "cell_type": "code",
   "execution_count": 1,
   "id": "eacf0e46",
   "metadata": {},
   "outputs": [],
   "source": [
    "import os\n",
    "import math\n",
    "import random\n",
    "import numpy as np\n",
    "import re\n",
    "import dspy\n",
    "from dspy.teleprompt import *\n",
    "from ortools.constraint_solver import pywrapcp, routing_enums_pb2\n",
    "\n",
    "os.environ['TOGETHER_API_KEY'] = '35ba5bebf6288e43fdc8989965161592e3335d7067c772c0c6995cdc0e60cd88'\n",
    "os.environ['TOGETHER_API_BASE'] = 'https://api.together.xyz/v1'"
   ]
  },
  {
   "cell_type": "code",
   "execution_count": 2,
   "id": "22a531ca-5eee-43a0-8b68-0c4532914c31",
   "metadata": {},
   "outputs": [],
   "source": [
    "# constants\n",
    "NUM_PAIRS = 1\n",
    "NUM_CITIES = 10\n",
    "TRAIN_INSTANCES = 100\n",
    "TEST_INSTANCES = 100\n",
    "CITIES = \" \".join(map(str, list(np.arange(NUM_CITIES))))\n",
    "# CITIES = \"[\" + \", \".join(map(str, list(np.arange(NUM_CITIES)))) + \"]\"\n",
    "NUM_THREADS = 5\n",
    "K = 6"
   ]
  },
  {
   "cell_type": "code",
   "execution_count": 3,
   "id": "7971a281-76a1-4afb-b2f9-6f8f4f947a7a",
   "metadata": {},
   "outputs": [],
   "source": [
    "# OR Tools\n",
    "def create_data_model(distance_matrix, constraints):\n",
    "    \"\"\"Stores the data for the problem.\"\"\"\n",
    "    data = {\n",
    "        \"distance_matrix\": distance_matrix,\n",
    "        \"pickups_deliveries\": constraints,\n",
    "        \"num_vehicles\": 1,\n",
    "        \"depot\": 0\n",
    "    }\n",
    "    return data\n",
    "\n",
    "def print_solution(data, manager, routing, solution):\n",
    "    \"\"\"Prints solution on console and returns the route and distance.\"\"\"\n",
    "    total_distance = 0\n",
    "    optimal_route = []\n",
    "    \n",
    "    for vehicle_id in range(data[\"num_vehicles\"]):\n",
    "        index = routing.Start(vehicle_id)\n",
    "        route = []\n",
    "        route_distance = 0\n",
    "        plan_output = f\"Route for vehicle {vehicle_id}:\\n\"\n",
    "        while not routing.IsEnd(index):\n",
    "            node_index = manager.IndexToNode(index)\n",
    "            route.append(node_index)\n",
    "            plan_output += f\" {node_index} -> \"\n",
    "            previous_index = index\n",
    "            index = solution.Value(routing.NextVar(index))\n",
    "            route_distance += routing.GetArcCostForVehicle(previous_index, index, vehicle_id)\n",
    "        node_index = manager.IndexToNode(index)\n",
    "        route.append(node_index)\n",
    "        plan_output += f\"{node_index}\\n\"\n",
    "        plan_output += f\"Distance of the route: {route_distance}m\\n\"\n",
    "        # print(plan_output)\n",
    "        optimal_route.append(route)\n",
    "        total_distance += route_distance\n",
    "    optimal_route = optimal_route[0][:-1]\n",
    "    # print(f\"Total Distance of all routes: {total_distance}m\")\n",
    "    return optimal_route, total_distance\n",
    "\n",
    "\n",
    "def solve_pdp_with_constraints(locations, constraints, distance_matrix, num_vehicles=1, depot=0):\n",
    "    \"\"\"Solve the PDP using OR-Tools.\"\"\"\n",
    "    locations = [list(loc) for loc in locations]\n",
    "    distance_matrix = distance_matrix.astype(int).tolist()\n",
    "\n",
    "    data = create_data_model(distance_matrix, constraints)\n",
    "\n",
    "    manager = pywrapcp.RoutingIndexManager(len(data[\"distance_matrix\"]), num_vehicles, depot)\n",
    "\n",
    "    routing = pywrapcp.RoutingModel(manager)\n",
    "\n",
    "    def distance_callback(from_index, to_index):\n",
    "        from_node = manager.IndexToNode(from_index)\n",
    "        to_node = manager.IndexToNode(to_index)\n",
    "        return data[\"distance_matrix\"][from_node][to_node]\n",
    "\n",
    "    transit_callback_index = routing.RegisterTransitCallback(distance_callback)\n",
    "    routing.SetArcCostEvaluatorOfAllVehicles(transit_callback_index)\n",
    "\n",
    "    dimension_name = \"Distance\"\n",
    "    routing.AddDimension(\n",
    "        transit_callback_index,\n",
    "        0,  # no slack\n",
    "        3000,  # vehicle maximum travel distance\n",
    "        True,  # start cumul to zero\n",
    "        dimension_name,\n",
    "    )\n",
    "    distance_dimension = routing.GetDimensionOrDie(dimension_name)\n",
    "    distance_dimension.SetGlobalSpanCostCoefficient(100)\n",
    "\n",
    "    for request in data[\"pickups_deliveries\"]:\n",
    "        pickup_index = manager.NodeToIndex(request[0])\n",
    "        delivery_index = manager.NodeToIndex(request[1])\n",
    "        routing.AddPickupAndDelivery(pickup_index, delivery_index)\n",
    "        routing.solver().Add(routing.VehicleVar(pickup_index) == routing.VehicleVar(delivery_index))\n",
    "        routing.solver().Add(distance_dimension.CumulVar(pickup_index) <= distance_dimension.CumulVar(delivery_index))\n",
    "\n",
    "    search_parameters = pywrapcp.DefaultRoutingSearchParameters()\n",
    "    search_parameters.first_solution_strategy = routing_enums_pb2.FirstSolutionStrategy.PARALLEL_CHEAPEST_INSERTION\n",
    "\n",
    "    solution = routing.SolveWithParameters(search_parameters)\n",
    "\n",
    "    if solution:\n",
    "        optimal_route, total_distance = print_solution(data, manager, routing, solution)\n",
    "        return optimal_route, total_distance\n",
    "    else:\n",
    "        print(\"No solution found!\")\n",
    "        return None"
   ]
  },
  {
   "cell_type": "code",
   "execution_count": 4,
   "id": "df15624d-aaa7-4b70-882e-c79469afebcf",
   "metadata": {},
   "outputs": [],
   "source": [
    "def euclidean_distance(point1, point2):\n",
    "    return round(math.sqrt((point1[0] - point2[0]) ** 2 + (point1[1] - point2[1]) ** 2), 1)\n",
    "\n",
    "def calc_path_distance(path, distances):\n",
    "    total_distance = 0\n",
    "    if len(path) < 2:\n",
    "        return 0\n",
    "    for i in range(len(path) - 1):\n",
    "        total_distance += distances[path[i]][path[i + 1]]\n",
    "    total_distance += distances[path[-1]][path[0]]\n",
    "    return total_distance\n",
    "\n",
    "def make_graphs(num_instances, num_cities):\n",
    "    x_range = (-20, 20)\n",
    "    y_range = (-20, 20)\n",
    "\n",
    "    distanceList = []\n",
    "    precedence_constraints = []\n",
    "    for _ in range(num_instances):\n",
    "        coordinates = [(random.randint(*x_range), random.randint(*y_range)) for _ in range(num_cities)]\n",
    "        distance_matrix = [[euclidean_distance(coordinates[i], coordinates[j]) for j in range(num_cities)] for i in range(num_cities)]\n",
    "        \n",
    "        # Generate NUM_PAIRS random precedence pairs\n",
    "        # ensures there is no constraint where 0 is after sumn\n",
    "        pairs = []\n",
    "        for _ in range(NUM_PAIRS):\n",
    "            a, b = random.sample(range(1, num_cities), 2)\n",
    "            pairs.append((a, b))\n",
    "        \n",
    "        distanceList.append(np.array(distance_matrix))\n",
    "        precedence_constraints.append(pairs)\n",
    "    return coordinates, distanceList, precedence_constraints\n",
    "\n",
    "def make_dataset(coordinates, distanceList, precedence_constraints):\n",
    "    dataset = []\n",
    "    for i in range(len(distanceList)):\n",
    "        matrix = distanceList[i]\n",
    "        constraints = precedence_constraints[i]\n",
    "        # Replace with your own PDP solver or use OR-tools for a quick setup\n",
    "        optimal_route, total_distance = solve_pdp_with_constraints(locations=coordinates, constraints=constraints, distance_matrix=matrix)\n",
    "        data_point = {\n",
    "            \"distance_matrix\": matrix.tolist(),\n",
    "            \"route\": optimal_route,\n",
    "            \"optimal_distance\": total_distance,\n",
    "            \"constraints\": constraints\n",
    "        }\n",
    "        dataset.append(data_point)\n",
    "    return dataset\n",
    "\n",
    "def makeDSPYExamples(dataset):\n",
    "    exampleList = []\n",
    "    for example in dataset:\n",
    "        distances = \"[\" + \", \".join([f\"[{', '.join(map(str, row))}]\" for row in example[\"distance_matrix\"]]) + \"]\"\n",
    "        route = \", \".join(map(str, example[\"route\"]))\n",
    "        pickup_node = \" \".join([f\"{p[0]}\" for p in example[\"constraints\"]])\n",
    "        delivery_node = \" \".join([f\"{p[1]}\" for p in example[\"constraints\"]])\n",
    "        exampleObj = dspy.Example(cities=CITIES, distances=distances, route=route, pickup=pickup_node, delivery=delivery_node).with_inputs(\"cities\", \"distances\", \"pickup\", \"delivery\")\n",
    "        exampleList.append(exampleObj)\n",
    "    return exampleList\n",
    "\n",
    "def random_baseline(distances, pickup, delivery):\n",
    "    numbers = list(range(1, NUM_CITIES))\n",
    "    random.shuffle(numbers)\n",
    "    numbers.insert(0, 0)\n",
    "    if numbers.index(pickup) > numbers.index(delivery):\n",
    "        numbers.remove(pickup)\n",
    "        numbers.insert(numbers.index(delivery), pickup)\n",
    "    \n",
    "    path_length = calc_path_distance(path=numbers, distances=distances)\n",
    "    return numbers, path_length"
   ]
  },
  {
   "cell_type": "code",
   "execution_count": 5,
   "id": "7c13f2c2",
   "metadata": {},
   "outputs": [],
   "source": [
    "# Train set:\n",
    "train_coordinates, train_dl, train_p = make_graphs(TRAIN_INSTANCES, NUM_CITIES)\n",
    "train_ds = make_dataset(train_coordinates, train_dl, train_p)\n",
    "pdp_trainset = makeDSPYExamples(train_ds)"
   ]
  },
  {
   "cell_type": "code",
   "execution_count": 6,
   "id": "0b4ac2bf-e5e7-43a6-9038-2f663c875a85",
   "metadata": {},
   "outputs": [],
   "source": [
    "# Test set:\n",
    "test_coordinates, test_dl, test_p = make_graphs(TEST_INSTANCES, NUM_CITIES)\n",
    "test_ds = make_dataset(test_coordinates, test_dl, test_p)\n",
    "pdp_testset = makeDSPYExamples(test_ds)"
   ]
  },
  {
   "cell_type": "code",
   "execution_count": 7,
   "id": "3c15c9b8-af2d-4f42-938e-fa71cd039ae2",
   "metadata": {},
   "outputs": [],
   "source": [
    "llama = dspy.Together(model=\"meta-llama/Meta-Llama-3-70B\", max_tokens=50)\n",
    "dspy.configure(lm=llama)"
   ]
  },
  {
   "cell_type": "code",
   "execution_count": 8,
   "id": "100fdf67-2ed3-460d-a9f0-acc8249ca999",
   "metadata": {},
   "outputs": [
    {
     "data": {
      "text/plain": [
       "Example({'cities': '0 1 2 3 4 5 6 7 8 9', 'distances': '[[0.0, 9.2, 22.8, 17.7, 19.3, 23.0, 8.1, 23.2, 16.1, 23.5], [9.2, 0.0, 27.1, 19.0, 24.0, 25.7, 5.1, 16.3, 15.7, 31.4], [22.8, 27.1, 0.0, 9.8, 3.6, 4.5, 22.0, 27.8, 13.9, 14.1], [17.7, 19.0, 9.8, 0.0, 8.5, 7.0, 13.9, 18.0, 4.1, 21.1], [19.3, 24.0, 3.6, 8.5, 0.0, 6.1, 19.0, 26.4, 12.2, 13.0], [23.0, 25.7, 4.5, 7.0, 6.1, 0.0, 20.6, 24.2, 11.0, 18.4], [8.1, 5.1, 22.0, 13.9, 19.0, 20.6, 0.0, 15.1, 10.8, 27.3], [23.2, 16.3, 27.8, 18.0, 26.4, 24.2, 15.1, 0.0, 14.2, 38.2], [16.1, 15.7, 13.9, 4.1, 12.2, 11.0, 10.8, 14.2, 0.0, 24.2], [23.5, 31.4, 14.1, 21.1, 13.0, 18.4, 27.3, 38.2, 24.2, 0.0]]', 'route': '0, 1, 6, 7, 8, 3, 5, 2, 4, 9', 'pickup': '3', 'delivery': '2'}) (input_keys={'cities', 'pickup', 'delivery', 'distances'})"
      ]
     },
     "execution_count": 8,
     "metadata": {},
     "output_type": "execute_result"
    }
   ],
   "source": [
    "pdp_trainset[0]"
   ]
  },
  {
   "cell_type": "code",
   "execution_count": 9,
   "id": "34204a54",
   "metadata": {},
   "outputs": [],
   "source": [
    "def check_order(route, pickup, delivery):\n",
    "    return route.index(pickup) < route.index(delivery)\n",
    "\n",
    "class PDP(dspy.Module):\n",
    "    def __init__(self):\n",
    "        super().__init__()\n",
    "        self.make_route = dspy.Predict(PDPSignature)\n",
    "        \n",
    "    def forward(self, cities, distances, pickup, delivery):\n",
    "        pred_route = self.make_route(cities=cities, distances=distances, pickup=pickup, delivery=delivery)\n",
    "        numbers, pickup, delivery = extract_route(pred_route.route, pickup, delivery)\n",
    "        dspy.Suggest(\n",
    "                check_order(numbers, pickup, delivery),\n",
    "                f\"In the route, the index of {pickup} must be before that of {delivery}\"\n",
    "            )\n",
    "        return pred_route\n",
    "    \n",
    "class PDPSignature(dspy.Signature):\n",
    "    \"\"\"generate a route starting at city 0 that visits the pickup node before the delivery node, minimizes distance traveled, and visits each city.\"\"\"\n",
    "    cities = dspy.InputField(desc=\"list of city indices to visit\")\n",
    "    distances = dspy.InputField(desc=\"matrix of distances between the cities\")\n",
    "    route = dspy.OutputField(desc=\"optimized route visiting all cities and adhering to constraints\")\n",
    "    pickup = dspy.InputField(desc=\"pickup node\")\n",
    "    delivery = dspy.InputField(desc=\"delivery node\")\n",
    "\n",
    "\n",
    "def extract_route(route, pickup, delivery, N=NUM_CITIES):\n",
    "    # Extract the first N numbers from the route string\n",
    "    numbers = re.findall(r'\\d+', route)[:N]\n",
    "    \n",
    "    # Convert the numbers to integers\n",
    "    numbers = list(map(int, numbers))\n",
    "\n",
    "    pattern = r'\\((\\d+),\\s*(\\d+)\\)'\n",
    "\n",
    "    pickup = int(pickup)\n",
    "    delivery = int(delivery)\n",
    "    \n",
    "    return numbers, pickup, delivery\n",
    "\n",
    "def eval_tour(cities, route, distances,  pickup, delivery):\n",
    "    distances_matrix = np.array(eval(distances))\n",
    "    \n",
    "    try:\n",
    "        route, pickup, delivery = extract_route(route, pickup, delivery)  # make it a list of ints\n",
    "    except ValueError:\n",
    "        raise ValueError(f\"Invalid route: {route}\")\n",
    "    if len(route) != len(distances_matrix):\n",
    "        raise ValueError(f\"Route length {len(route)} does not match number of cities {len(distances_matrix)}\")\n",
    "\n",
    "    # Check precedence constraints\n",
    "    if route.index(pickup) > route.index(delivery):\n",
    "        raise ValueError(f\"Precedence constraint violated: {pickup} must be visited before {delivery}\")\n",
    "    \n",
    "    total_distance = sum(distances_matrix[route[i]][route[i + 1]] for i in range(len(route) - 1))\n",
    "    total_distance += distances_matrix[route[-1]][route[0]]\n",
    "    return total_distance\n",
    "\n",
    "# Validation function for the Precedence-Constrained TSP\n",
    "def metric(example, pred, trace=None):\n",
    "    try:\n",
    "        distance = eval_tour(example.cities, pred.route, example.distances, example.pickup, example.delivery)\n",
    "        return -distance  # Return negative distance to maximize the metric\n",
    "    except ValueError as e:\n",
    "        dspy.logger.error(e)\n",
    "        return -200"
   ]
  },
  {
   "cell_type": "code",
   "execution_count": null,
   "id": "d0cb22a8-830d-44fd-84d3-c3080270b4ed",
   "metadata": {},
   "outputs": [
    {
     "name": "stderr",
     "output_type": "stream",
     "text": [
      "Average Metric: -160.79999999999998 / 1  (-16080.0):   1%| | 1/100 [00:02<04:03,\u001b[2m2024-08-05T17:15:23.929526Z\u001b[0m [\u001b[31m\u001b[1merror    \u001b[0m] \u001b[1mPrecedence constraint violated: 1 must be visited before 8\u001b[0m [\u001b[0m\u001b[1m\u001b[34m__main__\u001b[0m]\u001b[0m \u001b[36mfilename\u001b[0m=\u001b[35m1034983783.py\u001b[0m \u001b[36mlineno\u001b[0m=\u001b[35m65\u001b[0m\n",
      "Average Metric: -5972.599999999999 / 35  (-17064.6):  35%|▎| 35/100 [01:53<02:59"
     ]
    }
   ],
   "source": [
    "from dspy.primitives.assertions import backtrack_handler\n",
    "\n",
    "# Transform the module to include the backtracking mechanism\n",
    "baleen_with_suggestions = PDP().activate_assertions(backtrack_handler)\n",
    "\n",
    "teleprompter = LabeledFewShot(k=K)\n",
    "compiled_pdp = teleprompter.compile(baleen_with_suggestions, trainset=pdp_trainset)\n",
    "\n",
    "evaluater = Evaluate(devset=pdp_testset, metric=metric, num_threads=NUM_THREADS, display_progress=True, display_table=0)\n",
    "evaluater(compiled_pdp)"
   ]
  },
  {
   "cell_type": "code",
   "execution_count": null,
   "id": "e04dfbf2-76a6-4db1-a37a-23255724e167",
   "metadata": {},
   "outputs": [],
   "source": [
    "llama.inspect_history(n=1)"
   ]
  },
  {
   "cell_type": "code",
   "execution_count": null,
   "id": "33585e61-ccf7-49b9-96f6-758c1fd39432",
   "metadata": {},
   "outputs": [],
   "source": [
    "test_example = pdp_testset[0]\n",
    "numerical_test_example = test_ds[0]\n",
    "print(numerical_test_example)"
   ]
  },
  {
   "cell_type": "code",
   "execution_count": null,
   "id": "af359585-50b4-4c61-ad4f-aa038badba31",
   "metadata": {},
   "outputs": [],
   "source": [
    "predicted_result = compiled_pdp(cities=test_example.cities, distances=test_example.distances, pickup=test_example.pickup, delivery=test_example.delivery)\n",
    "\n",
    "predicted_route = predicted_result.route\n",
    "\n",
    "predicted_distance = eval_tour(test_example.cities, predicted_route, test_example.distances, test_example.pickup, test_example.delivery)\n",
    "\n",
    "print(f\"Predicted route: {predicted_route}\")\n",
    "print(f\"Total distance of the predicted route: {predicted_distance}\")\n",
    "\n",
    "optimal_route = test_example.route\n",
    "optimal_distance = eval_tour(test_example.cities, optimal_route, test_example.distances, test_example.pickup, test_example.delivery)\n",
    "print(f\"Optimal route: {optimal_route}\")\n",
    "print(f\"Total distance of the optimal route: {optimal_distance}\")"
   ]
  },
  {
   "cell_type": "code",
   "execution_count": null,
   "id": "40582a07-beb9-42eb-a6ec-b18cab039fa2",
   "metadata": {},
   "outputs": [],
   "source": [
    "test_example"
   ]
  },
  {
   "cell_type": "code",
   "execution_count": null,
   "id": "9527cad0-c5cd-48c4-b683-6f2c2b51a81b",
   "metadata": {},
   "outputs": [],
   "source": [
    "print(numerical_test_example)\n",
    "path, distance = random_baseline(numerical_test_example[\"distance_matrix\"], numerical_test_example[\"constraints\"][0][0],numerical_test_example[\"constraints\"][0][1])\n",
    "print(f\"path is {path}\")\n",
    "print(f\"distance is {distance}\")"
   ]
  },
  {
   "cell_type": "markdown",
   "id": "7a503978-0046-4595-a298-2d155bdc4763",
   "metadata": {},
   "source": [
    "Random baseline eval:"
   ]
  },
  {
   "cell_type": "code",
   "execution_count": null,
   "id": "81efc486-8bfa-4eee-a5f4-b9ca6f536e62",
   "metadata": {},
   "outputs": [],
   "source": [
    "total_dis = 0\n",
    "for i in range(TEST_INSTANCES):\n",
    "    curr_example = test_ds[i]\n",
    "    _, distance = random_baseline(curr_example[\"distance_matrix\"], curr_example[\"constraints\"][0][0], curr_example[\"constraints\"][0][1])\n",
    "    total_dis += distance\n",
    "print(f\"(RANDOM) total distance is {total_dis}\")\n",
    "print(f\"(RANDOM) average distance is {total_dis/TEST_INSTANCES}\")"
   ]
  },
  {
   "cell_type": "code",
   "execution_count": null,
   "id": "4f00ff49-3153-48c9-a6b3-216ee58df78c",
   "metadata": {},
   "outputs": [],
   "source": [
    "zs_TSP = evaluater(PDP())\n",
    "print(f\"(Zero Shot) average distance is {zs_PDP / len(pdp_testset)}\")"
   ]
  },
  {
   "cell_type": "markdown",
   "id": "83abd91f-d0c1-43d1-bd30-d5a592ad0b72",
   "metadata": {},
   "source": [
    "Model eval:"
   ]
  },
  {
   "cell_type": "code",
   "execution_count": null,
   "id": "ad98ac9a-b6d3-4f26-880c-b25be747bc3a",
   "metadata": {},
   "outputs": [],
   "source": [
    "print(\"(MODEL) average distance is 159.6\")"
   ]
  },
  {
   "cell_type": "markdown",
   "id": "773ec6a9-2486-4119-a652-71e8542a10b0",
   "metadata": {},
   "source": [
    "Optimal route eval:"
   ]
  },
  {
   "cell_type": "code",
   "execution_count": null,
   "id": "6623461f-df0b-4a8e-a831-c6ee93470e97",
   "metadata": {},
   "outputs": [],
   "source": [
    "total_dis = 0\n",
    "for i in range(TEST_INSTANCES):\n",
    "    curr_example = test_ds[i]\n",
    "    total_dis += curr_example[\"optimal_distance\"]\n",
    "print(f\"(OPTIMAL) total distance is {total_dis}\")\n",
    "print(f\"(OPTIMAL) average distance is {total_dis/TEST_INSTANCES}\")"
   ]
  }
 ],
 "metadata": {
  "kernelspec": {
   "display_name": "Python (dspy-ai)",
   "language": "python",
   "name": "dspy"
  },
  "language_info": {
   "codemirror_mode": {
    "name": "ipython",
    "version": 3
   },
   "file_extension": ".py",
   "mimetype": "text/x-python",
   "name": "python",
   "nbconvert_exporter": "python",
   "pygments_lexer": "ipython3",
   "version": "3.11.8"
  }
 },
 "nbformat": 4,
 "nbformat_minor": 5
}
