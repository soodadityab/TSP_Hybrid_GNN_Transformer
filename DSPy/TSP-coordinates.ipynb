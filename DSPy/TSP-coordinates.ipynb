{
 "cells": [
  {
   "cell_type": "code",
   "execution_count": 151,
   "id": "eacf0e46",
   "metadata": {},
   "outputs": [],
   "source": [
    "import dspy\n",
    "import os\n",
    "from dspy.teleprompt import *\n",
    "import random\n",
    "import math\n",
    "import numpy as np\n",
    "from python_tsp.exact import solve_tsp_dynamic_programming\n",
    "import re\n",
    "import ast\n",
    "\n",
    "os.environ['TOGETHER_API_KEY'] = '35ba5bebf6288e43fdc8989965161592e3335d7067c772c0c6995cdc0e60cd88'\n",
    "os.environ['TOGETHER_API_BASE'] = 'https://api.together.xyz/v1'"
   ]
  },
  {
   "cell_type": "code",
   "execution_count": 152,
   "id": "22a531ca-5eee-43a0-8b68-0c4532914c31",
   "metadata": {},
   "outputs": [],
   "source": [
    "# constants\n",
    "NUM_CITIES = 10\n",
    "TRAIN_INSTANCES = 100\n",
    "TEST_INSTANCES = 100\n",
    "CITIES = \" \".join(map(str, list(np.arange(NUM_CITIES))))\n",
    "NUM_THREADS = 5\n",
    "K = 6"
   ]
  },
  {
   "cell_type": "code",
   "execution_count": 153,
   "id": "df15624d-aaa7-4b70-882e-c79469afebcf",
   "metadata": {},
   "outputs": [],
   "source": [
    "# helper functions\n",
    "def euclidean_distance(point1, point2):\n",
    "    return round(math.sqrt((point1[0] - point2[0]) ** 2 + (point1[1] - point2[1]) ** 2), 1)\n",
    "\n",
    "def calc_path_distance(path, distances):\n",
    "    total_distance = 0\n",
    "    if len(path) < 2:\n",
    "        return 0\n",
    "    for i in range(len(path) - 1):\n",
    "        total_distance += distances[path[i]][path[i + 1]]\n",
    "    total_distance += distances[0][path[len(path) - 1]]\n",
    "    return total_distance\n",
    "\n",
    "def make_graphs(num_instances, num_cities):\n",
    "    x_range = (-20, 20)\n",
    "    y_range = (-20, 20)\n",
    "\n",
    "    distanceList = []\n",
    "    coordinatesList = []\n",
    "    for _ in range(num_instances):\n",
    "        coordinates = {i: (round(random.uniform(*x_range), 1), round(random.uniform(*y_range), 1)) for i in range(num_cities)}\n",
    "        distance_matrix = [[euclidean_distance(coordinates[i], coordinates[j]) for j in range(num_cities)] for i in range(num_cities)]\n",
    "        distanceList.append(np.array(distance_matrix))\n",
    "        coordinatesList.append(coordinates)\n",
    "    return coordinatesList, distanceList\n",
    "\n",
    "def make_dataset(coordinatesList, distanceList):\n",
    "    dataset = []\n",
    "    for coordinates, matrix in zip(coordinatesList, distanceList):\n",
    "        permutation, distance = solve_tsp_dynamic_programming(matrix)\n",
    "        data_point = {\n",
    "            \"coordinates\": coordinates,\n",
    "            \"route\": permutation,\n",
    "            \"optimal_distance\": distance\n",
    "        }\n",
    "        dataset.append(data_point)\n",
    "    return dataset\n",
    "\n",
    "def makeDSPYExamples(dataset):\n",
    "    exampleList = []\n",
    "    for example in dataset:\n",
    "        route = \", \".join(map(str, example[\"route\"]))\n",
    "        coordinates = ', '.join([f'{index}: ({x:.2f}, {y:.2f})' for index, (x, y) in example[\"coordinates\"].items()])\n",
    "        exampleObj = dspy.Example(coordinates=coordinates, route=route).with_inputs(\"coordinates\")\n",
    "        exampleList.append(exampleObj)\n",
    "    return exampleList\n",
    "\n",
    "def random_baseline(coordinates):\n",
    "    num_cities = len(coordinates)\n",
    "    numbers = list(range(num_cities))\n",
    "    random.shuffle(numbers)\n",
    "    curr = numbers[0]\n",
    "    for i in range(len(numbers)):\n",
    "        if numbers[i] == 0:\n",
    "            numbers[i] = curr\n",
    "            break\n",
    "    numbers[0] = 0\n",
    "    distances = [[euclidean_distance(coordinates[i], coordinates[j]) for j in range(num_cities)] for i in range(num_cities)]\n",
    "    path_length = calc_path_distance(path=numbers, distances=distances)\n",
    "    return numbers, path_length"
   ]
  },
  {
   "cell_type": "code",
   "execution_count": 154,
   "id": "7c13f2c2",
   "metadata": {},
   "outputs": [
    {
     "name": "stderr",
     "output_type": "stream",
     "text": [
      "Average Metric: 0.0 / 3  (0.0):   3%|▏       | 3/100 [12:40<6:49:44, 253.45s/it]\n",
      "Average Metric: 0.0 / 3  (0.0):   3%|▏       | 3/100 [12:23<6:40:53, 247.98s/it]\n",
      "Average Metric: 0.0 / 3  (0.0):   3%|▏       | 3/100 [12:02<6:29:27, 240.90s/it]\n",
      "Average Metric: 0.0 / 4  (0.0):   4%|▎       | 4/100 [11:45<4:42:05, 176.31s/it]\n",
      "Average Metric: -inf / 5  (-inf):   5%|▎     | 5/100 [11:17<3:34:39, 135.58s/it]\n",
      "  0%|                                                   | 0/100 [09:53<?, ?it/s]\n",
      "  0%|                                                   | 0/100 [09:30<?, ?it/s]\n",
      "  0%|                                                   | 0/100 [08:48<?, ?it/s]\n",
      "  0%|                                                   | 0/100 [08:00<?, ?it/s]\n",
      "Average Metric: 0 / 25  (0.0):  25%|██▊        | 25/100 [07:23<22:10, 17.74s/it]\n",
      "Average Metric: 0 / 5  (0.0):   5%|▌          | 5/100 [06:45<2:08:32, 81.18s/it]\n",
      "Average Metric: 0 / 10  (0.0):  10%|█          | 10/100 [06:35<59:21, 39.57s/it]\n",
      "Average Metric: 0 / 5  (0.0):   5%|▌          | 5/100 [06:11<1:57:36, 74.28s/it]\n",
      "Average Metric: 0.0 / 4  (0.0):   4%|▍          | 4/100 [01:49<43:50, 27.41s/it]\n"
     ]
    }
   ],
   "source": [
    "# Train set:\n",
    "train_c, train_dl = make_graphs(TRAIN_INSTANCES, NUM_CITIES)\n",
    "train_ds = make_dataset(train_c, train_dl)\n",
    "tsp_trainset = makeDSPYExamples(train_ds)"
   ]
  },
  {
   "cell_type": "code",
   "execution_count": 155,
   "id": "bb2f537e-bd02-47ec-bac7-a7e593a9f407",
   "metadata": {},
   "outputs": [
    {
     "name": "stdout",
     "output_type": "stream",
     "text": [
      "Example({'coordinates': '(17.00, 7.10), (0.70, 5.30), (-16.00, -3.50), (1.90, -7.20), (12.80, -3.50), (-3.90, -6.80), (3.90, 16.70), (-4.50, -7.10), (-5.00, -1.60), (-18.80, -2.20)', 'route': '0, 4, 3, 5, 7, 2, 9, 8, 1, 6'}) (input_keys={'coordinates'})\n"
     ]
    }
   ],
   "source": [
    "print(tsp_trainset[0])"
   ]
  },
  {
   "cell_type": "code",
   "execution_count": 156,
   "id": "0b4ac2bf-e5e7-43a6-9038-2f663c875a85",
   "metadata": {},
   "outputs": [],
   "source": [
    "# Test set:\n",
    "test_c, test_dl = make_graphs(TEST_INSTANCES, NUM_CITIES)\n",
    "test_ds = make_dataset(test_c, test_dl)\n",
    "tsp_testset = makeDSPYExamples(test_ds)"
   ]
  },
  {
   "cell_type": "code",
   "execution_count": 157,
   "id": "3c15c9b8-af2d-4f42-938e-fa71cd039ae2",
   "metadata": {},
   "outputs": [],
   "source": [
    "llama = dspy.Together(model=\"meta-llama/Meta-Llama-3-70B\", max_tokens=50)\n",
    "dspy.configure(lm=llama)"
   ]
  },
  {
   "cell_type": "code",
   "execution_count": 158,
   "id": "34204a54",
   "metadata": {},
   "outputs": [],
   "source": [
    "class TSP(dspy.Module):\n",
    "    def __init__(self):\n",
    "        super().__init__()\n",
    "        self.make_route = dspy.Predict(TSPSignature)\n",
    "        \n",
    "    def forward(self, coordinates):\n",
    "        pred_route = self.make_route(coordinates=coordinates)\n",
    "        return pred_route\n",
    "    \n",
    "class TSPSignature(dspy.Signature):\n",
    "    \"\"\"Generate a route, starting at city 0, visiting all cities once, minimizing distance traveled. The distance from the final node to city 0 will be added.\"\"\"\n",
    "    coordinates = dspy.InputField()\n",
    "    route = dspy.OutputField()\n",
    "\n",
    "def extract_route(route, N=NUM_CITIES):\n",
    "    # Extract the first N numbers from the route string\n",
    "    numbers = re.findall(r'\\d+', route)[:N]\n",
    "    \n",
    "    # Convert the numbers to integers\n",
    "    numbers = list(map(int, numbers))\n",
    "    # print(f\"extracted: {numbers}\")\n",
    "    return numbers\n",
    "\n",
    "def eval_tour(coordinates, route):\n",
    "    try:\n",
    "        route = extract_route(route) # make it a list of ints\n",
    "    except ValueError:\n",
    "        raise ValueError(f\"Invalid route: {route}\")\n",
    "    if len(route) != NUM_CITIES:\n",
    "        raise ValueError(f\"Route length {len(route)} does not match number of cities {NUM_CITIES}\")\n",
    "\n",
    "    coordinates = eval(coordinates)\n",
    "    total_distance = 0\n",
    "    for i in range(len(route) - 1):\n",
    "        total_distance += euclidean_distance(coordinates[route[i]], coordinates[route[i+1]])\n",
    "    total_distance += euclidean_distance(coordinates[route[-1]], coordinates[route[0]])\n",
    "    \n",
    "    return total_distance\n",
    "\n",
    "# validation function for the TSP\n",
    "def metric(example, pred, trace=None):\n",
    "    # print(f\"pred.route: {pred.route}\")\n",
    "    try:\n",
    "        distance = eval_tour(example.coordinates, pred.route)\n",
    "        return -distance  # Return negative distance to maximize the metric\n",
    "    except ValueError as e:\n",
    "        dspy.logger.error(e)\n",
    "        return float('-inf')\n",
    "    "
   ]
  },
  {
   "cell_type": "code",
   "execution_count": 159,
   "id": "5421ec89",
   "metadata": {},
   "outputs": [],
   "source": [
    "teleprompter = LabeledFewShot(k=K)\n",
    "compiled_tsp = teleprompter.compile(TSP(), trainset=tsp_trainset)"
   ]
  },
  {
   "cell_type": "code",
   "execution_count": 160,
   "id": "bfd02960-a783-4652-af2a-9584af95c388",
   "metadata": {},
   "outputs": [
    {
     "name": "stderr",
     "output_type": "stream",
     "text": [
      "Average Metric: -20652.4 / 100  (-20652.4): 100%|█| 100/100 [00:43<00:00,  2.29i\n"
     ]
    },
    {
     "data": {
      "text/plain": [
       "-20652.4"
      ]
     },
     "execution_count": 160,
     "metadata": {},
     "output_type": "execute_result"
    }
   ],
   "source": [
    "evaluater = Evaluate(devset=tsp_testset, metric=metric, num_threads=NUM_THREADS, display_progress=True, display_table=0)\n",
    "evaluater(compiled_tsp)"
   ]
  },
  {
   "cell_type": "code",
   "execution_count": 161,
   "id": "33585e61-ccf7-49b9-96f6-758c1fd39432",
   "metadata": {},
   "outputs": [
    {
     "name": "stdout",
     "output_type": "stream",
     "text": [
      "{'coordinates': [(-8.2, 5.6), (-12.0, -15.5), (-16.9, -19.0), (0.7, 18.1), (-5.0, 4.9), (13.6, -1.6), (-11.1, -5.7), (16.7, 17.9), (-12.9, 12.3), (15.0, -1.5)], 'route': [0, 4, 6, 2, 1, 5, 9, 7, 3, 8], 'optimal_distance': np.float64(125.0)}\n"
     ]
    }
   ],
   "source": [
    "test_example = tsp_testset[0]\n",
    "numerical_test_example = test_ds[4]\n",
    "print(numerical_test_example)"
   ]
  },
  {
   "cell_type": "code",
   "execution_count": 162,
   "id": "af359585-50b4-4c61-ad4f-aa038badba31",
   "metadata": {},
   "outputs": [
    {
     "ename": "AttributeError",
     "evalue": "'Example' object has no attribute 'cities'",
     "output_type": "error",
     "traceback": [
      "\u001b[0;31m---------------------------------------------------------------------------\u001b[0m",
      "\u001b[0;31mAttributeError\u001b[0m                            Traceback (most recent call last)",
      "Cell \u001b[0;32mIn[162], line 1\u001b[0m\n\u001b[0;32m----> 1\u001b[0m predicted_result \u001b[38;5;241m=\u001b[39m compiled_tsp(cities\u001b[38;5;241m=\u001b[39m\u001b[43mtest_example\u001b[49m\u001b[38;5;241;43m.\u001b[39;49m\u001b[43mcities\u001b[49m, distances\u001b[38;5;241m=\u001b[39mtest_example\u001b[38;5;241m.\u001b[39mdistances)\n\u001b[1;32m      3\u001b[0m predicted_route \u001b[38;5;241m=\u001b[39m predicted_result\u001b[38;5;241m.\u001b[39mroute\n\u001b[1;32m      5\u001b[0m predicted_distance \u001b[38;5;241m=\u001b[39m eval_tour(test_example\u001b[38;5;241m.\u001b[39mcities, predicted_route, test_example\u001b[38;5;241m.\u001b[39mdistances)\n",
      "File \u001b[0;32m~/Desktop/TSP_Hybrid/DSPy/dspy/lib/python3.11/site-packages/dspy/primitives/example.py:24\u001b[0m, in \u001b[0;36mExample.__getattr__\u001b[0;34m(self, key)\u001b[0m\n\u001b[1;32m     22\u001b[0m \u001b[38;5;28;01mif\u001b[39;00m key \u001b[38;5;129;01min\u001b[39;00m \u001b[38;5;28mself\u001b[39m\u001b[38;5;241m.\u001b[39m_store:\n\u001b[1;32m     23\u001b[0m     \u001b[38;5;28;01mreturn\u001b[39;00m \u001b[38;5;28mself\u001b[39m\u001b[38;5;241m.\u001b[39m_store[key]\n\u001b[0;32m---> 24\u001b[0m \u001b[38;5;28;01mraise\u001b[39;00m \u001b[38;5;167;01mAttributeError\u001b[39;00m(\u001b[38;5;124mf\u001b[39m\u001b[38;5;124m\"\u001b[39m\u001b[38;5;124m'\u001b[39m\u001b[38;5;132;01m{\u001b[39;00m\u001b[38;5;28mtype\u001b[39m(\u001b[38;5;28mself\u001b[39m)\u001b[38;5;241m.\u001b[39m\u001b[38;5;18m__name__\u001b[39m\u001b[38;5;132;01m}\u001b[39;00m\u001b[38;5;124m'\u001b[39m\u001b[38;5;124m object has no attribute \u001b[39m\u001b[38;5;124m'\u001b[39m\u001b[38;5;132;01m{\u001b[39;00mkey\u001b[38;5;132;01m}\u001b[39;00m\u001b[38;5;124m'\u001b[39m\u001b[38;5;124m\"\u001b[39m)\n",
      "\u001b[0;31mAttributeError\u001b[0m: 'Example' object has no attribute 'cities'"
     ]
    }
   ],
   "source": [
    "predicted_result = compiled_tsp(cities=test_example.cities, distances=test_example.distances)\n",
    "\n",
    "predicted_route = predicted_result.route\n",
    "\n",
    "predicted_distance = eval_tour(test_example.cities, predicted_route, test_example.distances)\n",
    "\n",
    "print(f\"Predicted route: {predicted_route}\")\n",
    "print(f\"Total distance of the predicted route: {predicted_distance}\")\n",
    "\n",
    "optimal_route = test_example.route\n",
    "optimal_distance = eval_tour(test_example.cities, optimal_route, test_example.distances)\n",
    "print(f\"Optimal route: {optimal_route}\")\n",
    "print(f\"Total distance of the optimal route: {optimal_distance}\")"
   ]
  },
  {
   "cell_type": "code",
   "execution_count": null,
   "id": "9527cad0-c5cd-48c4-b683-6f2c2b51a81b",
   "metadata": {},
   "outputs": [],
   "source": [
    "print(numerical_test_example)\n",
    "path, distance = random_baseline(numerical_test_example[\"distance_matrix\"])\n",
    "print(f\"path is {path}\")\n",
    "print(f\"distance is {distance}\")"
   ]
  },
  {
   "cell_type": "markdown",
   "id": "7a503978-0046-4595-a298-2d155bdc4763",
   "metadata": {},
   "source": [
    "Random baseline eval:"
   ]
  },
  {
   "cell_type": "code",
   "execution_count": null,
   "id": "81efc486-8bfa-4eee-a5f4-b9ca6f536e62",
   "metadata": {},
   "outputs": [],
   "source": [
    "total_dis = 0\n",
    "for i in range(TEST_INSTANCES):\n",
    "    curr_example = test_ds[i]\n",
    "    _, distance = random_baseline(curr_example[\"distance_matrix\"])\n",
    "    total_dis += distance\n",
    "print(f\"(RANDOM) total distance is {total_dis}\")\n",
    "print(f\"(RANDOM) average distance is {total_dis/TEST_INSTANCES}\")"
   ]
  },
  {
   "cell_type": "code",
   "execution_count": null,
   "id": "4f00ff49-3153-48c9-a6b3-216ee58df78c",
   "metadata": {},
   "outputs": [],
   "source": [
    "zs_TSP = evaluater(TSP())\n",
    "print(f\"(Zero Shot) average distance is {zs_TSP / len(tsp_testset)}\")"
   ]
  },
  {
   "cell_type": "markdown",
   "id": "83abd91f-d0c1-43d1-bd30-d5a592ad0b72",
   "metadata": {},
   "source": [
    "Model eval:"
   ]
  },
  {
   "cell_type": "code",
   "execution_count": null,
   "id": "ad98ac9a-b6d3-4f26-880c-b25be747bc3a",
   "metadata": {},
   "outputs": [],
   "source": [
    "print(\"(MODEL) average distance is 193.12\")"
   ]
  },
  {
   "cell_type": "markdown",
   "id": "773ec6a9-2486-4119-a652-71e8542a10b0",
   "metadata": {},
   "source": [
    "Optimal route eval:"
   ]
  },
  {
   "cell_type": "code",
   "execution_count": null,
   "id": "6623461f-df0b-4a8e-a831-c6ee93470e97",
   "metadata": {},
   "outputs": [],
   "source": [
    "total_dis = 0\n",
    "for i in range(TEST_INSTANCES):\n",
    "    curr_example = test_ds[i]\n",
    "    total_dis += curr_example[\"optimal_distance\"]\n",
    "print(f\"(OPTIMAL) total distance is {total_dis}\")\n",
    "print(f\"(OPTIMAL) average distance is {total_dis/TEST_INSTANCES}\")"
   ]
  }
 ],
 "metadata": {
  "kernelspec": {
   "display_name": "Python (dspy-ai)",
   "language": "python",
   "name": "dspy"
  },
  "language_info": {
   "codemirror_mode": {
    "name": "ipython",
    "version": 3
   },
   "file_extension": ".py",
   "mimetype": "text/x-python",
   "name": "python",
   "nbconvert_exporter": "python",
   "pygments_lexer": "ipython3",
   "version": "3.11.8"
  }
 },
 "nbformat": 4,
 "nbformat_minor": 5
}
