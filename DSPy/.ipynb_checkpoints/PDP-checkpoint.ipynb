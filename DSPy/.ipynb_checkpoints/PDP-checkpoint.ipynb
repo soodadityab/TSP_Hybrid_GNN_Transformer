{
 "cells": [
  {
   "cell_type": "code",
   "execution_count": 1,
   "id": "eacf0e46",
   "metadata": {},
   "outputs": [],
   "source": [
    "import os\n",
    "import math\n",
    "import random\n",
    "import numpy as np\n",
    "import re\n",
    "import dspy\n",
    "from dspy.teleprompt import *\n",
    "from ortools.constraint_solver import pywrapcp, routing_enums_pb2\n",
    "\n",
    "os.environ['TOGETHER_API_KEY'] = '35ba5bebf6288e43fdc8989965161592e3335d7067c772c0c6995cdc0e60cd88'\n",
    "os.environ['TOGETHER_API_BASE'] = 'https://api.together.xyz/v1'"
   ]
  },
  {
   "cell_type": "code",
   "execution_count": 2,
   "id": "22a531ca-5eee-43a0-8b68-0c4532914c31",
   "metadata": {},
   "outputs": [],
   "source": [
    "# constants\n",
    "NUM_PAIRS = 1\n",
    "NUM_CITIES = 10\n",
    "TRAIN_INSTANCES = 100\n",
    "TEST_INSTANCES = 100\n",
    "CITIES = \" \".join(map(str, list(np.arange(NUM_CITIES))))\n",
    "# CITIES = \"[\" + \", \".join(map(str, list(np.arange(NUM_CITIES)))) + \"]\"\n",
    "NUM_THREADS = 5\n",
    "K = 6"
   ]
  },
  {
   "cell_type": "code",
   "execution_count": 3,
   "id": "7971a281-76a1-4afb-b2f9-6f8f4f947a7a",
   "metadata": {},
   "outputs": [],
   "source": [
    "# OR Tools\n",
    "def create_data_model(distance_matrix, constraints):\n",
    "    \"\"\"Stores the data for the problem.\"\"\"\n",
    "    data = {\n",
    "        \"distance_matrix\": distance_matrix,\n",
    "        \"pickups_deliveries\": constraints,\n",
    "        \"num_vehicles\": 1,\n",
    "        \"depot\": 0\n",
    "    }\n",
    "    return data\n",
    "\n",
    "def print_solution(data, manager, routing, solution):\n",
    "    \"\"\"Prints solution on console and returns the route and distance.\"\"\"\n",
    "    total_distance = 0\n",
    "    optimal_route = []\n",
    "    \n",
    "    for vehicle_id in range(data[\"num_vehicles\"]):\n",
    "        index = routing.Start(vehicle_id)\n",
    "        route = []\n",
    "        route_distance = 0\n",
    "        plan_output = f\"Route for vehicle {vehicle_id}:\\n\"\n",
    "        while not routing.IsEnd(index):\n",
    "            node_index = manager.IndexToNode(index)\n",
    "            route.append(node_index)\n",
    "            plan_output += f\" {node_index} -> \"\n",
    "            previous_index = index\n",
    "            index = solution.Value(routing.NextVar(index))\n",
    "            route_distance += routing.GetArcCostForVehicle(previous_index, index, vehicle_id)\n",
    "        node_index = manager.IndexToNode(index)\n",
    "        route.append(node_index)\n",
    "        plan_output += f\"{node_index}\\n\"\n",
    "        plan_output += f\"Distance of the route: {route_distance}m\\n\"\n",
    "        # print(plan_output)\n",
    "        optimal_route.append(route)\n",
    "        total_distance += route_distance\n",
    "    optimal_route = optimal_route[0][:-1]\n",
    "    # print(f\"Total Distance of all routes: {total_distance}m\")\n",
    "    return optimal_route, total_distance\n",
    "\n",
    "\n",
    "def solve_pdp_with_constraints(locations, constraints, distance_matrix, num_vehicles=1, depot=0):\n",
    "    \"\"\"Solve the PDP using OR-Tools.\"\"\"\n",
    "    locations = [list(loc) for loc in locations]\n",
    "    distance_matrix = distance_matrix.astype(int).tolist()\n",
    "\n",
    "    data = create_data_model(distance_matrix, constraints)\n",
    "\n",
    "    manager = pywrapcp.RoutingIndexManager(len(data[\"distance_matrix\"]), num_vehicles, depot)\n",
    "\n",
    "    routing = pywrapcp.RoutingModel(manager)\n",
    "\n",
    "    def distance_callback(from_index, to_index):\n",
    "        from_node = manager.IndexToNode(from_index)\n",
    "        to_node = manager.IndexToNode(to_index)\n",
    "        return data[\"distance_matrix\"][from_node][to_node]\n",
    "\n",
    "    transit_callback_index = routing.RegisterTransitCallback(distance_callback)\n",
    "    routing.SetArcCostEvaluatorOfAllVehicles(transit_callback_index)\n",
    "\n",
    "    dimension_name = \"Distance\"\n",
    "    routing.AddDimension(\n",
    "        transit_callback_index,\n",
    "        0,  # no slack\n",
    "        3000,  # vehicle maximum travel distance\n",
    "        True,  # start cumul to zero\n",
    "        dimension_name,\n",
    "    )\n",
    "    distance_dimension = routing.GetDimensionOrDie(dimension_name)\n",
    "    distance_dimension.SetGlobalSpanCostCoefficient(100)\n",
    "\n",
    "    for request in data[\"pickups_deliveries\"]:\n",
    "        pickup_index = manager.NodeToIndex(request[0])\n",
    "        delivery_index = manager.NodeToIndex(request[1])\n",
    "        routing.AddPickupAndDelivery(pickup_index, delivery_index)\n",
    "        routing.solver().Add(routing.VehicleVar(pickup_index) == routing.VehicleVar(delivery_index))\n",
    "        routing.solver().Add(distance_dimension.CumulVar(pickup_index) <= distance_dimension.CumulVar(delivery_index))\n",
    "\n",
    "    search_parameters = pywrapcp.DefaultRoutingSearchParameters()\n",
    "    search_parameters.first_solution_strategy = routing_enums_pb2.FirstSolutionStrategy.PARALLEL_CHEAPEST_INSERTION\n",
    "\n",
    "    solution = routing.SolveWithParameters(search_parameters)\n",
    "\n",
    "    if solution:\n",
    "        optimal_route, total_distance = print_solution(data, manager, routing, solution)\n",
    "        return optimal_route, total_distance\n",
    "    else:\n",
    "        print(\"No solution found!\")\n",
    "        return None"
   ]
  },
  {
   "cell_type": "code",
   "execution_count": 4,
   "id": "df15624d-aaa7-4b70-882e-c79469afebcf",
   "metadata": {},
   "outputs": [],
   "source": [
    "def euclidean_distance(point1, point2):\n",
    "    return round(math.sqrt((point1[0] - point2[0]) ** 2 + (point1[1] - point2[1]) ** 2), 1)\n",
    "\n",
    "def calc_path_distance(path, distances):\n",
    "    total_distance = 0\n",
    "    if len(path) < 2:\n",
    "        return 0\n",
    "    for i in range(len(path) - 1):\n",
    "        total_distance += distances[path[i]][path[i + 1]]\n",
    "    total_distance += distances[path[-1]][path[0]]\n",
    "    return total_distance\n",
    "\n",
    "def make_graphs(num_instances, num_cities):\n",
    "    x_range = (-20, 20)\n",
    "    y_range = (-20, 20)\n",
    "\n",
    "    distanceList = []\n",
    "    precedence_constraints = []\n",
    "    for _ in range(num_instances):\n",
    "        coordinates = [(random.randint(*x_range), random.randint(*y_range)) for _ in range(num_cities)]\n",
    "        distance_matrix = [[euclidean_distance(coordinates[i], coordinates[j]) for j in range(num_cities)] for i in range(num_cities)]\n",
    "        \n",
    "        # Generate NUM_PAIRS random precedence pairs\n",
    "        # ensures there is no constraint where 0 is after sumn\n",
    "        pairs = []\n",
    "        for _ in range(NUM_PAIRS):\n",
    "            a, b = random.sample(range(1, num_cities), 2)\n",
    "            pairs.append((a, b))\n",
    "        \n",
    "        distanceList.append(np.array(distance_matrix))\n",
    "        precedence_constraints.append(pairs)\n",
    "    return coordinates, distanceList, precedence_constraints\n",
    "\n",
    "def make_dataset(coordinates, distanceList, precedence_constraints):\n",
    "    dataset = []\n",
    "    for i in range(len(distanceList)):\n",
    "        matrix = distanceList[i]\n",
    "        constraints = precedence_constraints[i]\n",
    "        # Replace with your own PDP solver or use OR-tools for a quick setup\n",
    "        optimal_route, total_distance = solve_pdp_with_constraints(locations=coordinates, constraints=constraints, distance_matrix=matrix)\n",
    "        data_point = {\n",
    "            \"distance_matrix\": matrix.tolist(),\n",
    "            \"route\": optimal_route,\n",
    "            \"optimal_distance\": total_distance,\n",
    "            \"constraints\": constraints\n",
    "        }\n",
    "        dataset.append(data_point)\n",
    "    return dataset\n",
    "\n",
    "def makeDSPYExamples(dataset):\n",
    "    exampleList = []\n",
    "    for example in dataset:\n",
    "        distances = \"[\" + \", \".join([f\"[{', '.join(map(str, row))}]\" for row in example[\"distance_matrix\"]]) + \"]\"\n",
    "        route = \", \".join(map(str, example[\"route\"]))\n",
    "        constraints = \", \".join([f\"({p[0]}, {p[1]})\" for p in example[\"constraints\"]])\n",
    "        exampleObj = dspy.Example(cities=CITIES, distances=distances, route=route, constraints=constraints).with_inputs(\"cities\", \"distances\", \"constraints\")\n",
    "        exampleList.append(exampleObj)\n",
    "    return exampleList\n",
    "\n",
    "def random_baseline(distances, constraints):\n",
    "    numbers = list(range(1, NUM_CITIES))\n",
    "    random.shuffle(numbers)\n",
    "    numbers.insert(0, 0)\n",
    "    for constraint in constraints:\n",
    "        a, b = constraint\n",
    "        if numbers.index(a) > numbers.index(b):\n",
    "            numbers.remove(a)\n",
    "            numbers.insert(numbers.index(b), a)\n",
    "    \n",
    "    path_length = calc_path_distance(path=numbers, distances=distances)\n",
    "    return numbers, path_length"
   ]
  },
  {
   "cell_type": "code",
   "execution_count": 5,
   "id": "7c13f2c2",
   "metadata": {},
   "outputs": [],
   "source": [
    "# Train set:\n",
    "train_coordinates, train_dl, train_p = make_graphs(TRAIN_INSTANCES, NUM_CITIES)\n",
    "train_ds = make_dataset(train_coordinates, train_dl, train_p)\n",
    "pdp_trainset = makeDSPYExamples(train_ds)"
   ]
  },
  {
   "cell_type": "code",
   "execution_count": 6,
   "id": "0b4ac2bf-e5e7-43a6-9038-2f663c875a85",
   "metadata": {},
   "outputs": [],
   "source": [
    "# Test set:\n",
    "test_coordinates, test_dl, test_p = make_graphs(TEST_INSTANCES, NUM_CITIES)\n",
    "test_ds = make_dataset(test_coordinates, test_dl, test_p)\n",
    "pdp_testset = makeDSPYExamples(test_ds)"
   ]
  },
  {
   "cell_type": "code",
   "execution_count": 7,
   "id": "3c15c9b8-af2d-4f42-938e-fa71cd039ae2",
   "metadata": {},
   "outputs": [],
   "source": [
    "llama = dspy.Together(model=\"meta-llama/Meta-Llama-3-70B\", max_tokens=50)\n",
    "dspy.configure(lm=llama)"
   ]
  },
  {
   "cell_type": "code",
   "execution_count": 8,
   "id": "100fdf67-2ed3-460d-a9f0-acc8249ca999",
   "metadata": {},
   "outputs": [
    {
     "data": {
      "text/plain": [
       "Example({'cities': '0 1 2 3 4 5 6 7 8 9', 'distances': '[[0.0, 13.0, 5.0, 51.0, 14.6, 22.4, 35.8, 26.4, 48.2, 15.8], [13.0, 0.0, 15.5, 38.6, 4.2, 11.4, 25.5, 16.1, 35.4, 2.8], [5.0, 15.5, 0.0, 51.7, 18.0, 26.0, 35.2, 26.2, 49.4, 18.0], [51.0, 38.6, 51.7, 0.0, 39.4, 36.1, 19.0, 25.8, 6.3, 35.8], [14.6, 4.2, 18.0, 39.4, 0.0, 8.0, 28.1, 19.0, 35.6, 5.1], [22.4, 11.4, 26.0, 36.1, 8.0, 0.0, 28.6, 21.0, 31.3, 10.3], [35.8, 25.5, 35.2, 19.0, 28.1, 28.6, 0.0, 9.5, 20.0, 23.2], [26.4, 16.1, 26.2, 25.8, 19.0, 21.0, 9.5, 0.0, 24.7, 14.0], [48.2, 35.4, 49.4, 6.3, 35.6, 31.3, 20.0, 24.7, 0.0, 32.5], [15.8, 2.8, 18.0, 35.8, 5.1, 10.3, 23.2, 14.0, 32.5, 0.0]]', 'route': '0, 2, 7, 6, 3, 8, 5, 4, 9, 1', 'constraints': '(2, 3)'}) (input_keys={'distances', 'constraints', 'cities'})"
      ]
     },
     "execution_count": 8,
     "metadata": {},
     "output_type": "execute_result"
    }
   ],
   "source": [
    "pdp_trainset[0]"
   ]
  },
  {
   "cell_type": "code",
   "execution_count": 11,
   "id": "34204a54",
   "metadata": {},
   "outputs": [],
   "source": [
    "def check_order(route, pickup, delivery):\n",
    "    return route.index(pickup) < route.index(delivery)\n",
    "\n",
    "class PDP(dspy.Module):\n",
    "    def __init__(self):\n",
    "        super().__init__()\n",
    "        self.make_route = dspy.Predict(PDPSignature)\n",
    "        \n",
    "    def forward(self, cities, distances, constraints):\n",
    "        pred_route = self.make_route(cities=cities, distances=distances, constraints=constraints)\n",
    "        # TODO:\n",
    "        # i was passing in pred_route instead of pred_route.route. this is the problem. keep tracing through from this point on\n",
    "        numbers, pickup, delivery = extract_route(pred_route.route, constraints)\n",
    "        dspy.Suggest(\n",
    "                check_order(numbers, pickup, delivery),\n",
    "                f\"{pickup} must be visited before {delivery}\"\n",
    "            )\n",
    "        return pred_route\n",
    "    \n",
    "class PDPSignature(dspy.Signature):\n",
    "    \"\"\"Generate a TSP route starting at city 0 that visits the specified pickup before the delivery node, minimizing distance traveled.\"\"\"\n",
    "    cities = dspy.InputField(desc=\"List of city indices to visit\")\n",
    "    distances = dspy.InputField(desc=\"Matrix of distances between the cities\")\n",
    "    route = dspy.OutputField(desc=\"Optimized route visiting all cities with pickup and delivery\")\n",
    "    constraints = dspy.InputField(desc=\"Tuple containing pickup and delivery nodes\")\n",
    "\n",
    "\n",
    "def extract_route(route, constraints, N=NUM_CITIES):\n",
    "    # Extract the first N numbers from the route string\n",
    "    numbers = re.findall(r'\\d+', route)[:N]\n",
    "    \n",
    "    # Convert the numbers to integers\n",
    "    numbers = list(map(int, numbers))\n",
    "\n",
    "    pattern = r'\\((\\d+),\\s*(\\d+)\\)'\n",
    "\n",
    "    # Use re.search to find the numbers\n",
    "    match = re.search(pattern, constraints)\n",
    "    \n",
    "    if match:\n",
    "        pickup = int(match.group(1))\n",
    "        delivery = int(match.group(2))\n",
    "        # print(\"First number:\", pickup)\n",
    "        # print(\"Second number:\", delivery)\n",
    "    else:\n",
    "        print(\"No match found\")\n",
    "        \n",
    "    return numbers, pickup, delivery\n",
    "\n",
    "def eval_tour(cities, route, distances, constraints):\n",
    "    distances_matrix = np.array(eval(distances))\n",
    "    \n",
    "    try:\n",
    "        route, pickup, delivery = extract_route(route, constraints)  # make it a list of ints\n",
    "    except ValueError:\n",
    "        raise ValueError(f\"Invalid route: {route}\")\n",
    "    if len(route) != len(distances_matrix):\n",
    "        raise ValueError(f\"Route length {len(route)} does not match number of cities {len(distances_matrix)}\")\n",
    "\n",
    "    # Check precedence constraints\n",
    "    if route.index(pickup) > route.index(delivery):\n",
    "        raise ValueError(f\"Precedence constraint violated: {pickup} must be visited before {delivery}\")\n",
    "    \n",
    "    total_distance = sum(distances_matrix[route[i]][route[i + 1]] for i in range(len(route) - 1))\n",
    "    total_distance += distances_matrix[route[-1]][route[0]]\n",
    "    return total_distance\n",
    "\n",
    "# Validation function for the Precedence-Constrained TSP\n",
    "def metric(example, pred, trace=None):\n",
    "    try:\n",
    "        distance = eval_tour(example.cities, pred.route, example.distances, example.constraints)\n",
    "        return -distance  # Return negative distance to maximize the metric\n",
    "    except ValueError as e:\n",
    "        dspy.logger.error(e)\n",
    "        return -200"
   ]
  },
  {
   "cell_type": "code",
   "execution_count": 10,
   "id": "d0cb22a8-830d-44fd-84d3-c3080270b4ed",
   "metadata": {},
   "outputs": [
    {
     "name": "stderr",
     "output_type": "stream",
     "text": [
      "Average Metric: -2308.3999999999996 / 12  (-19236.7):  12%| | 12/100 [00:30<03:0\u001b[2m2024-07-31T20:55:10.666513Z\u001b[0m [\u001b[31m\u001b[1merror    \u001b[0m] \u001b[1mPrecedence constraint violated: 3 must be visited before 6\u001b[0m [\u001b[0m\u001b[1m\u001b[34m__main__\u001b[0m]\u001b[0m \u001b[36mfilename\u001b[0m=\u001b[35m3638666538.py\u001b[0m \u001b[36mlineno\u001b[0m=\u001b[35m75\u001b[0m\n",
      "Average Metric: -3400.1 / 18  (-18889.4):  18%|▏| 18/100 [00:47<03:00,  2.20s/it\u001b[2m2024-07-31T20:55:22.335106Z\u001b[0m [\u001b[33m\u001b[1mwarning  \u001b[0m] \u001b[1mReceived SIGINT. Cancelling evaluation.\u001b[0m [\u001b[0m\u001b[1m\u001b[34mdspy.evaluate.evaluate\u001b[0m]\u001b[0m \u001b[36mfilename\u001b[0m=\u001b[35mevaluate.py\u001b[0m \u001b[36mlineno\u001b[0m=\u001b[35m91\u001b[0m\n",
      "\u001b[2m2024-07-31T20:55:22.571383Z\u001b[0m [\u001b[33m\u001b[1mwarning  \u001b[0m] \u001b[1mReceived SIGINT. Cancelling evaluation.\u001b[0m [\u001b[0m\u001b[1m\u001b[34mdspy.evaluate.evaluate\u001b[0m]\u001b[0m \u001b[36mfilename\u001b[0m=\u001b[35mevaluate.py\u001b[0m \u001b[36mlineno\u001b[0m=\u001b[35m91\u001b[0m\n"
     ]
    },
    {
     "ename": "KeyboardInterrupt",
     "evalue": "",
     "output_type": "error",
     "traceback": [
      "\u001b[0;31m---------------------------------------------------------------------------\u001b[0m",
      "\u001b[0;31mKeyboardInterrupt\u001b[0m                         Traceback (most recent call last)",
      "File \u001b[0;32m~/Desktop/TSP_Hybrid/DSPy/dspy/lib/python3.11/site-packages/dspy/evaluate/evaluate.py:109\u001b[0m, in \u001b[0;36mEvaluate._execute_multi_thread\u001b[0;34m(self, wrapped_program, devset, num_threads, display_progress)\u001b[0m\n\u001b[1;32m    107\u001b[0m pbar \u001b[38;5;241m=\u001b[39m tqdm\u001b[38;5;241m.\u001b[39mtqdm(total\u001b[38;5;241m=\u001b[39m\u001b[38;5;28mlen\u001b[39m(devset), dynamic_ncols\u001b[38;5;241m=\u001b[39m\u001b[38;5;28;01mTrue\u001b[39;00m, disable\u001b[38;5;241m=\u001b[39m\u001b[38;5;129;01mnot\u001b[39;00m display_progress)\n\u001b[0;32m--> 109\u001b[0m \u001b[43m\u001b[49m\u001b[38;5;28;43;01mfor\u001b[39;49;00m\u001b[43m \u001b[49m\u001b[43mfuture\u001b[49m\u001b[43m \u001b[49m\u001b[38;5;129;43;01min\u001b[39;49;00m\u001b[43m \u001b[49m\u001b[43mas_completed\u001b[49m\u001b[43m(\u001b[49m\u001b[43mfutures\u001b[49m\u001b[43m)\u001b[49m\u001b[43m:\u001b[49m\n\u001b[1;32m    110\u001b[0m \u001b[43m    \u001b[49m\u001b[43mexample_idx\u001b[49m\u001b[43m,\u001b[49m\u001b[43m \u001b[49m\u001b[43mexample\u001b[49m\u001b[43m,\u001b[49m\u001b[43m \u001b[49m\u001b[43mprediction\u001b[49m\u001b[43m,\u001b[49m\u001b[43m \u001b[49m\u001b[43mscore\u001b[49m\u001b[43m \u001b[49m\u001b[38;5;241;43m=\u001b[39;49m\u001b[43m \u001b[49m\u001b[43mfuture\u001b[49m\u001b[38;5;241;43m.\u001b[39;49m\u001b[43mresult\u001b[49m\u001b[43m(\u001b[49m\u001b[43m)\u001b[49m\n",
      "File \u001b[0;32m~/miniconda3/lib/python3.11/concurrent/futures/_base.py:243\u001b[0m, in \u001b[0;36mas_completed\u001b[0;34m(fs, timeout)\u001b[0m\n\u001b[1;32m    239\u001b[0m         \u001b[38;5;28;01mraise\u001b[39;00m \u001b[38;5;167;01mTimeoutError\u001b[39;00m(\n\u001b[1;32m    240\u001b[0m                 \u001b[38;5;124m'\u001b[39m\u001b[38;5;132;01m%d\u001b[39;00m\u001b[38;5;124m (of \u001b[39m\u001b[38;5;132;01m%d\u001b[39;00m\u001b[38;5;124m) futures unfinished\u001b[39m\u001b[38;5;124m'\u001b[39m \u001b[38;5;241m%\u001b[39m (\n\u001b[1;32m    241\u001b[0m                 \u001b[38;5;28mlen\u001b[39m(pending), total_futures))\n\u001b[0;32m--> 243\u001b[0m \u001b[43mwaiter\u001b[49m\u001b[38;5;241;43m.\u001b[39;49m\u001b[43mevent\u001b[49m\u001b[38;5;241;43m.\u001b[39;49m\u001b[43mwait\u001b[49m\u001b[43m(\u001b[49m\u001b[43mwait_timeout\u001b[49m\u001b[43m)\u001b[49m\n\u001b[1;32m    245\u001b[0m \u001b[38;5;28;01mwith\u001b[39;00m waiter\u001b[38;5;241m.\u001b[39mlock:\n",
      "File \u001b[0;32m~/miniconda3/lib/python3.11/threading.py:629\u001b[0m, in \u001b[0;36mEvent.wait\u001b[0;34m(self, timeout)\u001b[0m\n\u001b[1;32m    628\u001b[0m \u001b[38;5;28;01mif\u001b[39;00m \u001b[38;5;129;01mnot\u001b[39;00m signaled:\n\u001b[0;32m--> 629\u001b[0m     signaled \u001b[38;5;241m=\u001b[39m \u001b[38;5;28;43mself\u001b[39;49m\u001b[38;5;241;43m.\u001b[39;49m\u001b[43m_cond\u001b[49m\u001b[38;5;241;43m.\u001b[39;49m\u001b[43mwait\u001b[49m\u001b[43m(\u001b[49m\u001b[43mtimeout\u001b[49m\u001b[43m)\u001b[49m\n\u001b[1;32m    630\u001b[0m \u001b[38;5;28;01mreturn\u001b[39;00m signaled\n",
      "File \u001b[0;32m~/miniconda3/lib/python3.11/threading.py:327\u001b[0m, in \u001b[0;36mCondition.wait\u001b[0;34m(self, timeout)\u001b[0m\n\u001b[1;32m    326\u001b[0m \u001b[38;5;28;01mif\u001b[39;00m timeout \u001b[38;5;129;01mis\u001b[39;00m \u001b[38;5;28;01mNone\u001b[39;00m:\n\u001b[0;32m--> 327\u001b[0m     \u001b[43mwaiter\u001b[49m\u001b[38;5;241;43m.\u001b[39;49m\u001b[43macquire\u001b[49m\u001b[43m(\u001b[49m\u001b[43m)\u001b[49m\n\u001b[1;32m    328\u001b[0m     gotit \u001b[38;5;241m=\u001b[39m \u001b[38;5;28;01mTrue\u001b[39;00m\n",
      "File \u001b[0;32m~/Desktop/TSP_Hybrid/DSPy/dspy/lib/python3.11/site-packages/dspy/evaluate/evaluate.py:92\u001b[0m, in \u001b[0;36mEvaluate._execute_multi_thread.<locals>.interrupt_handler_manager.<locals>.interrupt_handler\u001b[0;34m(sig, frame)\u001b[0m\n\u001b[1;32m     91\u001b[0m dspy\u001b[38;5;241m.\u001b[39mlogger\u001b[38;5;241m.\u001b[39mwarning(\u001b[38;5;124m\"\u001b[39m\u001b[38;5;124mReceived SIGINT. Cancelling evaluation.\u001b[39m\u001b[38;5;124m\"\u001b[39m)\n\u001b[0;32m---> 92\u001b[0m \u001b[43mdefault_handler\u001b[49m\u001b[43m(\u001b[49m\u001b[43msig\u001b[49m\u001b[43m,\u001b[49m\u001b[43m \u001b[49m\u001b[43mframe\u001b[49m\u001b[43m)\u001b[49m\n",
      "\u001b[0;31mKeyboardInterrupt\u001b[0m: ",
      "\nDuring handling of the above exception, another exception occurred:\n",
      "\u001b[0;31mKeyboardInterrupt\u001b[0m                         Traceback (most recent call last)",
      "Cell \u001b[0;32mIn[10], line 10\u001b[0m\n\u001b[1;32m      7\u001b[0m compiled_pdp \u001b[38;5;241m=\u001b[39m teleprompter\u001b[38;5;241m.\u001b[39mcompile(baleen_with_suggestions, trainset\u001b[38;5;241m=\u001b[39mpdp_trainset)\n\u001b[1;32m      9\u001b[0m evaluater \u001b[38;5;241m=\u001b[39m Evaluate(devset\u001b[38;5;241m=\u001b[39mpdp_testset, metric\u001b[38;5;241m=\u001b[39mmetric, num_threads\u001b[38;5;241m=\u001b[39mNUM_THREADS, display_progress\u001b[38;5;241m=\u001b[39m\u001b[38;5;28;01mTrue\u001b[39;00m, display_table\u001b[38;5;241m=\u001b[39m\u001b[38;5;241m0\u001b[39m)\n\u001b[0;32m---> 10\u001b[0m \u001b[43mevaluater\u001b[49m\u001b[43m(\u001b[49m\u001b[43mcompiled_pdp\u001b[49m\u001b[43m)\u001b[49m\n",
      "File \u001b[0;32m~/Desktop/TSP_Hybrid/DSPy/dspy/lib/python3.11/site-packages/dspy/evaluate/evaluate.py:193\u001b[0m, in \u001b[0;36mEvaluate.__call__\u001b[0;34m(self, program, metric, devset, num_threads, display_progress, display_table, return_all_scores, return_outputs)\u001b[0m\n\u001b[1;32m    191\u001b[0m     reordered_devset, ncorrect, ntotal \u001b[38;5;241m=\u001b[39m \u001b[38;5;28mself\u001b[39m\u001b[38;5;241m.\u001b[39m_execute_single_thread(wrapped_program, devset, display_progress)\n\u001b[1;32m    192\u001b[0m \u001b[38;5;28;01melse\u001b[39;00m:\n\u001b[0;32m--> 193\u001b[0m     reordered_devset, ncorrect, ntotal \u001b[38;5;241m=\u001b[39m \u001b[38;5;28;43mself\u001b[39;49m\u001b[38;5;241;43m.\u001b[39;49m\u001b[43m_execute_multi_thread\u001b[49m\u001b[43m(\u001b[49m\n\u001b[1;32m    194\u001b[0m \u001b[43m        \u001b[49m\u001b[43mwrapped_program\u001b[49m\u001b[43m,\u001b[49m\n\u001b[1;32m    195\u001b[0m \u001b[43m        \u001b[49m\u001b[43mdevset\u001b[49m\u001b[43m,\u001b[49m\n\u001b[1;32m    196\u001b[0m \u001b[43m        \u001b[49m\u001b[43mnum_threads\u001b[49m\u001b[43m,\u001b[49m\n\u001b[1;32m    197\u001b[0m \u001b[43m        \u001b[49m\u001b[43mdisplay_progress\u001b[49m\u001b[43m,\u001b[49m\n\u001b[1;32m    198\u001b[0m \u001b[43m    \u001b[49m\u001b[43m)\u001b[49m\n\u001b[1;32m    200\u001b[0m dspy\u001b[38;5;241m.\u001b[39mlogger\u001b[38;5;241m.\u001b[39minfo(\u001b[38;5;124mf\u001b[39m\u001b[38;5;124m\"\u001b[39m\u001b[38;5;124mAverage Metric: \u001b[39m\u001b[38;5;132;01m{\u001b[39;00mncorrect\u001b[38;5;132;01m}\u001b[39;00m\u001b[38;5;124m / \u001b[39m\u001b[38;5;132;01m{\u001b[39;00mntotal\u001b[38;5;132;01m}\u001b[39;00m\u001b[38;5;124m (\u001b[39m\u001b[38;5;132;01m{\u001b[39;00m\u001b[38;5;28mround\u001b[39m(\u001b[38;5;241m100\u001b[39m\u001b[38;5;250m \u001b[39m\u001b[38;5;241m*\u001b[39m\u001b[38;5;250m \u001b[39mncorrect\u001b[38;5;250m \u001b[39m\u001b[38;5;241m/\u001b[39m\u001b[38;5;250m \u001b[39mntotal,\u001b[38;5;250m \u001b[39m\u001b[38;5;241m1\u001b[39m)\u001b[38;5;132;01m}\u001b[39;00m\u001b[38;5;124m%)\u001b[39m\u001b[38;5;124m\"\u001b[39m)\n\u001b[1;32m    202\u001b[0m predicted_devset \u001b[38;5;241m=\u001b[39m \u001b[38;5;28msorted\u001b[39m(reordered_devset)\n",
      "File \u001b[0;32m~/Desktop/TSP_Hybrid/DSPy/dspy/lib/python3.11/site-packages/dspy/evaluate/evaluate.py:105\u001b[0m, in \u001b[0;36mEvaluate._execute_multi_thread\u001b[0;34m(self, wrapped_program, devset, num_threads, display_progress)\u001b[0m\n\u001b[1;32m    102\u001b[0m         \u001b[38;5;28;01mreturn\u001b[39;00m \u001b[38;5;28;01mNone\u001b[39;00m, \u001b[38;5;28;01mNone\u001b[39;00m, job_cancelled, \u001b[38;5;28;01mNone\u001b[39;00m\n\u001b[1;32m    103\u001b[0m     \u001b[38;5;28;01mreturn\u001b[39;00m wrapped_program(idx, arg)\n\u001b[0;32m--> 105\u001b[0m \u001b[43m\u001b[49m\u001b[38;5;28;43;01mwith\u001b[39;49;00m\u001b[43m \u001b[49m\u001b[43mThreadPoolExecutor\u001b[49m\u001b[43m(\u001b[49m\u001b[43mmax_workers\u001b[49m\u001b[38;5;241;43m=\u001b[39;49m\u001b[43mnum_threads\u001b[49m\u001b[43m)\u001b[49m\u001b[43m \u001b[49m\u001b[38;5;28;43;01mas\u001b[39;49;00m\u001b[43m \u001b[49m\u001b[43mexecutor\u001b[49m\u001b[43m,\u001b[49m\u001b[43m \u001b[49m\u001b[43minterrupt_handler_manager\u001b[49m\u001b[43m(\u001b[49m\u001b[43m)\u001b[49m\u001b[43m:\u001b[49m\n\u001b[1;32m    106\u001b[0m \u001b[43m    \u001b[49m\u001b[43mfutures\u001b[49m\u001b[43m \u001b[49m\u001b[38;5;241;43m=\u001b[39;49m\u001b[43m \u001b[49m\u001b[43m{\u001b[49m\u001b[43mexecutor\u001b[49m\u001b[38;5;241;43m.\u001b[39;49m\u001b[43msubmit\u001b[49m\u001b[43m(\u001b[49m\u001b[43mcancellable_wrapped_program\u001b[49m\u001b[43m,\u001b[49m\u001b[43m \u001b[49m\u001b[43midx\u001b[49m\u001b[43m,\u001b[49m\u001b[43m \u001b[49m\u001b[43marg\u001b[49m\u001b[43m)\u001b[49m\u001b[43m \u001b[49m\u001b[38;5;28;43;01mfor\u001b[39;49;00m\u001b[43m \u001b[49m\u001b[43midx\u001b[49m\u001b[43m,\u001b[49m\u001b[43m \u001b[49m\u001b[43marg\u001b[49m\u001b[43m \u001b[49m\u001b[38;5;129;43;01min\u001b[39;49;00m\u001b[43m \u001b[49m\u001b[43mdevset\u001b[49m\u001b[43m}\u001b[49m\n\u001b[1;32m    107\u001b[0m \u001b[43m    \u001b[49m\u001b[43mpbar\u001b[49m\u001b[43m \u001b[49m\u001b[38;5;241;43m=\u001b[39;49m\u001b[43m \u001b[49m\u001b[43mtqdm\u001b[49m\u001b[38;5;241;43m.\u001b[39;49m\u001b[43mtqdm\u001b[49m\u001b[43m(\u001b[49m\u001b[43mtotal\u001b[49m\u001b[38;5;241;43m=\u001b[39;49m\u001b[38;5;28;43mlen\u001b[39;49m\u001b[43m(\u001b[49m\u001b[43mdevset\u001b[49m\u001b[43m)\u001b[49m\u001b[43m,\u001b[49m\u001b[43m \u001b[49m\u001b[43mdynamic_ncols\u001b[49m\u001b[38;5;241;43m=\u001b[39;49m\u001b[38;5;28;43;01mTrue\u001b[39;49;00m\u001b[43m,\u001b[49m\u001b[43m \u001b[49m\u001b[43mdisable\u001b[49m\u001b[38;5;241;43m=\u001b[39;49m\u001b[38;5;129;43;01mnot\u001b[39;49;00m\u001b[43m \u001b[49m\u001b[43mdisplay_progress\u001b[49m\u001b[43m)\u001b[49m\n",
      "File \u001b[0;32m~/miniconda3/lib/python3.11/concurrent/futures/_base.py:647\u001b[0m, in \u001b[0;36mExecutor.__exit__\u001b[0;34m(self, exc_type, exc_val, exc_tb)\u001b[0m\n\u001b[1;32m    646\u001b[0m \u001b[38;5;28;01mdef\u001b[39;00m \u001b[38;5;21m__exit__\u001b[39m(\u001b[38;5;28mself\u001b[39m, exc_type, exc_val, exc_tb):\n\u001b[0;32m--> 647\u001b[0m     \u001b[38;5;28;43mself\u001b[39;49m\u001b[38;5;241;43m.\u001b[39;49m\u001b[43mshutdown\u001b[49m\u001b[43m(\u001b[49m\u001b[43mwait\u001b[49m\u001b[38;5;241;43m=\u001b[39;49m\u001b[38;5;28;43;01mTrue\u001b[39;49;00m\u001b[43m)\u001b[49m\n\u001b[1;32m    648\u001b[0m     \u001b[38;5;28;01mreturn\u001b[39;00m \u001b[38;5;28;01mFalse\u001b[39;00m\n",
      "File \u001b[0;32m~/miniconda3/lib/python3.11/concurrent/futures/thread.py:235\u001b[0m, in \u001b[0;36mThreadPoolExecutor.shutdown\u001b[0;34m(self, wait, cancel_futures)\u001b[0m\n\u001b[1;32m    233\u001b[0m \u001b[38;5;28;01mif\u001b[39;00m wait:\n\u001b[1;32m    234\u001b[0m     \u001b[38;5;28;01mfor\u001b[39;00m t \u001b[38;5;129;01min\u001b[39;00m \u001b[38;5;28mself\u001b[39m\u001b[38;5;241m.\u001b[39m_threads:\n\u001b[0;32m--> 235\u001b[0m         \u001b[43mt\u001b[49m\u001b[38;5;241;43m.\u001b[39;49m\u001b[43mjoin\u001b[49m\u001b[43m(\u001b[49m\u001b[43m)\u001b[49m\n",
      "File \u001b[0;32m~/miniconda3/lib/python3.11/threading.py:1119\u001b[0m, in \u001b[0;36mThread.join\u001b[0;34m(self, timeout)\u001b[0m\n\u001b[1;32m   1116\u001b[0m     \u001b[38;5;28;01mraise\u001b[39;00m \u001b[38;5;167;01mRuntimeError\u001b[39;00m(\u001b[38;5;124m\"\u001b[39m\u001b[38;5;124mcannot join current thread\u001b[39m\u001b[38;5;124m\"\u001b[39m)\n\u001b[1;32m   1118\u001b[0m \u001b[38;5;28;01mif\u001b[39;00m timeout \u001b[38;5;129;01mis\u001b[39;00m \u001b[38;5;28;01mNone\u001b[39;00m:\n\u001b[0;32m-> 1119\u001b[0m     \u001b[38;5;28;43mself\u001b[39;49m\u001b[38;5;241;43m.\u001b[39;49m\u001b[43m_wait_for_tstate_lock\u001b[49m\u001b[43m(\u001b[49m\u001b[43m)\u001b[49m\n\u001b[1;32m   1120\u001b[0m \u001b[38;5;28;01melse\u001b[39;00m:\n\u001b[1;32m   1121\u001b[0m     \u001b[38;5;66;03m# the behavior of a negative timeout isn't documented, but\u001b[39;00m\n\u001b[1;32m   1122\u001b[0m     \u001b[38;5;66;03m# historically .join(timeout=x) for x<0 has acted as if timeout=0\u001b[39;00m\n\u001b[1;32m   1123\u001b[0m     \u001b[38;5;28mself\u001b[39m\u001b[38;5;241m.\u001b[39m_wait_for_tstate_lock(timeout\u001b[38;5;241m=\u001b[39m\u001b[38;5;28mmax\u001b[39m(timeout, \u001b[38;5;241m0\u001b[39m))\n",
      "File \u001b[0;32m~/miniconda3/lib/python3.11/threading.py:1139\u001b[0m, in \u001b[0;36mThread._wait_for_tstate_lock\u001b[0;34m(self, block, timeout)\u001b[0m\n\u001b[1;32m   1136\u001b[0m     \u001b[38;5;28;01mreturn\u001b[39;00m\n\u001b[1;32m   1138\u001b[0m \u001b[38;5;28;01mtry\u001b[39;00m:\n\u001b[0;32m-> 1139\u001b[0m     \u001b[38;5;28;01mif\u001b[39;00m \u001b[43mlock\u001b[49m\u001b[38;5;241;43m.\u001b[39;49m\u001b[43macquire\u001b[49m\u001b[43m(\u001b[49m\u001b[43mblock\u001b[49m\u001b[43m,\u001b[49m\u001b[43m \u001b[49m\u001b[43mtimeout\u001b[49m\u001b[43m)\u001b[49m:\n\u001b[1;32m   1140\u001b[0m         lock\u001b[38;5;241m.\u001b[39mrelease()\n\u001b[1;32m   1141\u001b[0m         \u001b[38;5;28mself\u001b[39m\u001b[38;5;241m.\u001b[39m_stop()\n",
      "File \u001b[0;32m~/Desktop/TSP_Hybrid/DSPy/dspy/lib/python3.11/site-packages/dspy/evaluate/evaluate.py:92\u001b[0m, in \u001b[0;36mEvaluate._execute_multi_thread.<locals>.interrupt_handler_manager.<locals>.interrupt_handler\u001b[0;34m(sig, frame)\u001b[0m\n\u001b[1;32m     90\u001b[0m \u001b[38;5;28mself\u001b[39m\u001b[38;5;241m.\u001b[39mcancel_jobs\u001b[38;5;241m.\u001b[39mset()\n\u001b[1;32m     91\u001b[0m dspy\u001b[38;5;241m.\u001b[39mlogger\u001b[38;5;241m.\u001b[39mwarning(\u001b[38;5;124m\"\u001b[39m\u001b[38;5;124mReceived SIGINT. Cancelling evaluation.\u001b[39m\u001b[38;5;124m\"\u001b[39m)\n\u001b[0;32m---> 92\u001b[0m \u001b[43mdefault_handler\u001b[49m\u001b[43m(\u001b[49m\u001b[43msig\u001b[49m\u001b[43m,\u001b[49m\u001b[43m \u001b[49m\u001b[43mframe\u001b[49m\u001b[43m)\u001b[49m\n",
      "\u001b[0;31mKeyboardInterrupt\u001b[0m: "
     ]
    }
   ],
   "source": [
    "from dspy.primitives.assertions import backtrack_handler\n",
    "\n",
    "# Transform the module to include the backtracking mechanism\n",
    "baleen_with_suggestions = PDP().activate_assertions(backtrack_handler)\n",
    "\n",
    "teleprompter = LabeledFewShot(k=K)\n",
    "compiled_pdp = teleprompter.compile(baleen_with_suggestions, trainset=pdp_trainset)\n",
    "\n",
    "evaluater = Evaluate(devset=pdp_testset, metric=metric, num_threads=NUM_THREADS, display_progress=True, display_table=0)\n",
    "evaluater(compiled_pdp)"
   ]
  },
  {
   "cell_type": "code",
   "execution_count": 55,
   "id": "33585e61-ccf7-49b9-96f6-758c1fd39432",
   "metadata": {},
   "outputs": [
    {
     "name": "stdout",
     "output_type": "stream",
     "text": [
      "{'distance_matrix': [[0.0, 19.7, 21.2, 32.1, 7.0, 29.5, 6.7, 13.9, 39.1, 24.5], [19.7, 0.0, 19.8, 17.2, 13.6, 9.8, 21.1, 31.1, 19.8, 6.7], [21.2, 19.8, 0.0, 37.0, 21.4, 25.6, 16.2, 34.9, 30.0, 26.4], [32.1, 17.2, 37.0, 0.0, 25.1, 14.9, 35.9, 38.6, 23.0, 10.6], [7.0, 13.6, 21.4, 25.1, 0.0, 23.3, 11.7, 17.7, 33.4, 17.7], [29.5, 9.8, 25.6, 14.9, 23.3, 0.0, 30.6, 40.6, 10.8, 7.6], [6.7, 21.1, 16.2, 35.9, 11.7, 30.6, 0.0, 19.1, 39.0, 27.0], [13.9, 31.1, 34.9, 38.6, 17.7, 40.6, 19.1, 0.0, 51.0, 34.1], [39.1, 19.8, 30.0, 23.0, 33.4, 10.8, 39.0, 51.0, 0.0, 18.4], [24.5, 6.7, 26.4, 10.6, 17.7, 7.6, 27.0, 34.1, 18.4, 0.0]], 'route': [0, 7, 4, 1, 9, 3, 5, 8, 2, 6], 'optimal_distance': 135, 'constraints': [(4, 3)]}\n"
     ]
    }
   ],
   "source": [
    "test_example = pdp_testset[0]\n",
    "numerical_test_example = test_ds[4]\n",
    "print(numerical_test_example)"
   ]
  },
  {
   "cell_type": "code",
   "execution_count": 56,
   "id": "af359585-50b4-4c61-ad4f-aa038badba31",
   "metadata": {},
   "outputs": [
    {
     "name": "stdout",
     "output_type": "stream",
     "text": [
      "Predicted route: 0, 2, 3, 7, 6, 5, 1, 8, 9, 4\n",
      "\n",
      "---\n",
      "\n",
      "Cities: 0 1 2 3 4 5 6 7\n",
      "Total distance of the predicted route: 166.89999999999998\n",
      "Optimal route: 0, 3, 2, 5, 7, 4, 8, 1, 9, 6\n",
      "Total distance of the optimal route: 88.6\n"
     ]
    }
   ],
   "source": [
    "predicted_result = compiled_pdp(cities=test_example.cities, distances=test_example.distances, constraints=test_example.constraints)\n",
    "\n",
    "predicted_route = predicted_result.route\n",
    "\n",
    "predicted_distance = eval_tour(test_example.cities, predicted_route, test_example.distances, test_example.constraints)\n",
    "\n",
    "print(f\"Predicted route: {predicted_route}\")\n",
    "print(f\"Total distance of the predicted route: {predicted_distance}\")\n",
    "\n",
    "optimal_route = test_example.route\n",
    "optimal_distance = eval_tour(test_example.cities, optimal_route, test_example.distances, test_example.constraints)\n",
    "print(f\"Optimal route: {optimal_route}\")\n",
    "print(f\"Total distance of the optimal route: {optimal_distance}\")"
   ]
  },
  {
   "cell_type": "code",
   "execution_count": 57,
   "id": "9527cad0-c5cd-48c4-b683-6f2c2b51a81b",
   "metadata": {},
   "outputs": [
    {
     "name": "stdout",
     "output_type": "stream",
     "text": [
      "{'distance_matrix': [[0.0, 19.7, 21.2, 32.1, 7.0, 29.5, 6.7, 13.9, 39.1, 24.5], [19.7, 0.0, 19.8, 17.2, 13.6, 9.8, 21.1, 31.1, 19.8, 6.7], [21.2, 19.8, 0.0, 37.0, 21.4, 25.6, 16.2, 34.9, 30.0, 26.4], [32.1, 17.2, 37.0, 0.0, 25.1, 14.9, 35.9, 38.6, 23.0, 10.6], [7.0, 13.6, 21.4, 25.1, 0.0, 23.3, 11.7, 17.7, 33.4, 17.7], [29.5, 9.8, 25.6, 14.9, 23.3, 0.0, 30.6, 40.6, 10.8, 7.6], [6.7, 21.1, 16.2, 35.9, 11.7, 30.6, 0.0, 19.1, 39.0, 27.0], [13.9, 31.1, 34.9, 38.6, 17.7, 40.6, 19.1, 0.0, 51.0, 34.1], [39.1, 19.8, 30.0, 23.0, 33.4, 10.8, 39.0, 51.0, 0.0, 18.4], [24.5, 6.7, 26.4, 10.6, 17.7, 7.6, 27.0, 34.1, 18.4, 0.0]], 'route': [0, 7, 4, 1, 9, 3, 5, 8, 2, 6], 'optimal_distance': 135, 'constraints': [(4, 3)]}\n",
      "path is [0, 9, 6, 2, 7, 1, 4, 3, 8, 5]\n",
      "distance is 235.7\n"
     ]
    }
   ],
   "source": [
    "print(numerical_test_example)\n",
    "path, distance = random_baseline(numerical_test_example[\"distance_matrix\"], numerical_test_example[\"constraints\"])\n",
    "print(f\"path is {path}\")\n",
    "print(f\"distance is {distance}\")"
   ]
  },
  {
   "cell_type": "markdown",
   "id": "7a503978-0046-4595-a298-2d155bdc4763",
   "metadata": {},
   "source": [
    "Random baseline eval:"
   ]
  },
  {
   "cell_type": "code",
   "execution_count": 58,
   "id": "81efc486-8bfa-4eee-a5f4-b9ca6f536e62",
   "metadata": {},
   "outputs": [
    {
     "name": "stdout",
     "output_type": "stream",
     "text": [
      "(RANDOM) total distance is 20796.500000000004\n",
      "(RANDOM) average distance is 207.96500000000003\n"
     ]
    }
   ],
   "source": [
    "total_dis = 0\n",
    "for i in range(TEST_INSTANCES):\n",
    "    curr_example = test_ds[i]\n",
    "    _, distance = random_baseline(curr_example[\"distance_matrix\"], curr_example[\"constraints\"])\n",
    "    total_dis += distance\n",
    "print(f\"(RANDOM) total distance is {total_dis}\")\n",
    "print(f\"(RANDOM) average distance is {total_dis/TEST_INSTANCES}\")"
   ]
  },
  {
   "cell_type": "code",
   "execution_count": 59,
   "id": "4f00ff49-3153-48c9-a6b3-216ee58df78c",
   "metadata": {},
   "outputs": [
    {
     "name": "stderr",
     "output_type": "stream",
     "text": [
      "  0%|                                                   | 0/100 [00:00<?, ?it/s]\u001b[2m2024-07-31T18:58:42.482471Z\u001b[0m [\u001b[31m\u001b[1merror    \u001b[0m] \u001b[1mError for example in dev set: \t\t 6 must be visited before 4\u001b[0m [\u001b[0m\u001b[1m\u001b[34mdspy.evaluate.evaluate\u001b[0m]\u001b[0m \u001b[36mfilename\u001b[0m=\u001b[35mevaluate.py\u001b[0m \u001b[36mlineno\u001b[0m=\u001b[35m180\u001b[0m\n",
      "Average Metric: -630.8 / 4  (-15770.0):   4%|   | 4/100 [00:02<00:45,  2.10it/s]\u001b[2m2024-07-31T18:58:43.380359Z\u001b[0m [\u001b[31m\u001b[1merror    \u001b[0m] \u001b[1mError for example in dev set: \t\t 9 must be visited before 6\u001b[0m [\u001b[0m\u001b[1m\u001b[34mdspy.evaluate.evaluate\u001b[0m]\u001b[0m \u001b[36mfilename\u001b[0m=\u001b[35mevaluate.py\u001b[0m \u001b[36mlineno\u001b[0m=\u001b[35m180\u001b[0m\n",
      "Average Metric: -3104.7 / 16  (-19404.4):  15%|▏| 15/100 [00:05<00:29,  2.90it/s\u001b[2m2024-07-31T18:58:47.699435Z\u001b[0m [\u001b[31m\u001b[1merror    \u001b[0m] \u001b[1mError for example in dev set: \t\t 9 must be visited before 4\u001b[0m [\u001b[0m\u001b[1m\u001b[34mdspy.evaluate.evaluate\u001b[0m]\u001b[0m \u001b[36mfilename\u001b[0m=\u001b[35mevaluate.py\u001b[0m \u001b[36mlineno\u001b[0m=\u001b[35m180\u001b[0m\n",
      "Average Metric: -4508.6 / 24  (-18785.8):  23%|▏| 23/100 [00:08<00:26,  2.89it/s\u001b[2m2024-07-31T18:58:49.797669Z\u001b[0m [\u001b[31m\u001b[1merror    \u001b[0m] \u001b[1mError for example in dev set: \t\t 9 must be visited before 5\u001b[0m [\u001b[0m\u001b[1m\u001b[34mdspy.evaluate.evaluate\u001b[0m]\u001b[0m \u001b[36mfilename\u001b[0m=\u001b[35mevaluate.py\u001b[0m \u001b[36mlineno\u001b[0m=\u001b[35m180\u001b[0m\n",
      "Average Metric: -16456.8 / 90  (-18285.3):  90%|▉| 90/100 [1:06:17<07:21, 44.19s\n",
      "Average Metric: -16774.5 / 92  (-18233.2):  92%|▉| 92/100 [1:01:25<05:20, 40.06s\n",
      "Average Metric: -581.4 / 7  (-8305.7):   7%| | 7/100 [27:44<6:08:30, 237.75s/it]\n",
      "Average Metric: -1503.0 / 8  (-18787.5):   8%|▏ | 8/100 [04:38<53:18, 34.76s/it]\n"
     ]
    },
    {
     "ename": "DSPySuggestionError",
     "evalue": "3 must be visited before 2",
     "output_type": "error",
     "traceback": [
      "\u001b[0;31m---------------------------------------------------------------------------\u001b[0m",
      "\u001b[0;31mDSPySuggestionError\u001b[0m                       Traceback (most recent call last)",
      "Cell \u001b[0;32mIn[59], line 1\u001b[0m\n\u001b[0;32m----> 1\u001b[0m zs_TSP \u001b[38;5;241m=\u001b[39m \u001b[43mevaluater\u001b[49m\u001b[43m(\u001b[49m\u001b[43mPDP\u001b[49m\u001b[43m(\u001b[49m\u001b[43m)\u001b[49m\u001b[43m)\u001b[49m\n\u001b[1;32m      2\u001b[0m \u001b[38;5;28mprint\u001b[39m(\u001b[38;5;124mf\u001b[39m\u001b[38;5;124m\"\u001b[39m\u001b[38;5;124m(Zero Shot) average distance is \u001b[39m\u001b[38;5;132;01m{\u001b[39;00mzs_PDP\u001b[38;5;250m \u001b[39m\u001b[38;5;241m/\u001b[39m\u001b[38;5;250m \u001b[39m\u001b[38;5;28mlen\u001b[39m(pdp_testset)\u001b[38;5;132;01m}\u001b[39;00m\u001b[38;5;124m\"\u001b[39m)\n",
      "File \u001b[0;32m~/Desktop/TSP_Hybrid/DSPy/dspy/lib/python3.11/site-packages/dspy/evaluate/evaluate.py:193\u001b[0m, in \u001b[0;36mEvaluate.__call__\u001b[0;34m(self, program, metric, devset, num_threads, display_progress, display_table, return_all_scores, return_outputs)\u001b[0m\n\u001b[1;32m    191\u001b[0m     reordered_devset, ncorrect, ntotal \u001b[38;5;241m=\u001b[39m \u001b[38;5;28mself\u001b[39m\u001b[38;5;241m.\u001b[39m_execute_single_thread(wrapped_program, devset, display_progress)\n\u001b[1;32m    192\u001b[0m \u001b[38;5;28;01melse\u001b[39;00m:\n\u001b[0;32m--> 193\u001b[0m     reordered_devset, ncorrect, ntotal \u001b[38;5;241m=\u001b[39m \u001b[38;5;28;43mself\u001b[39;49m\u001b[38;5;241;43m.\u001b[39;49m\u001b[43m_execute_multi_thread\u001b[49m\u001b[43m(\u001b[49m\n\u001b[1;32m    194\u001b[0m \u001b[43m        \u001b[49m\u001b[43mwrapped_program\u001b[49m\u001b[43m,\u001b[49m\n\u001b[1;32m    195\u001b[0m \u001b[43m        \u001b[49m\u001b[43mdevset\u001b[49m\u001b[43m,\u001b[49m\n\u001b[1;32m    196\u001b[0m \u001b[43m        \u001b[49m\u001b[43mnum_threads\u001b[49m\u001b[43m,\u001b[49m\n\u001b[1;32m    197\u001b[0m \u001b[43m        \u001b[49m\u001b[43mdisplay_progress\u001b[49m\u001b[43m,\u001b[49m\n\u001b[1;32m    198\u001b[0m \u001b[43m    \u001b[49m\u001b[43m)\u001b[49m\n\u001b[1;32m    200\u001b[0m dspy\u001b[38;5;241m.\u001b[39mlogger\u001b[38;5;241m.\u001b[39minfo(\u001b[38;5;124mf\u001b[39m\u001b[38;5;124m\"\u001b[39m\u001b[38;5;124mAverage Metric: \u001b[39m\u001b[38;5;132;01m{\u001b[39;00mncorrect\u001b[38;5;132;01m}\u001b[39;00m\u001b[38;5;124m / \u001b[39m\u001b[38;5;132;01m{\u001b[39;00mntotal\u001b[38;5;132;01m}\u001b[39;00m\u001b[38;5;124m (\u001b[39m\u001b[38;5;132;01m{\u001b[39;00m\u001b[38;5;28mround\u001b[39m(\u001b[38;5;241m100\u001b[39m\u001b[38;5;250m \u001b[39m\u001b[38;5;241m*\u001b[39m\u001b[38;5;250m \u001b[39mncorrect\u001b[38;5;250m \u001b[39m\u001b[38;5;241m/\u001b[39m\u001b[38;5;250m \u001b[39mntotal,\u001b[38;5;250m \u001b[39m\u001b[38;5;241m1\u001b[39m)\u001b[38;5;132;01m}\u001b[39;00m\u001b[38;5;124m%)\u001b[39m\u001b[38;5;124m\"\u001b[39m)\n\u001b[1;32m    202\u001b[0m predicted_devset \u001b[38;5;241m=\u001b[39m \u001b[38;5;28msorted\u001b[39m(reordered_devset)\n",
      "File \u001b[0;32m~/Desktop/TSP_Hybrid/DSPy/dspy/lib/python3.11/site-packages/dspy/evaluate/evaluate.py:110\u001b[0m, in \u001b[0;36mEvaluate._execute_multi_thread\u001b[0;34m(self, wrapped_program, devset, num_threads, display_progress)\u001b[0m\n\u001b[1;32m    107\u001b[0m pbar \u001b[38;5;241m=\u001b[39m tqdm\u001b[38;5;241m.\u001b[39mtqdm(total\u001b[38;5;241m=\u001b[39m\u001b[38;5;28mlen\u001b[39m(devset), dynamic_ncols\u001b[38;5;241m=\u001b[39m\u001b[38;5;28;01mTrue\u001b[39;00m, disable\u001b[38;5;241m=\u001b[39m\u001b[38;5;129;01mnot\u001b[39;00m display_progress)\n\u001b[1;32m    109\u001b[0m \u001b[38;5;28;01mfor\u001b[39;00m future \u001b[38;5;129;01min\u001b[39;00m as_completed(futures):\n\u001b[0;32m--> 110\u001b[0m     example_idx, example, prediction, score \u001b[38;5;241m=\u001b[39m \u001b[43mfuture\u001b[49m\u001b[38;5;241;43m.\u001b[39;49m\u001b[43mresult\u001b[49m\u001b[43m(\u001b[49m\u001b[43m)\u001b[49m\n\u001b[1;32m    112\u001b[0m     \u001b[38;5;66;03m# use the cancelled_job literal to check if the job was cancelled - use \"is\" not \"==\"\u001b[39;00m\n\u001b[1;32m    113\u001b[0m     \u001b[38;5;66;03m# in case the prediction is \"cancelled\" for some reason.\u001b[39;00m\n\u001b[1;32m    114\u001b[0m     \u001b[38;5;28;01mif\u001b[39;00m prediction \u001b[38;5;129;01mis\u001b[39;00m job_cancelled:\n",
      "File \u001b[0;32m~/miniconda3/lib/python3.11/concurrent/futures/_base.py:449\u001b[0m, in \u001b[0;36mFuture.result\u001b[0;34m(self, timeout)\u001b[0m\n\u001b[1;32m    447\u001b[0m     \u001b[38;5;28;01mraise\u001b[39;00m CancelledError()\n\u001b[1;32m    448\u001b[0m \u001b[38;5;28;01melif\u001b[39;00m \u001b[38;5;28mself\u001b[39m\u001b[38;5;241m.\u001b[39m_state \u001b[38;5;241m==\u001b[39m FINISHED:\n\u001b[0;32m--> 449\u001b[0m     \u001b[38;5;28;01mreturn\u001b[39;00m \u001b[38;5;28;43mself\u001b[39;49m\u001b[38;5;241;43m.\u001b[39;49m\u001b[43m__get_result\u001b[49m\u001b[43m(\u001b[49m\u001b[43m)\u001b[49m\n\u001b[1;32m    451\u001b[0m \u001b[38;5;28mself\u001b[39m\u001b[38;5;241m.\u001b[39m_condition\u001b[38;5;241m.\u001b[39mwait(timeout)\n\u001b[1;32m    453\u001b[0m \u001b[38;5;28;01mif\u001b[39;00m \u001b[38;5;28mself\u001b[39m\u001b[38;5;241m.\u001b[39m_state \u001b[38;5;129;01min\u001b[39;00m [CANCELLED, CANCELLED_AND_NOTIFIED]:\n",
      "File \u001b[0;32m~/miniconda3/lib/python3.11/concurrent/futures/_base.py:401\u001b[0m, in \u001b[0;36mFuture.__get_result\u001b[0;34m(self)\u001b[0m\n\u001b[1;32m    399\u001b[0m \u001b[38;5;28;01mif\u001b[39;00m \u001b[38;5;28mself\u001b[39m\u001b[38;5;241m.\u001b[39m_exception:\n\u001b[1;32m    400\u001b[0m     \u001b[38;5;28;01mtry\u001b[39;00m:\n\u001b[0;32m--> 401\u001b[0m         \u001b[38;5;28;01mraise\u001b[39;00m \u001b[38;5;28mself\u001b[39m\u001b[38;5;241m.\u001b[39m_exception\n\u001b[1;32m    402\u001b[0m     \u001b[38;5;28;01mfinally\u001b[39;00m:\n\u001b[1;32m    403\u001b[0m         \u001b[38;5;66;03m# Break a reference cycle with the exception in self._exception\u001b[39;00m\n\u001b[1;32m    404\u001b[0m         \u001b[38;5;28mself\u001b[39m \u001b[38;5;241m=\u001b[39m \u001b[38;5;28;01mNone\u001b[39;00m\n",
      "File \u001b[0;32m~/miniconda3/lib/python3.11/concurrent/futures/thread.py:58\u001b[0m, in \u001b[0;36m_WorkItem.run\u001b[0;34m(self)\u001b[0m\n\u001b[1;32m     55\u001b[0m     \u001b[38;5;28;01mreturn\u001b[39;00m\n\u001b[1;32m     57\u001b[0m \u001b[38;5;28;01mtry\u001b[39;00m:\n\u001b[0;32m---> 58\u001b[0m     result \u001b[38;5;241m=\u001b[39m \u001b[38;5;28;43mself\u001b[39;49m\u001b[38;5;241;43m.\u001b[39;49m\u001b[43mfn\u001b[49m\u001b[43m(\u001b[49m\u001b[38;5;241;43m*\u001b[39;49m\u001b[38;5;28;43mself\u001b[39;49m\u001b[38;5;241;43m.\u001b[39;49m\u001b[43margs\u001b[49m\u001b[43m,\u001b[49m\u001b[43m \u001b[49m\u001b[38;5;241;43m*\u001b[39;49m\u001b[38;5;241;43m*\u001b[39;49m\u001b[38;5;28;43mself\u001b[39;49m\u001b[38;5;241;43m.\u001b[39;49m\u001b[43mkwargs\u001b[49m\u001b[43m)\u001b[49m\n\u001b[1;32m     59\u001b[0m \u001b[38;5;28;01mexcept\u001b[39;00m \u001b[38;5;167;01mBaseException\u001b[39;00m \u001b[38;5;28;01mas\u001b[39;00m exc:\n\u001b[1;32m     60\u001b[0m     \u001b[38;5;28mself\u001b[39m\u001b[38;5;241m.\u001b[39mfuture\u001b[38;5;241m.\u001b[39mset_exception(exc)\n",
      "File \u001b[0;32m~/Desktop/TSP_Hybrid/DSPy/dspy/lib/python3.11/site-packages/dspy/evaluate/evaluate.py:103\u001b[0m, in \u001b[0;36mEvaluate._execute_multi_thread.<locals>.cancellable_wrapped_program\u001b[0;34m(idx, arg)\u001b[0m\n\u001b[1;32m    101\u001b[0m \u001b[38;5;28;01mif\u001b[39;00m \u001b[38;5;28mself\u001b[39m\u001b[38;5;241m.\u001b[39mcancel_jobs\u001b[38;5;241m.\u001b[39mis_set():\n\u001b[1;32m    102\u001b[0m     \u001b[38;5;28;01mreturn\u001b[39;00m \u001b[38;5;28;01mNone\u001b[39;00m, \u001b[38;5;28;01mNone\u001b[39;00m, job_cancelled, \u001b[38;5;28;01mNone\u001b[39;00m\n\u001b[0;32m--> 103\u001b[0m \u001b[38;5;28;01mreturn\u001b[39;00m \u001b[43mwrapped_program\u001b[49m\u001b[43m(\u001b[49m\u001b[43midx\u001b[49m\u001b[43m,\u001b[49m\u001b[43m \u001b[49m\u001b[43marg\u001b[49m\u001b[43m)\u001b[49m\n",
      "File \u001b[0;32m~/Desktop/TSP_Hybrid/DSPy/dspy/lib/python3.11/site-packages/dspy/evaluate/evaluate.py:178\u001b[0m, in \u001b[0;36mEvaluate.__call__.<locals>.wrapped_program\u001b[0;34m(example_idx, example)\u001b[0m\n\u001b[1;32m    176\u001b[0m     current_error_count \u001b[38;5;241m=\u001b[39m \u001b[38;5;28mself\u001b[39m\u001b[38;5;241m.\u001b[39merror_count\n\u001b[1;32m    177\u001b[0m \u001b[38;5;28;01mif\u001b[39;00m current_error_count \u001b[38;5;241m>\u001b[39m\u001b[38;5;241m=\u001b[39m \u001b[38;5;28mself\u001b[39m\u001b[38;5;241m.\u001b[39mmax_errors:\n\u001b[0;32m--> 178\u001b[0m     \u001b[38;5;28;01mraise\u001b[39;00m e\n\u001b[1;32m    180\u001b[0m dspy\u001b[38;5;241m.\u001b[39mlogger\u001b[38;5;241m.\u001b[39merror(\u001b[38;5;124mf\u001b[39m\u001b[38;5;124m\"\u001b[39m\u001b[38;5;124mError for example in dev set: \u001b[39m\u001b[38;5;130;01m\\t\u001b[39;00m\u001b[38;5;130;01m\\t\u001b[39;00m\u001b[38;5;124m \u001b[39m\u001b[38;5;132;01m{\u001b[39;00me\u001b[38;5;132;01m}\u001b[39;00m\u001b[38;5;124m\"\u001b[39m)\n\u001b[1;32m    182\u001b[0m \u001b[38;5;28;01mreturn\u001b[39;00m example_idx, example, {}, \u001b[38;5;241m0.0\u001b[39m\n",
      "File \u001b[0;32m~/Desktop/TSP_Hybrid/DSPy/dspy/lib/python3.11/site-packages/dspy/evaluate/evaluate.py:160\u001b[0m, in \u001b[0;36mEvaluate.__call__.<locals>.wrapped_program\u001b[0;34m(example_idx, example)\u001b[0m\n\u001b[1;32m    157\u001b[0m     thread_stacks[threading\u001b[38;5;241m.\u001b[39mget_ident()] \u001b[38;5;241m=\u001b[39m \u001b[38;5;28mlist\u001b[39m(dspy\u001b[38;5;241m.\u001b[39msettings\u001b[38;5;241m.\u001b[39mmain_stack)\n\u001b[1;32m    159\u001b[0m \u001b[38;5;28;01mtry\u001b[39;00m:\n\u001b[0;32m--> 160\u001b[0m     prediction \u001b[38;5;241m=\u001b[39m \u001b[43mprogram\u001b[49m\u001b[43m(\u001b[49m\u001b[38;5;241;43m*\u001b[39;49m\u001b[38;5;241;43m*\u001b[39;49m\u001b[43mexample\u001b[49m\u001b[38;5;241;43m.\u001b[39;49m\u001b[43minputs\u001b[49m\u001b[43m(\u001b[49m\u001b[43m)\u001b[49m\u001b[43m)\u001b[49m\n\u001b[1;32m    161\u001b[0m     score \u001b[38;5;241m=\u001b[39m metric(\n\u001b[1;32m    162\u001b[0m         example,\n\u001b[1;32m    163\u001b[0m         prediction,\n\u001b[1;32m    164\u001b[0m     )  \u001b[38;5;66;03m# FIXME: TODO: What's the right order? Maybe force name-based kwargs!\u001b[39;00m\n\u001b[1;32m    166\u001b[0m     \u001b[38;5;66;03m# increment assert and suggest failures to program's attributes\u001b[39;00m\n",
      "File \u001b[0;32m~/Desktop/TSP_Hybrid/DSPy/dspy/lib/python3.11/site-packages/dspy/primitives/program.py:26\u001b[0m, in \u001b[0;36mModule.__call__\u001b[0;34m(self, *args, **kwargs)\u001b[0m\n\u001b[1;32m     25\u001b[0m \u001b[38;5;28;01mdef\u001b[39;00m \u001b[38;5;21m__call__\u001b[39m(\u001b[38;5;28mself\u001b[39m, \u001b[38;5;241m*\u001b[39margs, \u001b[38;5;241m*\u001b[39m\u001b[38;5;241m*\u001b[39mkwargs):\n\u001b[0;32m---> 26\u001b[0m     \u001b[38;5;28;01mreturn\u001b[39;00m \u001b[38;5;28;43mself\u001b[39;49m\u001b[38;5;241;43m.\u001b[39;49m\u001b[43mforward\u001b[49m\u001b[43m(\u001b[49m\u001b[38;5;241;43m*\u001b[39;49m\u001b[43margs\u001b[49m\u001b[43m,\u001b[49m\u001b[43m \u001b[49m\u001b[38;5;241;43m*\u001b[39;49m\u001b[38;5;241;43m*\u001b[39;49m\u001b[43mkwargs\u001b[49m\u001b[43m)\u001b[49m\n",
      "Cell \u001b[0;32mIn[53], line 14\u001b[0m, in \u001b[0;36mPDP.forward\u001b[0;34m(self, cities, distances, constraints)\u001b[0m\n\u001b[1;32m     11\u001b[0m \u001b[38;5;66;03m# TODO:\u001b[39;00m\n\u001b[1;32m     12\u001b[0m \u001b[38;5;66;03m# i was passing in pred_route instead of pred_route.route. this is the problem. keep tracing through from this point on\u001b[39;00m\n\u001b[1;32m     13\u001b[0m numbers, pickup, delivery \u001b[38;5;241m=\u001b[39m extract_route(pred_route\u001b[38;5;241m.\u001b[39mroute, constraints)\n\u001b[0;32m---> 14\u001b[0m \u001b[43mdspy\u001b[49m\u001b[38;5;241;43m.\u001b[39;49m\u001b[43mSuggest\u001b[49m\u001b[43m(\u001b[49m\n\u001b[1;32m     15\u001b[0m \u001b[43m        \u001b[49m\u001b[43mcheck_order\u001b[49m\u001b[43m(\u001b[49m\u001b[43mnumbers\u001b[49m\u001b[43m,\u001b[49m\u001b[43m \u001b[49m\u001b[43mpickup\u001b[49m\u001b[43m,\u001b[49m\u001b[43m \u001b[49m\u001b[43mdelivery\u001b[49m\u001b[43m)\u001b[49m\u001b[43m,\u001b[49m\n\u001b[1;32m     16\u001b[0m \u001b[43m        \u001b[49m\u001b[38;5;124;43mf\u001b[39;49m\u001b[38;5;124;43m\"\u001b[39;49m\u001b[38;5;132;43;01m{\u001b[39;49;00m\u001b[43mpickup\u001b[49m\u001b[38;5;132;43;01m}\u001b[39;49;00m\u001b[38;5;124;43m must be visited before \u001b[39;49m\u001b[38;5;132;43;01m{\u001b[39;49;00m\u001b[43mdelivery\u001b[49m\u001b[38;5;132;43;01m}\u001b[39;49;00m\u001b[38;5;124;43m\"\u001b[39;49m\n\u001b[1;32m     17\u001b[0m \u001b[43m    \u001b[49m\u001b[43m)\u001b[49m\n\u001b[1;32m     18\u001b[0m \u001b[38;5;28;01mreturn\u001b[39;00m pred_route\n",
      "File \u001b[0;32m~/Desktop/TSP_Hybrid/DSPy/dspy/lib/python3.11/site-packages/dspy/primitives/assertions.py:74\u001b[0m, in \u001b[0;36mConstraint.__init__\u001b[0;34m(self, result, msg, target_module, is_metric)\u001b[0m\n\u001b[1;32m     71\u001b[0m \u001b[38;5;28mself\u001b[39m\u001b[38;5;241m.\u001b[39mtarget_module \u001b[38;5;241m=\u001b[39m target_module\n\u001b[1;32m     72\u001b[0m \u001b[38;5;28mself\u001b[39m\u001b[38;5;241m.\u001b[39mis_metric \u001b[38;5;241m=\u001b[39m is_metric\n\u001b[0;32m---> 74\u001b[0m \u001b[38;5;28;43mself\u001b[39;49m\u001b[38;5;241;43m.\u001b[39;49m\u001b[38;5;21;43m__call__\u001b[39;49m\u001b[43m(\u001b[49m\u001b[43m)\u001b[49m\n",
      "File \u001b[0;32m~/Desktop/TSP_Hybrid/DSPy/dspy/lib/python3.11/site-packages/dspy/primitives/assertions.py:112\u001b[0m, in \u001b[0;36mSuggest.__call__\u001b[0;34m(self)\u001b[0m\n\u001b[1;32m    110\u001b[0m     \u001b[38;5;28;01melse\u001b[39;00m:\n\u001b[1;32m    111\u001b[0m         dspy\u001b[38;5;241m.\u001b[39mlogger\u001b[38;5;241m.\u001b[39minfo(\u001b[38;5;124mf\u001b[39m\u001b[38;5;124m\"\u001b[39m\u001b[38;5;124mSuggestionFailed: \u001b[39m\u001b[38;5;132;01m{\u001b[39;00m\u001b[38;5;28mself\u001b[39m\u001b[38;5;241m.\u001b[39mmsg\u001b[38;5;132;01m}\u001b[39;00m\u001b[38;5;124m\"\u001b[39m)\n\u001b[0;32m--> 112\u001b[0m         \u001b[38;5;28;01mraise\u001b[39;00m DSPySuggestionError(\n\u001b[1;32m    113\u001b[0m             \u001b[38;5;28mid\u001b[39m\u001b[38;5;241m=\u001b[39m\u001b[38;5;28mself\u001b[39m\u001b[38;5;241m.\u001b[39mid,\n\u001b[1;32m    114\u001b[0m             msg\u001b[38;5;241m=\u001b[39m\u001b[38;5;28mself\u001b[39m\u001b[38;5;241m.\u001b[39mmsg,\n\u001b[1;32m    115\u001b[0m             target_module\u001b[38;5;241m=\u001b[39m\u001b[38;5;28mself\u001b[39m\u001b[38;5;241m.\u001b[39mtarget_module,\n\u001b[1;32m    116\u001b[0m             state\u001b[38;5;241m=\u001b[39mdsp\u001b[38;5;241m.\u001b[39msettings\u001b[38;5;241m.\u001b[39mtrace,\n\u001b[1;32m    117\u001b[0m             is_metric\u001b[38;5;241m=\u001b[39m\u001b[38;5;28mself\u001b[39m\u001b[38;5;241m.\u001b[39mis_metric,\n\u001b[1;32m    118\u001b[0m         )\n\u001b[1;32m    119\u001b[0m \u001b[38;5;28;01melse\u001b[39;00m:\n\u001b[1;32m    120\u001b[0m     \u001b[38;5;28;01mraise\u001b[39;00m \u001b[38;5;167;01mValueError\u001b[39;00m(\u001b[38;5;124m\"\u001b[39m\u001b[38;5;124mSuggestion function should always return [bool]\u001b[39m\u001b[38;5;124m\"\u001b[39m)\n",
      "\u001b[0;31mDSPySuggestionError\u001b[0m: 3 must be visited before 2"
     ]
    }
   ],
   "source": [
    "zs_TSP = evaluater(PDP())\n",
    "print(f\"(Zero Shot) average distance is {zs_PDP / len(pdp_testset)}\")"
   ]
  },
  {
   "cell_type": "markdown",
   "id": "83abd91f-d0c1-43d1-bd30-d5a592ad0b72",
   "metadata": {},
   "source": [
    "Model eval:"
   ]
  },
  {
   "cell_type": "code",
   "execution_count": null,
   "id": "ad98ac9a-b6d3-4f26-880c-b25be747bc3a",
   "metadata": {},
   "outputs": [],
   "source": [
    "print(\"(MODEL) average distance is 159.6\")"
   ]
  },
  {
   "cell_type": "markdown",
   "id": "773ec6a9-2486-4119-a652-71e8542a10b0",
   "metadata": {},
   "source": [
    "Optimal route eval:"
   ]
  },
  {
   "cell_type": "code",
   "execution_count": null,
   "id": "6623461f-df0b-4a8e-a831-c6ee93470e97",
   "metadata": {},
   "outputs": [],
   "source": [
    "total_dis = 0\n",
    "for i in range(TEST_INSTANCES):\n",
    "    curr_example = test_ds[i]\n",
    "    total_dis += curr_example[\"optimal_distance\"]\n",
    "print(f\"(OPTIMAL) total distance is {total_dis}\")\n",
    "print(f\"(OPTIMAL) average distance is {total_dis/TEST_INSTANCES}\")"
   ]
  }
 ],
 "metadata": {
  "kernelspec": {
   "display_name": "Python (dspy-ai)",
   "language": "python",
   "name": "dspy"
  },
  "language_info": {
   "codemirror_mode": {
    "name": "ipython",
    "version": 3
   },
   "file_extension": ".py",
   "mimetype": "text/x-python",
   "name": "python",
   "nbconvert_exporter": "python",
   "pygments_lexer": "ipython3",
   "version": "3.11.8"
  }
 },
 "nbformat": 4,
 "nbformat_minor": 5
}
