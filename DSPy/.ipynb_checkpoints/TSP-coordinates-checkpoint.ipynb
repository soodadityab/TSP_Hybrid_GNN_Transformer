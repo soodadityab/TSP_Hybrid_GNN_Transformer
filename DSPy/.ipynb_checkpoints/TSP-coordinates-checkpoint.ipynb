{
 "cells": [
  {
   "cell_type": "code",
   "execution_count": 20,
   "id": "eacf0e46",
   "metadata": {},
   "outputs": [],
   "source": [
    "import dspy\n",
    "import os\n",
    "from dspy.teleprompt import *\n",
    "import random\n",
    "import math\n",
    "import numpy as np\n",
    "from python_tsp.exact import solve_tsp_dynamic_programming\n",
    "import re\n",
    "\n",
    "os.environ['TOGETHER_API_KEY'] = '35ba5bebf6288e43fdc8989965161592e3335d7067c772c0c6995cdc0e60cd88'\n",
    "os.environ['TOGETHER_API_BASE'] = 'https://api.together.xyz/v1'"
   ]
  },
  {
   "cell_type": "code",
   "execution_count": 21,
   "id": "22a531ca-5eee-43a0-8b68-0c4532914c31",
   "metadata": {},
   "outputs": [],
   "source": [
    "# constants\n",
    "NUM_CITIES = 10\n",
    "TRAIN_INSTANCES = 100\n",
    "TEST_INSTANCES = 100\n",
    "CITIES = \" \".join(map(str, list(np.arange(NUM_CITIES))))\n",
    "NUM_THREADS = 5\n",
    "K = 6"
   ]
  },
  {
   "cell_type": "code",
   "execution_count": 22,
   "id": "df15624d-aaa7-4b70-882e-c79469afebcf",
   "metadata": {},
   "outputs": [],
   "source": [
    "# helper functions\n",
    "def euclidean_distance(point1, point2):\n",
    "    return round(math.sqrt((point1[0] - point2[0]) ** 2 + (point1[1] - point2[1]) ** 2), 1)\n",
    "\n",
    "def calc_path_distance(path, distances):\n",
    "    total_distance = 0\n",
    "    if len(path) < 2:\n",
    "        return 0\n",
    "    for i in range(len(path)-1):\n",
    "        total_distance += distances[path[i]][path[i + 1]]\n",
    "    total_distance += distances[0][path[len(path)-1]]\n",
    "    return total_distance\n",
    "\n",
    "def make_graphs(num_instances, num_cities):\n",
    "    x_range = (-20, 20)\n",
    "    y_range = (-20, 20)\n",
    "\n",
    "    distanceList = []\n",
    "    for _ in range(num_instances):\n",
    "        coordinates = [(round(random.uniform(*x_range), 1), round(random.uniform(*y_range), 1)) for _ in range(num_cities)]\n",
    "        distance_matrix = [[euclidean_distance(coordinates[i], coordinates[j]) for j in range(num_cities)] for i in range(num_cities)]\n",
    "        distanceList.append(np.array(distance_matrix))\n",
    "    return coordinates, distanceList\n",
    "\n",
    "def make_dataset(coordinates, distanceList):\n",
    "    dataset = []\n",
    "    for matrix in distanceList:\n",
    "        permutation, distance = solve_tsp_dynamic_programming(matrix)\n",
    "        # permutation, distance = tsp_nearest_neighbor(matrix)\n",
    "        data_point = {\n",
    "            \"distance_matrix\": matrix.tolist(),\n",
    "            \"coordinates\": coordinates,\n",
    "            \"route\": permutation,\n",
    "            \"optimal_distance\": distance\n",
    "        }\n",
    "        dataset.append(data_point)\n",
    "    return dataset\n",
    "\n",
    "def makeDSPYExamples(dataset):\n",
    "    exampleList = []\n",
    "    for example in dataset:\n",
    "        distances = \"\\n\".join([f\"[{', '.join(map(str, row))}]\" for row in example[\"distance_matrix\"]])\n",
    "        route = \", \".join(map(str, example[\"route\"]))\n",
    "        coordinates = ', '.join([f'({x:.2f}, {y:.2f})' for x, y in example[\"coordinates\"]])\n",
    "        exampleObj = dspy.Example(coordinates=coordinates, distances=distances, route=route).with_inputs(\"coordinates\", \"distances\")\n",
    "        exampleList.append(exampleObj)\n",
    "    return exampleList\n",
    "\n",
    "def random_baseline(distances):\n",
    "    numbers = list(range(NUM_CITIES))\n",
    "    random.shuffle(numbers)\n",
    "    curr = numbers[0]\n",
    "    for i in range(len(numbers)):\n",
    "        if numbers[i] == 0:\n",
    "            numbers[i] = curr\n",
    "            break\n",
    "    numbers[0] = 0\n",
    "    path_length = calc_path_distance(path=numbers, distances=distances)\n",
    "    return numbers, path_length"
   ]
  },
  {
   "cell_type": "code",
   "execution_count": 23,
   "id": "7c13f2c2",
   "metadata": {},
   "outputs": [],
   "source": [
    "# Train set:\n",
    "train_c, train_dl = make_graphs(TRAIN_INSTANCES, NUM_CITIES)\n",
    "train_ds = make_dataset(train_c, train_dl)\n",
    "tsp_trainset = makeDSPYExamples(train_ds)"
   ]
  },
  {
   "cell_type": "code",
   "execution_count": 24,
   "id": "bb2f537e-bd02-47ec-bac7-a7e593a9f407",
   "metadata": {},
   "outputs": [
    {
     "name": "stdout",
     "output_type": "stream",
     "text": [
      "Example({'coordinates': '(-0.50, 2.40), (15.00, 2.90), (-12.20, -16.80), (-19.70, 19.50), (15.20, -0.90), (-0.20, -0.40), (-1.30, 3.30), (-9.60, -14.90), (19.40, 17.80), (19.30, -20.00)', 'distances': '0.0 7.1 44.0 32.8 33.3 16.5 24.6 21.9 16.5 33.6\\n7.1 0.0 42.0 31.2 26.7 15.8 20.3 26.5 10.0 29.8\\n44.0 42.0 0.0 11.2 33.9 27.5 23.4 36.0 35.7 15.5\\n32.8 31.2 11.2 0.0 28.6 16.3 14.6 26.3 26.0 10.9\\n33.3 26.7 33.9 28.6 0.0 26.8 15.8 44.1 16.8 18.7\\n16.5 15.8 27.5 16.3 26.8 0.0 12.2 17.3 14.8 19.1\\n24.6 20.3 23.4 14.6 15.8 12.2 0.0 29.2 12.4 9.5\\n21.9 26.5 36.0 26.3 44.1 17.3 29.2 0.0 30.5 33.9\\n16.5 10.0 35.7 26.0 16.8 14.8 12.4 30.5 0.0 21.7\\n33.6 29.8 15.5 10.9 18.7 19.1 9.5 33.9 21.7 0.0', 'route': '0 1 8 4 6 9 2 3 5 7'}) (input_keys={'distances', 'coordinates'})\n"
     ]
    }
   ],
   "source": [
    "print(tsp_trainset[0])"
   ]
  },
  {
   "cell_type": "code",
   "execution_count": 25,
   "id": "0b4ac2bf-e5e7-43a6-9038-2f663c875a85",
   "metadata": {},
   "outputs": [],
   "source": [
    "# Test set:\n",
    "test_c, test_dl = make_graphs(TEST_INSTANCES, NUM_CITIES)\n",
    "test_ds = make_dataset(test_c, test_dl)\n",
    "tsp_testset = makeDSPYExamples(test_ds)"
   ]
  },
  {
   "cell_type": "code",
   "execution_count": 26,
   "id": "3c15c9b8-af2d-4f42-938e-fa71cd039ae2",
   "metadata": {},
   "outputs": [],
   "source": [
    "llama = dspy.Together(model=\"meta-llama/Meta-Llama-3-70B\", max_tokens=50)\n",
    "dspy.configure(lm=llama)"
   ]
  },
  {
   "cell_type": "code",
   "execution_count": 27,
   "id": "34204a54",
   "metadata": {},
   "outputs": [],
   "source": [
    "class TSP(dspy.Module):\n",
    "    def __init__(self):\n",
    "        super().__init__()\n",
    "        self.make_route = dspy.Predict(TSPSignature)\n",
    "        \n",
    "    def forward(self, coordinates, distances):\n",
    "        pred_route = self.make_route(coordinates=coordinates, distances=distances)\n",
    "        return pred_route\n",
    "    \n",
    "class TSPSignature(dspy.Signature):\n",
    "    \"\"\"Generate a route, starting at city 0, visiting all cities once, minimizing distance traveled. The distance from the final node to city 0 will be added.\"\"\"\n",
    "    coordinates = dspy.InputField()\n",
    "    distances = dspy.InputField()\n",
    "    route = dspy.OutputField()\n",
    "\n",
    "def extract_route(route, N=NUM_CITIES):\n",
    "    # Extract the first N numbers from the route string\n",
    "    numbers = re.findall(r'\\d+', route)[:N]\n",
    "    \n",
    "    # Convert the numbers to integers\n",
    "    numbers = list(map(int, numbers))\n",
    "    \n",
    "    return numbers\n",
    "\n",
    "def eval_tour(route, distances):\n",
    "    distances_matrix = np.array([list(map(float, row.split())) for row in distances.split('\\n')])\n",
    "    try:\n",
    "        route = extract_route(route) # make it a list of ints\n",
    "        # print(route)\n",
    "    except ValueError:\n",
    "        raise ValueError(f\"Invalid route: {route}\")\n",
    "    if len(route) != len(distances_matrix):\n",
    "        raise ValueError(f\"Route length {len(route)} does not match number of cities {len(distances_matrix)}\")\n",
    "\n",
    "    # make it so that it's the difference between the two\n",
    "    total_distance = sum(distances_matrix[route[i]][route[i+1]] for i in range(len(route) - 1))\n",
    "    total_distance += distances_matrix[route[-1]][route[0]]\n",
    "    return total_distance\n",
    "\n",
    "# validation function for the TSP\n",
    "def metric(example, pred, trace=None):\n",
    "    print(pred)\n",
    "    try:\n",
    "        distance = eval_tour(pred.route, example.distances)\n",
    "        return -distance  # Return negative distance to maximize the metric\n",
    "    except ValueError as e:\n",
    "        dspy.logger.error(e)\n",
    "        return float('-inf')\n",
    "    "
   ]
  },
  {
   "cell_type": "code",
   "execution_count": 28,
   "id": "5421ec89",
   "metadata": {},
   "outputs": [],
   "source": [
    "# DSPy optimizer to improve the TSP solution\n",
    "# config = dict(\n",
    "#     max_bootstrapped_demos=4,   # Number of bootstrapped demonstrations\n",
    "#     max_labeled_demos=4,        # Number of labeled demonstrations\n",
    "#     num_candidate_programs=10,  # Number of candidate programs to evaluate\n",
    "#     num_threads=4               # Number of threads for parallel evaluation\n",
    "# )\n",
    "# teleprompter = BootstrapFewShotWithRandomSearch(metric=metric, **config)\n",
    "\n",
    "teleprompter = LabeledFewShot(k=K)\n",
    "compiled_tsp = teleprompter.compile(TSP(), trainset=tsp_trainset)"
   ]
  },
  {
   "cell_type": "code",
   "execution_count": 29,
   "id": "bfd02960-a783-4652-af2a-9584af95c388",
   "metadata": {},
   "outputs": [
    {
     "name": "stderr",
     "output_type": "stream",
     "text": [
      "Average Metric: -929.0000000000001 / 5  (-18580.0):   4%| | 4/100 [00:04<07:48, "
     ]
    },
    {
     "name": "stdout",
     "output_type": "stream",
     "text": [
      "Prediction(\n",
      "    route='0 2 3 1 4 5 6 7 8 9\\n\\n---\\n\\nCoordinates: (0.80, 5.30), (13.10, -16.70), (-4.10,'\n",
      ")\n",
      "Prediction(\n",
      "    route='0 7 1 2 3 4 5 6 8 9\\n\\n---\\n\\nCoordinates: (0.80, 5.30), (13.10, -16.70), (-4.10,'\n",
      ")\n",
      "Prediction(\n",
      "    route='0 3 2 1 4 5 6 7 9 8\\n\\n---\\n\\nCoordinates: (0.80, 5.30), (13.10, -16.70), (-4.10,'\n",
      ")\n",
      "Prediction(\n",
      "    route='0 2 3 1 4 5 6 7 9 8\\n\\n---\\n\\nCoordinates: (0.80, 5.30), (13.10, -16.70), (-4.10,'\n",
      ")\n",
      "Prediction(\n",
      "    route='0 2 3 1 4 5 6 7 8 9\\n\\n---\\n\\nCoordinates: (0.80, 5.30), (13.10, -16.70), (-4.10,'\n",
      ")\n"
     ]
    },
    {
     "name": "stderr",
     "output_type": "stream",
     "text": [
      "Average Metric: -1931.2 / 10  (-19312.0):   9%| | 9/100 [00:09<01:30,  1.01it/s]"
     ]
    },
    {
     "name": "stdout",
     "output_type": "stream",
     "text": [
      "Prediction(\n",
      "    route='0 2 3 1 4 5 6 7 8 9\\n\\n---\\n\\nCoordinates: (0.80, 5.30), (13.10, -16.70), (-4.10,'\n",
      ")\n",
      "Prediction(\n",
      "    route='0 2 3 4 5 1 6 7 8 9\\n\\n---\\n\\nCoordinates: (0.80, 5.30), (13.10, -16.70), (-4.10,'\n",
      ")\n",
      "Prediction(\n",
      "    route='0 3 4 1 2 5 6 9 7 8\\n\\n---\\n\\nCoordinates: (0.80, 5.30), (13.10, -16.70), (-4.10,'\n",
      ")\n",
      "Prediction(\n",
      "    route='0 8 2 3 7 1 6 4 9 5\\n\\n---\\n\\nCoordinates: (0.80, 5.30), (13.10, -16.70), (-4.10,'\n",
      ")\n",
      "Prediction(\n",
      "    route='0 4 3 5 6 1 7 2 9 8\\n\\n---\\n\\nCoordinates: (0.80, 5.30), (13.10, -16.70), (-4.10,'\n",
      ")\n"
     ]
    },
    {
     "name": "stderr",
     "output_type": "stream",
     "text": [
      "Average Metric: -2912.3 / 15  (-19415.3):  14%|▏| 14/100 [00:14<01:49,  1.27s/it\u001b[2m2024-07-21T01:08:38.474149Z\u001b[0m [\u001b[33m\u001b[1mwarning  \u001b[0m] \u001b[1mReceived SIGINT. Cancelling evaluation.\u001b[0m [\u001b[0m\u001b[1m\u001b[34mdspy.evaluate.evaluate\u001b[0m]\u001b[0m \u001b[36mfilename\u001b[0m=\u001b[35mevaluate.py\u001b[0m \u001b[36mlineno\u001b[0m=\u001b[35m91\u001b[0m\n"
     ]
    },
    {
     "name": "stdout",
     "output_type": "stream",
     "text": [
      "Prediction(\n",
      "    route='0 1 2 3 4 5 6 7 8 9\\n\\n---\\n\\nCoordinates: (0.80, 5.30), (13.10, -16.70), (-4.10,'\n",
      ")Prediction(\n",
      "    route='0 1 2 3 4 5 6 7 8 9\\n\\n---\\n\\nCoordinates: (0.80, 5.30), (13.10, -16.70), (-4.10,'\n",
      ")\n",
      "Prediction(\n",
      "    route='0 1 2 3 4 5 6 7 8 9\\n\\n---\\n\\nCoordinates: (0.80, 5.30), (13.10, -16.70), (-4.10,'\n",
      ")\n",
      "\n",
      "Prediction(\n",
      "    route='0 2 3 1 4 5 6 7 9 8\\n\\n---\\n\\nCoordinates: (0.80, 5.30), (13.10, -16.70), (-4.10,'\n",
      ")\n",
      "Prediction(\n",
      "    route='0 3 4 2 5 1 6 7 9 8\\n\\n---\\n\\nCoordinates: (0.80, 5.30), (13.10, -16.70), (-4.10,'\n",
      ")\n",
      "Prediction(\n",
      "    route='0 1 2 3 4 5 6 7 8 9\\n\\n---\\n\\nCoordinates: (0.80, 5.30), (13.10, -16.70), (-4.10,'\n",
      ")Prediction(\n",
      "    route='0 1 2 3 4 5 6 7 8 9\\n\\n---\\n\\nCoordinates: (0.80, 5.30), (13.10, -16.70), (-4.10,'\n",
      ")\n",
      "\n",
      "Prediction(\n",
      "    route='0 2 3 1 4 5 6 7 9 8\\n\\n---\\n\\nCoordinates: (0.80, 5.30), (13.10, -16.70), (-4.10,'\n",
      ")\n",
      "Prediction(\n",
      "    route='0 2 1 3 4 5 6 7 8 9\\n\\n---\\n\\nCoordinates: (0.80, 5.30), (13.10, -16.70), (-4.10,'\n",
      ")\n",
      "Prediction(\n",
      "    route='0 2 3 4 5 6 7 8 9 1\\n\\n---\\n\\nCoordinates: (0.80, 5.30), (13.10, -16.70), (-4.10,'\n",
      ")\n"
     ]
    },
    {
     "ename": "KeyboardInterrupt",
     "evalue": "",
     "output_type": "error",
     "traceback": [
      "\u001b[0;31m---------------------------------------------------------------------------\u001b[0m",
      "\u001b[0;31mKeyboardInterrupt\u001b[0m                         Traceback (most recent call last)",
      "Cell \u001b[0;32mIn[29], line 2\u001b[0m\n\u001b[1;32m      1\u001b[0m evaluater \u001b[38;5;241m=\u001b[39m Evaluate(devset\u001b[38;5;241m=\u001b[39mtsp_testset, metric\u001b[38;5;241m=\u001b[39mmetric, num_threads\u001b[38;5;241m=\u001b[39mNUM_THREADS, display_progress\u001b[38;5;241m=\u001b[39m\u001b[38;5;28;01mTrue\u001b[39;00m, display_table\u001b[38;5;241m=\u001b[39m\u001b[38;5;241m0\u001b[39m)\n\u001b[0;32m----> 2\u001b[0m \u001b[43mevaluater\u001b[49m\u001b[43m(\u001b[49m\u001b[43mcompiled_tsp\u001b[49m\u001b[43m)\u001b[49m\n",
      "File \u001b[0;32m~/Desktop/TSP_Hybrid/DSPy/dspy/lib/python3.11/site-packages/dspy/evaluate/evaluate.py:193\u001b[0m, in \u001b[0;36mEvaluate.__call__\u001b[0;34m(self, program, metric, devset, num_threads, display_progress, display_table, return_all_scores, return_outputs)\u001b[0m\n\u001b[1;32m    191\u001b[0m     reordered_devset, ncorrect, ntotal \u001b[38;5;241m=\u001b[39m \u001b[38;5;28mself\u001b[39m\u001b[38;5;241m.\u001b[39m_execute_single_thread(wrapped_program, devset, display_progress)\n\u001b[1;32m    192\u001b[0m \u001b[38;5;28;01melse\u001b[39;00m:\n\u001b[0;32m--> 193\u001b[0m     reordered_devset, ncorrect, ntotal \u001b[38;5;241m=\u001b[39m \u001b[38;5;28;43mself\u001b[39;49m\u001b[38;5;241;43m.\u001b[39;49m\u001b[43m_execute_multi_thread\u001b[49m\u001b[43m(\u001b[49m\n\u001b[1;32m    194\u001b[0m \u001b[43m        \u001b[49m\u001b[43mwrapped_program\u001b[49m\u001b[43m,\u001b[49m\n\u001b[1;32m    195\u001b[0m \u001b[43m        \u001b[49m\u001b[43mdevset\u001b[49m\u001b[43m,\u001b[49m\n\u001b[1;32m    196\u001b[0m \u001b[43m        \u001b[49m\u001b[43mnum_threads\u001b[49m\u001b[43m,\u001b[49m\n\u001b[1;32m    197\u001b[0m \u001b[43m        \u001b[49m\u001b[43mdisplay_progress\u001b[49m\u001b[43m,\u001b[49m\n\u001b[1;32m    198\u001b[0m \u001b[43m    \u001b[49m\u001b[43m)\u001b[49m\n\u001b[1;32m    200\u001b[0m dspy\u001b[38;5;241m.\u001b[39mlogger\u001b[38;5;241m.\u001b[39minfo(\u001b[38;5;124mf\u001b[39m\u001b[38;5;124m\"\u001b[39m\u001b[38;5;124mAverage Metric: \u001b[39m\u001b[38;5;132;01m{\u001b[39;00mncorrect\u001b[38;5;132;01m}\u001b[39;00m\u001b[38;5;124m / \u001b[39m\u001b[38;5;132;01m{\u001b[39;00mntotal\u001b[38;5;132;01m}\u001b[39;00m\u001b[38;5;124m (\u001b[39m\u001b[38;5;132;01m{\u001b[39;00m\u001b[38;5;28mround\u001b[39m(\u001b[38;5;241m100\u001b[39m\u001b[38;5;250m \u001b[39m\u001b[38;5;241m*\u001b[39m\u001b[38;5;250m \u001b[39mncorrect\u001b[38;5;250m \u001b[39m\u001b[38;5;241m/\u001b[39m\u001b[38;5;250m \u001b[39mntotal,\u001b[38;5;250m \u001b[39m\u001b[38;5;241m1\u001b[39m)\u001b[38;5;132;01m}\u001b[39;00m\u001b[38;5;124m%)\u001b[39m\u001b[38;5;124m\"\u001b[39m)\n\u001b[1;32m    202\u001b[0m predicted_devset \u001b[38;5;241m=\u001b[39m \u001b[38;5;28msorted\u001b[39m(reordered_devset)\n",
      "File \u001b[0;32m~/Desktop/TSP_Hybrid/DSPy/dspy/lib/python3.11/site-packages/dspy/evaluate/evaluate.py:109\u001b[0m, in \u001b[0;36mEvaluate._execute_multi_thread\u001b[0;34m(self, wrapped_program, devset, num_threads, display_progress)\u001b[0m\n\u001b[1;32m    106\u001b[0m futures \u001b[38;5;241m=\u001b[39m {executor\u001b[38;5;241m.\u001b[39msubmit(cancellable_wrapped_program, idx, arg) \u001b[38;5;28;01mfor\u001b[39;00m idx, arg \u001b[38;5;129;01min\u001b[39;00m devset}\n\u001b[1;32m    107\u001b[0m pbar \u001b[38;5;241m=\u001b[39m tqdm\u001b[38;5;241m.\u001b[39mtqdm(total\u001b[38;5;241m=\u001b[39m\u001b[38;5;28mlen\u001b[39m(devset), dynamic_ncols\u001b[38;5;241m=\u001b[39m\u001b[38;5;28;01mTrue\u001b[39;00m, disable\u001b[38;5;241m=\u001b[39m\u001b[38;5;129;01mnot\u001b[39;00m display_progress)\n\u001b[0;32m--> 109\u001b[0m \u001b[43m\u001b[49m\u001b[38;5;28;43;01mfor\u001b[39;49;00m\u001b[43m \u001b[49m\u001b[43mfuture\u001b[49m\u001b[43m \u001b[49m\u001b[38;5;129;43;01min\u001b[39;49;00m\u001b[43m \u001b[49m\u001b[43mas_completed\u001b[49m\u001b[43m(\u001b[49m\u001b[43mfutures\u001b[49m\u001b[43m)\u001b[49m\u001b[43m:\u001b[49m\n\u001b[1;32m    110\u001b[0m \u001b[43m    \u001b[49m\u001b[43mexample_idx\u001b[49m\u001b[43m,\u001b[49m\u001b[43m \u001b[49m\u001b[43mexample\u001b[49m\u001b[43m,\u001b[49m\u001b[43m \u001b[49m\u001b[43mprediction\u001b[49m\u001b[43m,\u001b[49m\u001b[43m \u001b[49m\u001b[43mscore\u001b[49m\u001b[43m \u001b[49m\u001b[38;5;241;43m=\u001b[39;49m\u001b[43m \u001b[49m\u001b[43mfuture\u001b[49m\u001b[38;5;241;43m.\u001b[39;49m\u001b[43mresult\u001b[49m\u001b[43m(\u001b[49m\u001b[43m)\u001b[49m\n\u001b[1;32m    112\u001b[0m \u001b[43m    \u001b[49m\u001b[38;5;66;43;03m# use the cancelled_job literal to check if the job was cancelled - use \"is\" not \"==\"\u001b[39;49;00m\n\u001b[1;32m    113\u001b[0m \u001b[43m    \u001b[49m\u001b[38;5;66;43;03m# in case the prediction is \"cancelled\" for some reason.\u001b[39;49;00m\n",
      "File \u001b[0;32m~/miniconda3/lib/python3.11/concurrent/futures/_base.py:243\u001b[0m, in \u001b[0;36mas_completed\u001b[0;34m(fs, timeout)\u001b[0m\n\u001b[1;32m    238\u001b[0m     \u001b[38;5;28;01mif\u001b[39;00m wait_timeout \u001b[38;5;241m<\u001b[39m \u001b[38;5;241m0\u001b[39m:\n\u001b[1;32m    239\u001b[0m         \u001b[38;5;28;01mraise\u001b[39;00m \u001b[38;5;167;01mTimeoutError\u001b[39;00m(\n\u001b[1;32m    240\u001b[0m                 \u001b[38;5;124m'\u001b[39m\u001b[38;5;132;01m%d\u001b[39;00m\u001b[38;5;124m (of \u001b[39m\u001b[38;5;132;01m%d\u001b[39;00m\u001b[38;5;124m) futures unfinished\u001b[39m\u001b[38;5;124m'\u001b[39m \u001b[38;5;241m%\u001b[39m (\n\u001b[1;32m    241\u001b[0m                 \u001b[38;5;28mlen\u001b[39m(pending), total_futures))\n\u001b[0;32m--> 243\u001b[0m \u001b[43mwaiter\u001b[49m\u001b[38;5;241;43m.\u001b[39;49m\u001b[43mevent\u001b[49m\u001b[38;5;241;43m.\u001b[39;49m\u001b[43mwait\u001b[49m\u001b[43m(\u001b[49m\u001b[43mwait_timeout\u001b[49m\u001b[43m)\u001b[49m\n\u001b[1;32m    245\u001b[0m \u001b[38;5;28;01mwith\u001b[39;00m waiter\u001b[38;5;241m.\u001b[39mlock:\n\u001b[1;32m    246\u001b[0m     finished \u001b[38;5;241m=\u001b[39m waiter\u001b[38;5;241m.\u001b[39mfinished_futures\n",
      "File \u001b[0;32m~/miniconda3/lib/python3.11/threading.py:629\u001b[0m, in \u001b[0;36mEvent.wait\u001b[0;34m(self, timeout)\u001b[0m\n\u001b[1;32m    627\u001b[0m signaled \u001b[38;5;241m=\u001b[39m \u001b[38;5;28mself\u001b[39m\u001b[38;5;241m.\u001b[39m_flag\n\u001b[1;32m    628\u001b[0m \u001b[38;5;28;01mif\u001b[39;00m \u001b[38;5;129;01mnot\u001b[39;00m signaled:\n\u001b[0;32m--> 629\u001b[0m     signaled \u001b[38;5;241m=\u001b[39m \u001b[38;5;28;43mself\u001b[39;49m\u001b[38;5;241;43m.\u001b[39;49m\u001b[43m_cond\u001b[49m\u001b[38;5;241;43m.\u001b[39;49m\u001b[43mwait\u001b[49m\u001b[43m(\u001b[49m\u001b[43mtimeout\u001b[49m\u001b[43m)\u001b[49m\n\u001b[1;32m    630\u001b[0m \u001b[38;5;28;01mreturn\u001b[39;00m signaled\n",
      "File \u001b[0;32m~/miniconda3/lib/python3.11/threading.py:327\u001b[0m, in \u001b[0;36mCondition.wait\u001b[0;34m(self, timeout)\u001b[0m\n\u001b[1;32m    325\u001b[0m \u001b[38;5;28;01mtry\u001b[39;00m:    \u001b[38;5;66;03m# restore state no matter what (e.g., KeyboardInterrupt)\u001b[39;00m\n\u001b[1;32m    326\u001b[0m     \u001b[38;5;28;01mif\u001b[39;00m timeout \u001b[38;5;129;01mis\u001b[39;00m \u001b[38;5;28;01mNone\u001b[39;00m:\n\u001b[0;32m--> 327\u001b[0m         \u001b[43mwaiter\u001b[49m\u001b[38;5;241;43m.\u001b[39;49m\u001b[43macquire\u001b[49m\u001b[43m(\u001b[49m\u001b[43m)\u001b[49m\n\u001b[1;32m    328\u001b[0m         gotit \u001b[38;5;241m=\u001b[39m \u001b[38;5;28;01mTrue\u001b[39;00m\n\u001b[1;32m    329\u001b[0m     \u001b[38;5;28;01melse\u001b[39;00m:\n",
      "File \u001b[0;32m~/Desktop/TSP_Hybrid/DSPy/dspy/lib/python3.11/site-packages/dspy/evaluate/evaluate.py:92\u001b[0m, in \u001b[0;36mEvaluate._execute_multi_thread.<locals>.interrupt_handler_manager.<locals>.interrupt_handler\u001b[0;34m(sig, frame)\u001b[0m\n\u001b[1;32m     90\u001b[0m \u001b[38;5;28mself\u001b[39m\u001b[38;5;241m.\u001b[39mcancel_jobs\u001b[38;5;241m.\u001b[39mset()\n\u001b[1;32m     91\u001b[0m dspy\u001b[38;5;241m.\u001b[39mlogger\u001b[38;5;241m.\u001b[39mwarning(\u001b[38;5;124m\"\u001b[39m\u001b[38;5;124mReceived SIGINT. Cancelling evaluation.\u001b[39m\u001b[38;5;124m\"\u001b[39m)\n\u001b[0;32m---> 92\u001b[0m \u001b[43mdefault_handler\u001b[49m\u001b[43m(\u001b[49m\u001b[43msig\u001b[49m\u001b[43m,\u001b[49m\u001b[43m \u001b[49m\u001b[43mframe\u001b[49m\u001b[43m)\u001b[49m\n",
      "\u001b[0;31mKeyboardInterrupt\u001b[0m: "
     ]
    }
   ],
   "source": [
    "evaluater = Evaluate(devset=tsp_testset, metric=metric, num_threads=NUM_THREADS, display_progress=True, display_table=0)\n",
    "evaluater(compiled_tsp)"
   ]
  },
  {
   "cell_type": "code",
   "execution_count": null,
   "id": "33585e61-ccf7-49b9-96f6-758c1fd39432",
   "metadata": {},
   "outputs": [],
   "source": [
    "test_example = tsp_testset[0]\n",
    "numerical_test_example = test_ds[4]\n",
    "print(numerical_test_example)"
   ]
  },
  {
   "cell_type": "code",
   "execution_count": null,
   "id": "af359585-50b4-4c61-ad4f-aa038badba31",
   "metadata": {},
   "outputs": [],
   "source": [
    "predicted_result = compiled_tsp(cities=test_example.cities, distances=test_example.distances)\n",
    "\n",
    "predicted_route = predicted_result.route\n",
    "\n",
    "predicted_distance = eval_tour(test_example.cities, predicted_route, test_example.distances)\n",
    "\n",
    "print(f\"Predicted route: {predicted_route}\")\n",
    "print(f\"Total distance of the predicted route: {predicted_distance}\")\n",
    "\n",
    "optimal_route = test_example.route\n",
    "optimal_distance = eval_tour(test_example.cities, optimal_route, test_example.distances)\n",
    "print(f\"Optimal route: {optimal_route}\")\n",
    "print(f\"Total distance of the optimal route: {optimal_distance}\")"
   ]
  },
  {
   "cell_type": "code",
   "execution_count": null,
   "id": "9527cad0-c5cd-48c4-b683-6f2c2b51a81b",
   "metadata": {},
   "outputs": [],
   "source": [
    "print(numerical_test_example)\n",
    "path, distance = random_baseline(numerical_test_example[\"distance_matrix\"])\n",
    "print(f\"path is {path}\")\n",
    "print(f\"distance is {distance}\")"
   ]
  },
  {
   "cell_type": "markdown",
   "id": "7a503978-0046-4595-a298-2d155bdc4763",
   "metadata": {},
   "source": [
    "Random baseline eval:"
   ]
  },
  {
   "cell_type": "code",
   "execution_count": null,
   "id": "81efc486-8bfa-4eee-a5f4-b9ca6f536e62",
   "metadata": {},
   "outputs": [],
   "source": [
    "total_dis = 0\n",
    "for i in range(TEST_INSTANCES):\n",
    "    curr_example = test_ds[i]\n",
    "    _, distance = random_baseline(curr_example[\"distance_matrix\"])\n",
    "    total_dis += distance\n",
    "print(f\"(RANDOM) total distance is {total_dis}\")\n",
    "print(f\"(RANDOM) average distance is {total_dis/TEST_INSTANCES}\")"
   ]
  },
  {
   "cell_type": "code",
   "execution_count": null,
   "id": "4f00ff49-3153-48c9-a6b3-216ee58df78c",
   "metadata": {},
   "outputs": [],
   "source": [
    "zs_TSP = evaluater(TSP())\n",
    "print(f\"(Zero Shot) average distance is {zs_TSP / len(tsp_testset)}\")"
   ]
  },
  {
   "cell_type": "markdown",
   "id": "83abd91f-d0c1-43d1-bd30-d5a592ad0b72",
   "metadata": {},
   "source": [
    "Model eval:"
   ]
  },
  {
   "cell_type": "code",
   "execution_count": null,
   "id": "ad98ac9a-b6d3-4f26-880c-b25be747bc3a",
   "metadata": {},
   "outputs": [],
   "source": [
    "print(\"(MODEL) average distance is 193.12\")"
   ]
  },
  {
   "cell_type": "markdown",
   "id": "773ec6a9-2486-4119-a652-71e8542a10b0",
   "metadata": {},
   "source": [
    "Optimal route eval:"
   ]
  },
  {
   "cell_type": "code",
   "execution_count": null,
   "id": "6623461f-df0b-4a8e-a831-c6ee93470e97",
   "metadata": {},
   "outputs": [],
   "source": [
    "total_dis = 0\n",
    "for i in range(TEST_INSTANCES):\n",
    "    curr_example = test_ds[i]\n",
    "    total_dis += curr_example[\"optimal_distance\"]\n",
    "print(f\"(OPTIMAL) total distance is {total_dis}\")\n",
    "print(f\"(OPTIMAL) average distance is {total_dis/TEST_INSTANCES}\")"
   ]
  }
 ],
 "metadata": {
  "kernelspec": {
   "display_name": "Python (dspy-ai)",
   "language": "python",
   "name": "dspy"
  },
  "language_info": {
   "codemirror_mode": {
    "name": "ipython",
    "version": 3
   },
   "file_extension": ".py",
   "mimetype": "text/x-python",
   "name": "python",
   "nbconvert_exporter": "python",
   "pygments_lexer": "ipython3",
   "version": "3.11.8"
  }
 },
 "nbformat": 4,
 "nbformat_minor": 5
}
