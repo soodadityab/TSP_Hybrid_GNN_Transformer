{
 "cells": [
  {
   "cell_type": "code",
   "execution_count": 58,
   "id": "eacf0e46",
   "metadata": {},
   "outputs": [],
   "source": [
    "import os\n",
    "import math\n",
    "import random\n",
    "import numpy as np\n",
    "import re\n",
    "import dspy\n",
    "from dspy.teleprompt import *\n",
    "from ortools.constraint_solver import pywrapcp, routing_enums_pb2\n",
    "\n",
    "os.environ['TOGETHER_API_KEY'] = '35ba5bebf6288e43fdc8989965161592e3335d7067c772c0c6995cdc0e60cd88'\n",
    "os.environ['TOGETHER_API_BASE'] = 'https://api.together.xyz/v1'"
   ]
  },
  {
   "cell_type": "code",
   "execution_count": 59,
   "id": "22a531ca-5eee-43a0-8b68-0c4532914c31",
   "metadata": {},
   "outputs": [],
   "source": [
    "# constants\n",
    "NUM_PAIRS = 1\n",
    "NUM_CITIES = 10\n",
    "TRAIN_INSTANCES = 100\n",
    "TEST_INSTANCES = 100\n",
    "CITIES = \" \".join(map(str, list(np.arange(NUM_CITIES))))\n",
    "# CITIES = \"[\" + \", \".join(map(str, list(np.arange(NUM_CITIES)))) + \"]\"\n",
    "NUM_THREADS = 5\n",
    "K = 6"
   ]
  },
  {
   "cell_type": "code",
   "execution_count": 60,
   "id": "7971a281-76a1-4afb-b2f9-6f8f4f947a7a",
   "metadata": {},
   "outputs": [],
   "source": [
    "# OR Tools\n",
    "def create_data_model(distance_matrix, constraints):\n",
    "    \"\"\"Stores the data for the problem.\"\"\"\n",
    "    data = {\n",
    "        \"distance_matrix\": distance_matrix,\n",
    "        \"pickups_deliveries\": constraints,\n",
    "        \"num_vehicles\": 1,\n",
    "        \"depot\": 0\n",
    "    }\n",
    "    return data\n",
    "\n",
    "def print_solution(data, manager, routing, solution):\n",
    "    \"\"\"Prints solution on console and returns the route and distance.\"\"\"\n",
    "    total_distance = 0\n",
    "    optimal_route = []\n",
    "    \n",
    "    for vehicle_id in range(data[\"num_vehicles\"]):\n",
    "        index = routing.Start(vehicle_id)\n",
    "        route = []\n",
    "        route_distance = 0\n",
    "        plan_output = f\"Route for vehicle {vehicle_id}:\\n\"\n",
    "        while not routing.IsEnd(index):\n",
    "            node_index = manager.IndexToNode(index)\n",
    "            route.append(node_index)\n",
    "            plan_output += f\" {node_index} -> \"\n",
    "            previous_index = index\n",
    "            index = solution.Value(routing.NextVar(index))\n",
    "            route_distance += routing.GetArcCostForVehicle(previous_index, index, vehicle_id)\n",
    "        node_index = manager.IndexToNode(index)\n",
    "        route.append(node_index)\n",
    "        plan_output += f\"{node_index}\\n\"\n",
    "        plan_output += f\"Distance of the route: {route_distance}m\\n\"\n",
    "        # print(plan_output)\n",
    "        optimal_route.append(route)\n",
    "        total_distance += route_distance\n",
    "    optimal_route = optimal_route[0][:-1]\n",
    "    # print(f\"Total Distance of all routes: {total_distance}m\")\n",
    "    return optimal_route, total_distance\n",
    "\n",
    "\n",
    "def solve_pdp_with_constraints(locations, constraints, distance_matrix, num_vehicles=1, depot=0):\n",
    "    \"\"\"Solve the PDP using OR-Tools.\"\"\"\n",
    "    locations = [list(loc) for loc in locations]\n",
    "    distance_matrix = distance_matrix.astype(int).tolist()\n",
    "\n",
    "    data = create_data_model(distance_matrix, constraints)\n",
    "\n",
    "    manager = pywrapcp.RoutingIndexManager(len(data[\"distance_matrix\"]), num_vehicles, depot)\n",
    "\n",
    "    routing = pywrapcp.RoutingModel(manager)\n",
    "\n",
    "    def distance_callback(from_index, to_index):\n",
    "        from_node = manager.IndexToNode(from_index)\n",
    "        to_node = manager.IndexToNode(to_index)\n",
    "        return data[\"distance_matrix\"][from_node][to_node]\n",
    "\n",
    "    transit_callback_index = routing.RegisterTransitCallback(distance_callback)\n",
    "    routing.SetArcCostEvaluatorOfAllVehicles(transit_callback_index)\n",
    "\n",
    "    dimension_name = \"Distance\"\n",
    "    routing.AddDimension(\n",
    "        transit_callback_index,\n",
    "        0,  # no slack\n",
    "        3000,  # vehicle maximum travel distance\n",
    "        True,  # start cumul to zero\n",
    "        dimension_name,\n",
    "    )\n",
    "    distance_dimension = routing.GetDimensionOrDie(dimension_name)\n",
    "    distance_dimension.SetGlobalSpanCostCoefficient(100)\n",
    "\n",
    "    for request in data[\"pickups_deliveries\"]:\n",
    "        pickup_index = manager.NodeToIndex(request[0])\n",
    "        delivery_index = manager.NodeToIndex(request[1])\n",
    "        routing.AddPickupAndDelivery(pickup_index, delivery_index)\n",
    "        routing.solver().Add(routing.VehicleVar(pickup_index) == routing.VehicleVar(delivery_index))\n",
    "        routing.solver().Add(distance_dimension.CumulVar(pickup_index) <= distance_dimension.CumulVar(delivery_index))\n",
    "\n",
    "    search_parameters = pywrapcp.DefaultRoutingSearchParameters()\n",
    "    search_parameters.first_solution_strategy = routing_enums_pb2.FirstSolutionStrategy.PARALLEL_CHEAPEST_INSERTION\n",
    "\n",
    "    solution = routing.SolveWithParameters(search_parameters)\n",
    "\n",
    "    if solution:\n",
    "        optimal_route, total_distance = print_solution(data, manager, routing, solution)\n",
    "        return optimal_route, total_distance\n",
    "    else:\n",
    "        print(\"No solution found!\")\n",
    "        return None"
   ]
  },
  {
   "cell_type": "code",
   "execution_count": 61,
   "id": "df15624d-aaa7-4b70-882e-c79469afebcf",
   "metadata": {},
   "outputs": [],
   "source": [
    "def euclidean_distance(point1, point2):\n",
    "    return round(math.sqrt((point1[0] - point2[0]) ** 2 + (point1[1] - point2[1]) ** 2), 1)\n",
    "\n",
    "def calc_path_distance(path, distances):\n",
    "    total_distance = 0\n",
    "    if len(path) < 2:\n",
    "        return 0\n",
    "    for i in range(len(path) - 1):\n",
    "        total_distance += distances[path[i]][path[i + 1]]\n",
    "    total_distance += distances[path[-1]][path[0]]\n",
    "    return total_distance\n",
    "\n",
    "def make_graphs(num_instances, num_cities):\n",
    "    x_range = (-20, 20)\n",
    "    y_range = (-20, 20)\n",
    "\n",
    "    distanceList = []\n",
    "    precedence_constraints = []\n",
    "    for _ in range(num_instances):\n",
    "        coordinates = [(random.randint(*x_range), random.randint(*y_range)) for _ in range(num_cities)]\n",
    "        distance_matrix = [[euclidean_distance(coordinates[i], coordinates[j]) for j in range(num_cities)] for i in range(num_cities)]\n",
    "        \n",
    "        # Generate NUM_PAIRS random precedence pairs\n",
    "        # ensures there is no constraint where 0 is after sumn\n",
    "        pairs = []\n",
    "        for _ in range(NUM_PAIRS):\n",
    "            a, b = random.sample(range(1, num_cities), 2)\n",
    "            pairs.append((a, b))\n",
    "        \n",
    "        distanceList.append(np.array(distance_matrix))\n",
    "        precedence_constraints.append(pairs)\n",
    "    return coordinates, distanceList, precedence_constraints\n",
    "\n",
    "def make_dataset(coordinates, distanceList, precedence_constraints):\n",
    "    dataset = []\n",
    "    for i in range(len(distanceList)):\n",
    "        matrix = distanceList[i]\n",
    "        constraints = precedence_constraints[i]\n",
    "        # Replace with your own PDP solver or use OR-tools for a quick setup\n",
    "        optimal_route, total_distance = solve_pdp_with_constraints(locations=coordinates, constraints=constraints, distance_matrix=matrix)\n",
    "        data_point = {\n",
    "            \"distance_matrix\": matrix.tolist(),\n",
    "            \"route\": optimal_route,\n",
    "            \"optimal_distance\": total_distance,\n",
    "            \"constraints\": constraints\n",
    "        }\n",
    "        dataset.append(data_point)\n",
    "    return dataset\n",
    "\n",
    "def makeDSPYExamples(dataset):\n",
    "    exampleList = []\n",
    "    for example in dataset:\n",
    "        distances = \"[\" + \", \".join([f\"[{', '.join(map(str, row))}]\" for row in example[\"distance_matrix\"]]) + \"]\"\n",
    "        route = \", \".join(map(str, example[\"route\"]))\n",
    "        pickup_node = \" \".join([f\"{p[0]}\" for p in example[\"constraints\"]])\n",
    "        delivery_node = \" \".join([f\"{p[1]}\" for p in example[\"constraints\"]])\n",
    "        exampleObj = dspy.Example(cities=CITIES, distances=distances, route=route, pickup=pickup_node, delivery=delivery_node).with_inputs(\"cities\", \"distances\", \"pickup\", \"delivery\")\n",
    "        exampleList.append(exampleObj)\n",
    "    return exampleList\n",
    "\n",
    "def random_baseline(distances, pickup, delivery):\n",
    "    numbers = list(range(1, NUM_CITIES))\n",
    "    random.shuffle(numbers)\n",
    "    numbers.insert(0, 0)\n",
    "    if numbers.index(pickup) > numbers.index(delivery):\n",
    "        numbers.remove(pickup)\n",
    "        numbers.insert(numbers.index(delivery), pickup)\n",
    "    \n",
    "    path_length = calc_path_distance(path=numbers, distances=distances)\n",
    "    return numbers, path_length"
   ]
  },
  {
   "cell_type": "code",
   "execution_count": 62,
   "id": "7c13f2c2",
   "metadata": {},
   "outputs": [],
   "source": [
    "# Train set:\n",
    "train_coordinates, train_dl, train_p = make_graphs(TRAIN_INSTANCES, NUM_CITIES)\n",
    "train_ds = make_dataset(train_coordinates, train_dl, train_p)\n",
    "pdp_trainset = makeDSPYExamples(train_ds)"
   ]
  },
  {
   "cell_type": "code",
   "execution_count": 63,
   "id": "0b4ac2bf-e5e7-43a6-9038-2f663c875a85",
   "metadata": {},
   "outputs": [],
   "source": [
    "# Test set:\n",
    "test_coordinates, test_dl, test_p = make_graphs(TEST_INSTANCES, NUM_CITIES)\n",
    "test_ds = make_dataset(test_coordinates, test_dl, test_p)\n",
    "pdp_testset = makeDSPYExamples(test_ds)"
   ]
  },
  {
   "cell_type": "code",
   "execution_count": 64,
   "id": "3c15c9b8-af2d-4f42-938e-fa71cd039ae2",
   "metadata": {},
   "outputs": [],
   "source": [
    "llama = dspy.Together(model=\"meta-llama/Meta-Llama-3-70B\", max_tokens=50)\n",
    "dspy.configure(lm=llama)"
   ]
  },
  {
   "cell_type": "code",
   "execution_count": 65,
   "id": "100fdf67-2ed3-460d-a9f0-acc8249ca999",
   "metadata": {},
   "outputs": [
    {
     "data": {
      "text/plain": [
       "Example({'cities': '0 1 2 3 4 5 6 7 8 9', 'distances': '[[0.0, 9.8, 22.5, 6.7, 8.1, 27.9, 13.4, 25.3, 31.6, 7.2], [9.8, 0.0, 23.2, 11.7, 12.1, 21.1, 3.6, 29.4, 34.0, 8.5], [22.5, 23.2, 0.0, 15.8, 14.4, 19.2, 25.0, 10.0, 11.2, 16.2], [6.7, 11.7, 15.8, 0.0, 1.4, 24.0, 15.0, 19.0, 25.0, 3.6], [8.1, 12.1, 14.4, 1.4, 0.0, 23.0, 15.3, 18.0, 23.8, 3.6], [27.9, 21.1, 19.2, 24.0, 23.0, 0.0, 19.8, 29.2, 28.6, 21.2], [13.4, 3.6, 25.0, 15.0, 15.3, 19.8, 0.0, 32.0, 36.1, 11.7], [25.3, 29.4, 10.0, 19.0, 18.0, 29.2, 32.0, 0.0, 7.8, 21.1], [31.6, 34.0, 11.2, 25.0, 23.8, 28.6, 36.1, 7.8, 0.0, 26.3], [7.2, 8.5, 16.2, 3.6, 3.6, 21.2, 11.7, 21.1, 26.3, 0.0]]', 'route': '0, 1, 6, 5, 2, 8, 7, 4, 3, 9', 'pickup': '5', 'delivery': '9'}) (input_keys={'distances', 'pickup', 'cities', 'delivery'})"
      ]
     },
     "execution_count": 65,
     "metadata": {},
     "output_type": "execute_result"
    }
   ],
   "source": [
    "pdp_trainset[0]"
   ]
  },
  {
   "cell_type": "code",
   "execution_count": 66,
   "id": "34204a54",
   "metadata": {},
   "outputs": [],
   "source": [
    "def check_order(route, pickup, delivery):\n",
    "    return route.index(pickup) < route.index(delivery)\n",
    "\n",
    "class PDP(dspy.Module):\n",
    "    def __init__(self):\n",
    "        super().__init__()\n",
    "        self.make_route = dspy.Predict(PDPSignature)\n",
    "        \n",
    "    def forward(self, cities, distances, pickup, delivery):\n",
    "        pred_route = self.make_route(cities=cities, distances=distances, pickup=pickup, delivery=delivery)\n",
    "        numbers, pickup, delivery = extract_route(pred_route.route, pickup, delivery)\n",
    "        dspy.Suggest(\n",
    "                check_order(numbers, pickup, delivery),\n",
    "                f\"In the route, the index of {pickup} must be before that of {delivery}\"\n",
    "            )\n",
    "        return pred_route\n",
    "    \n",
    "class PDPSignature(dspy.Signature):\n",
    "    \"\"\"generate a TSP route starting at city 0 that visits the pickup node before the delivery node.\"\"\"\n",
    "    cities = dspy.InputField(desc=\"list of city indices to visit\")\n",
    "    distances = dspy.InputField(desc=\"matrix of distances between the cities\")\n",
    "    route = dspy.OutputField(desc=\"optimized route visiting all cities and adhering to constraints\")\n",
    "    pickup = dspy.InputField(desc=\"pickup node\")\n",
    "    delivery = dspy.InputField(desc=\"delivery node\")\n",
    "\n",
    "\n",
    "def extract_route(route, pickup, delivery, N=NUM_CITIES):\n",
    "    # Extract the first N numbers from the route string\n",
    "    numbers = re.findall(r'\\d+', route)[:N]\n",
    "    \n",
    "    # Convert the numbers to integers\n",
    "    numbers = list(map(int, numbers))\n",
    "\n",
    "    pattern = r'\\((\\d+),\\s*(\\d+)\\)'\n",
    "\n",
    "    pickup = int(pickup)\n",
    "    delivery = int(delivery)\n",
    "    \n",
    "    return numbers, pickup, delivery\n",
    "\n",
    "def eval_tour(cities, route, distances,  pickup, delivery):\n",
    "    distances_matrix = np.array(eval(distances))\n",
    "    \n",
    "    try:\n",
    "        route, pickup, delivery = extract_route(route, pickup, delivery)  # make it a list of ints\n",
    "    except ValueError:\n",
    "        raise ValueError(f\"Invalid route: {route}\")\n",
    "    if len(route) != len(distances_matrix):\n",
    "        raise ValueError(f\"Route length {len(route)} does not match number of cities {len(distances_matrix)}\")\n",
    "\n",
    "    # Check precedence constraints\n",
    "    if route.index(pickup) > route.index(delivery):\n",
    "        raise ValueError(f\"Precedence constraint violated: {pickup} must be visited before {delivery}\")\n",
    "    \n",
    "    total_distance = sum(distances_matrix[route[i]][route[i + 1]] for i in range(len(route) - 1))\n",
    "    total_distance += distances_matrix[route[-1]][route[0]]\n",
    "    return total_distance\n",
    "\n",
    "# Validation function for the Precedence-Constrained TSP\n",
    "def metric(example, pred, trace=None):\n",
    "    try:\n",
    "        distance = eval_tour(example.cities, pred.route, example.distances, example.pickup, example.delivery)\n",
    "        return -distance  # Return negative distance to maximize the metric\n",
    "    except ValueError as e:\n",
    "        dspy.logger.error(e)\n",
    "        return -200"
   ]
  },
  {
   "cell_type": "code",
   "execution_count": 67,
   "id": "d0cb22a8-830d-44fd-84d3-c3080270b4ed",
   "metadata": {},
   "outputs": [
    {
     "name": "stderr",
     "output_type": "stream",
     "text": [
      "Average Metric: -18037.800000000007 / 99  (-18220.0):  99%|▉| 99/100 [03:20<00:0\u001b[2m2024-07-31T22:34:30.717709Z\u001b[0m [\u001b[31m\u001b[1merror    \u001b[0m] \u001b[1mPrecedence constraint violated: 9 must be visited before 3\u001b[0m [\u001b[0m\u001b[1m\u001b[34m__main__\u001b[0m]\u001b[0m \u001b[36mfilename\u001b[0m=\u001b[35m1914939754.py\u001b[0m \u001b[36mlineno\u001b[0m=\u001b[35m65\u001b[0m\n",
      "Average Metric: -18237.800000000007 / 100  (-18237.8): 100%|█| 100/100 [03:26<00\n"
     ]
    },
    {
     "data": {
      "text/plain": [
       "np.float64(-18237.8)"
      ]
     },
     "execution_count": 67,
     "metadata": {},
     "output_type": "execute_result"
    }
   ],
   "source": [
    "from dspy.primitives.assertions import backtrack_handler\n",
    "\n",
    "# Transform the module to include the backtracking mechanism\n",
    "baleen_with_suggestions = PDP().activate_assertions(backtrack_handler)\n",
    "\n",
    "teleprompter = LabeledFewShot(k=K)\n",
    "compiled_pdp = teleprompter.compile(baleen_with_suggestions, trainset=pdp_trainset)\n",
    "\n",
    "evaluater = Evaluate(devset=pdp_testset, metric=metric, num_threads=NUM_THREADS, display_progress=True, display_table=0)\n",
    "evaluater(compiled_pdp)"
   ]
  },
  {
   "cell_type": "code",
   "execution_count": 68,
   "id": "e04dfbf2-76a6-4db1-a37a-23255724e167",
   "metadata": {},
   "outputs": [
    {
     "name": "stdout",
     "output_type": "stream",
     "text": [
      "\n",
      "\n",
      "\n",
      "generate a TSP route starting at city 0 that visits the pickup node before the delivery node.\n",
      "\n",
      "---\n",
      "\n",
      "Cities: 0 1 2 3 4 5 6 7 8 9\n",
      "Distances: [[0.0, 17.1, 2.2, 9.1, 30.2, 18.6, 30.2, 23.5, 12.0, 31.8], [17.1, 0.0, 16.5, 26.2, 20.6, 32.8, 27.0, 27.7, 22.0, 30.1], [2.2, 16.5, 0.0, 10.0, 28.3, 17.7, 28.0, 21.4, 10.0, 29.5], [9.1, 26.2, 10.0, 0.0, 37.6, 14.1, 35.4, 26.1, 14.2, 36.1], [30.2, 20.6, 28.3, 37.6, 0.0, 36.1, 11.3, 20.9, 25.5, 14.9], [18.6, 32.8, 17.7, 14.1, 36.1, 0.0, 29.7, 17.9, 11.4, 29.1], [30.2, 27.0, 28.0, 35.4, 11.3, 29.7, 0.0, 12.2, 21.4, 3.6], [23.5, 27.7, 21.4, 26.1, 20.9, 17.9, 12.2, 0.0, 12.1, 11.2], [12.0, 22.0, 10.0, 14.2, 25.5, 11.4, 21.4, 12.1, 0.0, 21.9], [31.8, 30.1, 29.5, 36.1, 14.9, 29.1, 3.6, 11.2, 21.9, 0.0]]\n",
      "Pickup: 3\n",
      "Delivery: 5\n",
      "Route: 0, 3, 5, 8, 7, 9, 6, 4, 1, 2\n",
      "\n",
      "Cities: 0 1 2 3 4 5 6 7 8 9\n",
      "Distances: [[0.0, 14.3, 28.6, 29.7, 7.8, 10.3, 35.1, 27.7, 39.8, 17.8], [14.3, 0.0, 19.2, 19.3, 12.7, 10.8, 21.0, 18.4, 25.5, 11.4], [28.6, 19.2, 0.0, 33.4, 21.8, 29.7, 16.6, 34.0, 23.9, 30.0], [29.7, 19.3, 33.4, 0.0, 31.4, 20.0, 23.6, 3.0, 22.2, 12.2], [7.8, 12.7, 21.8, 31.4, 0.0, 15.0, 31.0, 30.0, 36.8, 20.9], [10.3, 10.8, 29.7, 20.0, 15.0, 0.0, 30.8, 17.7, 34.0, 7.8], [35.1, 21.0, 16.6, 23.6, 31.0, 30.8, 0.0, 25.5, 7.2, 26.8], [27.7, 18.4, 34.0, 3.0, 30.0, 17.7, 25.5, 0.0, 24.7, 9.9], [39.8, 25.5, 23.9, 22.2, 36.8, 34.0, 7.2, 24.7, 0.0, 28.6], [17.8, 11.4, 30.0, 12.2, 20.9, 7.8, 26.8, 9.9, 28.6, 0.0]]\n",
      "Pickup: 4\n",
      "Delivery: 3\n",
      "Route: 0, 4, 1, 2, 6, 8, 3, 7, 9, 5\n",
      "\n",
      "Cities: 0 1 2 3 4 5 6 7 8 9\n",
      "Distances: [[0.0, 19.4, 31.8, 13.6, 21.3, 19.9, 20.2, 12.0, 34.8, 24.2], [19.4, 0.0, 18.4, 30.9, 18.2, 10.0, 22.6, 27.5, 19.7, 14.3], [31.8, 18.4, 0.0, 45.3, 36.7, 28.3, 20.1, 33.6, 4.0, 32.0], [13.6, 30.9, 45.3, 0.0, 24.2, 27.5, 32.9, 20.0, 48.1, 30.0], [21.3, 18.2, 36.7, 24.2, 0.0, 8.5, 36.4, 33.2, 37.6, 7.2], [19.9, 10.0, 28.3, 27.5, 8.5, 0.0, 30.5, 30.9, 29.1, 5.0], [20.2, 22.6, 20.1, 32.9, 36.4, 30.5, 0.0, 15.6, 24.1, 35.5], [12.0, 27.5, 33.6, 20.0, 33.2, 30.9, 15.6, 0.0, 37.3, 35.5], [34.8, 19.7, 4.0, 48.1, 37.6, 29.1, 24.1, 37.3, 0.0, 32.4], [24.2, 14.3, 32.0, 30.0, 7.2, 5.0, 35.5, 35.5, 32.4, 0.0]]\n",
      "Pickup: 4\n",
      "Delivery: 2\n",
      "Route: 0, 3, 4, 9, 5, 1, 8, 2, 6, 7\n",
      "\n",
      "Cities: 0 1 2 3 4 5 6 7 8 9\n",
      "Distances: [[0.0, 31.0, 9.0, 37.9, 19.0, 18.4, 35.3, 19.2, 35.4, 23.8], [31.0, 0.0, 32.6, 13.9, 14.8, 16.1, 36.7, 24.8, 11.4, 13.5], [9.0, 32.6, 0.0, 36.1, 18.2, 17.1, 27.5, 13.4, 34.0, 22.0], [37.9, 13.9, 36.1, 0.0, 19.0, 19.6, 29.0, 24.2, 2.8, 14.3], [19.0, 14.8, 18.2, 19.0, 0.0, 1.4, 26.2, 10.8, 16.5, 5.0], [18.4, 16.1, 17.1, 19.6, 1.4, 0.0, 25.1, 9.4, 17.3, 5.4], [35.3, 36.7, 27.5, 29.0, 26.2, 25.1, 0.0, 17.3, 29.1, 24.0], [19.2, 24.8, 13.4, 24.2, 10.8, 9.4, 17.3, 0.0, 22.6, 11.7], [35.4, 11.4, 34.0, 2.8, 16.5, 17.3, 29.1, 22.6, 0.0, 12.0], [23.8, 13.5, 22.0, 14.3, 5.0, 5.4, 24.0, 11.7, 12.0, 0.0]]\n",
      "Pickup: 6\n",
      "Delivery: 7\n",
      "Route: 0, 5, 4, 9, 1, 8, 3, 6, 7, 2\n",
      "\n",
      "Cities: 0 1 2 3 4 5 6 7 8 9\n",
      "Distances: [[0.0, 26.9, 34.2, 33.1, 14.3, 21.0, 30.0, 8.9, 21.2, 38.6], [26.9, 0.0, 16.1, 23.4, 13.9, 9.1, 24.2, 18.4, 5.8, 13.2], [34.2, 16.1, 0.0, 10.0, 26.0, 24.0, 13.2, 28.3, 17.3, 24.2], [33.1, 23.4, 10.0, 0.0, 29.2, 29.4, 4.2, 29.6, 22.2, 33.6], [14.3, 13.9, 26.0, 29.2, 0.0, 6.7, 27.8, 5.4, 9.2, 24.4], [21.0, 9.1, 24.0, 29.4, 6.7, 0.0, 29.0, 12.1, 7.2, 17.8], [30.0, 24.2, 13.2, 4.2, 27.8, 29.0, 0.0, 27.5, 21.9, 35.4], [8.9, 18.4, 28.3, 29.6, 5.4, 12.1, 27.5, 0.0, 13.0, 29.7], [21.2, 5.8, 17.3, 22.2, 9.2, 7.2, 21.9, 13.0, 0.0, 18.7], [38.6, 13.2, 24.2, 33.6, 24.4, 17.8, 35.4, 29.7, 18.7, 0.0]]\n",
      "Pickup: 1\n",
      "Delivery: 7\n",
      "Route: 0, 6, 3, 2, 9, 1, 8, 5, 4, 7\n",
      "\n",
      "Cities: 0 1 2 3 4 5 6 7 8 9\n",
      "Distances: [[0.0, 18.7, 22.8, 40.2, 24.0, 18.7, 28.2, 36.1, 38.8, 25.6], [18.7, 0.0, 14.3, 23.4, 8.5, 10.0, 10.2, 19.2, 23.9, 7.2], [22.8, 14.3, 0.0, 34.2, 8.5, 5.0, 13.9, 30.4, 17.0, 18.2], [40.2, 23.4, 34.2, 0.0, 25.6, 31.8, 20.6, 4.2, 31.4, 16.6], [24.0, 8.5, 8.5, 25.6, 0.0, 7.2, 5.7, 21.8, 15.7, 10.0], [18.7, 10.0, 5.0, 31.8, 7.2, 0.0, 12.8, 27.7, 20.2, 15.2], [28.2, 10.2, 13.9, 20.6, 5.7, 12.8, 0.0, 17.1, 14.9, 7.2], [36.1, 19.2, 30.4, 4.2, 21.8, 27.7, 17.1, 0.0, 29.1, 12.5], [38.8, 23.9, 17.0, 31.4, 15.7, 20.2, 14.9, 29.1, 0.0, 22.0], [25.6, 7.2, 18.2, 16.6, 10.0, 15.2, 7.2, 12.5, 22.0, 0.0]]\n",
      "Pickup: 8\n",
      "Delivery: 7\n",
      "Route: 0, 5, 2, 4, 8, 6, 3, 7, 9, 1\n",
      "\n",
      "---\n",
      "\n",
      "Follow the following format.\n",
      "\n",
      "Cities: list of city indices to visit\n",
      "\n",
      "Distances: matrix of distances between the cities\n",
      "\n",
      "Pickup: pickup node\n",
      "\n",
      "Delivery: delivery node\n",
      "\n",
      "Previous Route: past Route: with errors\n",
      "\n",
      "Instructions: Some instructions you must satisfy\n",
      "\n",
      "Route: optimized route visiting all cities and adhering to constraints\n",
      "\n",
      "---\n",
      "\n",
      "Cities: 0 1 2 3 4 5 6 7 8 9\n",
      "\n",
      "Distances: [[0.0, 13.5, 8.1, 12.2, 17.0, 18.0, 24.7, 7.6, 18.1, 22.6], [13.5, 0.0, 14.1, 24.6, 30.5, 29.2, 38.0, 20.8, 30.1, 32.2], [8.1, 14.1, 0.0, 12.0, 20.1, 25.2, 26.2, 10.4, 16.6, 18.1], [12.2, 24.6, 12.0, 0.0, 9.1, 19.4, 14.2, 5.1, 6.0, 12.2], [17.0, 30.5, 20.1, 9.1, 0.0, 13.9, 8.2, 10.0, 10.3, 18.4], [18.0, 29.2, 25.2, 19.4, 13.9, 0.0, 20.6, 16.2, 23.3, 31.1], [24.7, 38.0, 26.2, 14.2, 8.2, 20.6, 0.0, 17.2, 11.4, 18.0], [7.6, 20.8, 10.4, 5.1, 10.0, 16.2, 17.2, 0.0, 11.0, 17.0], [18.1, 30.1, 16.6, 6.0, 10.3, 23.3, 11.4, 11.0, 0.0, 8.1], [22.6, 32.2, 18.1, 12.2, 18.4, 31.1, 18.0, 17.0, 8.1, 0.0]]\n",
      "\n",
      "Pickup: 9\n",
      "\n",
      "Delivery: 3\n",
      "\n",
      "Previous Route: 0, 7, 3, 4, 9, 8, 2, 6, 5, 1 --- Cities: 0 1 2 3 4 5 6 7\n",
      "\n",
      "Instructions: In the route, the index of 9 must be before that of 3\n",
      "\n",
      "Route:\u001b[32m 0, 7, 3, 4, 9, 8, 2, 6, 5, 1\n",
      "\n",
      "---\n",
      "\n",
      "Cities: 0 1 2 3 4 5 6 7 \u001b[0m\n",
      "\n",
      "\n",
      "\n"
     ]
    },
    {
     "data": {
      "text/plain": [
       "'\\n\\n\\ngenerate a TSP route starting at city 0 that visits the pickup node before the delivery node.\\n\\n---\\n\\nCities: 0 1 2 3 4 5 6 7 8 9\\nDistances: [[0.0, 17.1, 2.2, 9.1, 30.2, 18.6, 30.2, 23.5, 12.0, 31.8], [17.1, 0.0, 16.5, 26.2, 20.6, 32.8, 27.0, 27.7, 22.0, 30.1], [2.2, 16.5, 0.0, 10.0, 28.3, 17.7, 28.0, 21.4, 10.0, 29.5], [9.1, 26.2, 10.0, 0.0, 37.6, 14.1, 35.4, 26.1, 14.2, 36.1], [30.2, 20.6, 28.3, 37.6, 0.0, 36.1, 11.3, 20.9, 25.5, 14.9], [18.6, 32.8, 17.7, 14.1, 36.1, 0.0, 29.7, 17.9, 11.4, 29.1], [30.2, 27.0, 28.0, 35.4, 11.3, 29.7, 0.0, 12.2, 21.4, 3.6], [23.5, 27.7, 21.4, 26.1, 20.9, 17.9, 12.2, 0.0, 12.1, 11.2], [12.0, 22.0, 10.0, 14.2, 25.5, 11.4, 21.4, 12.1, 0.0, 21.9], [31.8, 30.1, 29.5, 36.1, 14.9, 29.1, 3.6, 11.2, 21.9, 0.0]]\\nPickup: 3\\nDelivery: 5\\nRoute: 0, 3, 5, 8, 7, 9, 6, 4, 1, 2\\n\\nCities: 0 1 2 3 4 5 6 7 8 9\\nDistances: [[0.0, 14.3, 28.6, 29.7, 7.8, 10.3, 35.1, 27.7, 39.8, 17.8], [14.3, 0.0, 19.2, 19.3, 12.7, 10.8, 21.0, 18.4, 25.5, 11.4], [28.6, 19.2, 0.0, 33.4, 21.8, 29.7, 16.6, 34.0, 23.9, 30.0], [29.7, 19.3, 33.4, 0.0, 31.4, 20.0, 23.6, 3.0, 22.2, 12.2], [7.8, 12.7, 21.8, 31.4, 0.0, 15.0, 31.0, 30.0, 36.8, 20.9], [10.3, 10.8, 29.7, 20.0, 15.0, 0.0, 30.8, 17.7, 34.0, 7.8], [35.1, 21.0, 16.6, 23.6, 31.0, 30.8, 0.0, 25.5, 7.2, 26.8], [27.7, 18.4, 34.0, 3.0, 30.0, 17.7, 25.5, 0.0, 24.7, 9.9], [39.8, 25.5, 23.9, 22.2, 36.8, 34.0, 7.2, 24.7, 0.0, 28.6], [17.8, 11.4, 30.0, 12.2, 20.9, 7.8, 26.8, 9.9, 28.6, 0.0]]\\nPickup: 4\\nDelivery: 3\\nRoute: 0, 4, 1, 2, 6, 8, 3, 7, 9, 5\\n\\nCities: 0 1 2 3 4 5 6 7 8 9\\nDistances: [[0.0, 19.4, 31.8, 13.6, 21.3, 19.9, 20.2, 12.0, 34.8, 24.2], [19.4, 0.0, 18.4, 30.9, 18.2, 10.0, 22.6, 27.5, 19.7, 14.3], [31.8, 18.4, 0.0, 45.3, 36.7, 28.3, 20.1, 33.6, 4.0, 32.0], [13.6, 30.9, 45.3, 0.0, 24.2, 27.5, 32.9, 20.0, 48.1, 30.0], [21.3, 18.2, 36.7, 24.2, 0.0, 8.5, 36.4, 33.2, 37.6, 7.2], [19.9, 10.0, 28.3, 27.5, 8.5, 0.0, 30.5, 30.9, 29.1, 5.0], [20.2, 22.6, 20.1, 32.9, 36.4, 30.5, 0.0, 15.6, 24.1, 35.5], [12.0, 27.5, 33.6, 20.0, 33.2, 30.9, 15.6, 0.0, 37.3, 35.5], [34.8, 19.7, 4.0, 48.1, 37.6, 29.1, 24.1, 37.3, 0.0, 32.4], [24.2, 14.3, 32.0, 30.0, 7.2, 5.0, 35.5, 35.5, 32.4, 0.0]]\\nPickup: 4\\nDelivery: 2\\nRoute: 0, 3, 4, 9, 5, 1, 8, 2, 6, 7\\n\\nCities: 0 1 2 3 4 5 6 7 8 9\\nDistances: [[0.0, 31.0, 9.0, 37.9, 19.0, 18.4, 35.3, 19.2, 35.4, 23.8], [31.0, 0.0, 32.6, 13.9, 14.8, 16.1, 36.7, 24.8, 11.4, 13.5], [9.0, 32.6, 0.0, 36.1, 18.2, 17.1, 27.5, 13.4, 34.0, 22.0], [37.9, 13.9, 36.1, 0.0, 19.0, 19.6, 29.0, 24.2, 2.8, 14.3], [19.0, 14.8, 18.2, 19.0, 0.0, 1.4, 26.2, 10.8, 16.5, 5.0], [18.4, 16.1, 17.1, 19.6, 1.4, 0.0, 25.1, 9.4, 17.3, 5.4], [35.3, 36.7, 27.5, 29.0, 26.2, 25.1, 0.0, 17.3, 29.1, 24.0], [19.2, 24.8, 13.4, 24.2, 10.8, 9.4, 17.3, 0.0, 22.6, 11.7], [35.4, 11.4, 34.0, 2.8, 16.5, 17.3, 29.1, 22.6, 0.0, 12.0], [23.8, 13.5, 22.0, 14.3, 5.0, 5.4, 24.0, 11.7, 12.0, 0.0]]\\nPickup: 6\\nDelivery: 7\\nRoute: 0, 5, 4, 9, 1, 8, 3, 6, 7, 2\\n\\nCities: 0 1 2 3 4 5 6 7 8 9\\nDistances: [[0.0, 26.9, 34.2, 33.1, 14.3, 21.0, 30.0, 8.9, 21.2, 38.6], [26.9, 0.0, 16.1, 23.4, 13.9, 9.1, 24.2, 18.4, 5.8, 13.2], [34.2, 16.1, 0.0, 10.0, 26.0, 24.0, 13.2, 28.3, 17.3, 24.2], [33.1, 23.4, 10.0, 0.0, 29.2, 29.4, 4.2, 29.6, 22.2, 33.6], [14.3, 13.9, 26.0, 29.2, 0.0, 6.7, 27.8, 5.4, 9.2, 24.4], [21.0, 9.1, 24.0, 29.4, 6.7, 0.0, 29.0, 12.1, 7.2, 17.8], [30.0, 24.2, 13.2, 4.2, 27.8, 29.0, 0.0, 27.5, 21.9, 35.4], [8.9, 18.4, 28.3, 29.6, 5.4, 12.1, 27.5, 0.0, 13.0, 29.7], [21.2, 5.8, 17.3, 22.2, 9.2, 7.2, 21.9, 13.0, 0.0, 18.7], [38.6, 13.2, 24.2, 33.6, 24.4, 17.8, 35.4, 29.7, 18.7, 0.0]]\\nPickup: 1\\nDelivery: 7\\nRoute: 0, 6, 3, 2, 9, 1, 8, 5, 4, 7\\n\\nCities: 0 1 2 3 4 5 6 7 8 9\\nDistances: [[0.0, 18.7, 22.8, 40.2, 24.0, 18.7, 28.2, 36.1, 38.8, 25.6], [18.7, 0.0, 14.3, 23.4, 8.5, 10.0, 10.2, 19.2, 23.9, 7.2], [22.8, 14.3, 0.0, 34.2, 8.5, 5.0, 13.9, 30.4, 17.0, 18.2], [40.2, 23.4, 34.2, 0.0, 25.6, 31.8, 20.6, 4.2, 31.4, 16.6], [24.0, 8.5, 8.5, 25.6, 0.0, 7.2, 5.7, 21.8, 15.7, 10.0], [18.7, 10.0, 5.0, 31.8, 7.2, 0.0, 12.8, 27.7, 20.2, 15.2], [28.2, 10.2, 13.9, 20.6, 5.7, 12.8, 0.0, 17.1, 14.9, 7.2], [36.1, 19.2, 30.4, 4.2, 21.8, 27.7, 17.1, 0.0, 29.1, 12.5], [38.8, 23.9, 17.0, 31.4, 15.7, 20.2, 14.9, 29.1, 0.0, 22.0], [25.6, 7.2, 18.2, 16.6, 10.0, 15.2, 7.2, 12.5, 22.0, 0.0]]\\nPickup: 8\\nDelivery: 7\\nRoute: 0, 5, 2, 4, 8, 6, 3, 7, 9, 1\\n\\n---\\n\\nFollow the following format.\\n\\nCities: list of city indices to visit\\n\\nDistances: matrix of distances between the cities\\n\\nPickup: pickup node\\n\\nDelivery: delivery node\\n\\nPrevious Route: past Route: with errors\\n\\nInstructions: Some instructions you must satisfy\\n\\nRoute: optimized route visiting all cities and adhering to constraints\\n\\n---\\n\\nCities: 0 1 2 3 4 5 6 7 8 9\\n\\nDistances: [[0.0, 13.5, 8.1, 12.2, 17.0, 18.0, 24.7, 7.6, 18.1, 22.6], [13.5, 0.0, 14.1, 24.6, 30.5, 29.2, 38.0, 20.8, 30.1, 32.2], [8.1, 14.1, 0.0, 12.0, 20.1, 25.2, 26.2, 10.4, 16.6, 18.1], [12.2, 24.6, 12.0, 0.0, 9.1, 19.4, 14.2, 5.1, 6.0, 12.2], [17.0, 30.5, 20.1, 9.1, 0.0, 13.9, 8.2, 10.0, 10.3, 18.4], [18.0, 29.2, 25.2, 19.4, 13.9, 0.0, 20.6, 16.2, 23.3, 31.1], [24.7, 38.0, 26.2, 14.2, 8.2, 20.6, 0.0, 17.2, 11.4, 18.0], [7.6, 20.8, 10.4, 5.1, 10.0, 16.2, 17.2, 0.0, 11.0, 17.0], [18.1, 30.1, 16.6, 6.0, 10.3, 23.3, 11.4, 11.0, 0.0, 8.1], [22.6, 32.2, 18.1, 12.2, 18.4, 31.1, 18.0, 17.0, 8.1, 0.0]]\\n\\nPickup: 9\\n\\nDelivery: 3\\n\\nPrevious Route: 0, 7, 3, 4, 9, 8, 2, 6, 5, 1 --- Cities: 0 1 2 3 4 5 6 7\\n\\nInstructions: In the route, the index of 9 must be before that of 3\\n\\nRoute:\\x1b[32m 0, 7, 3, 4, 9, 8, 2, 6, 5, 1\\n\\n---\\n\\nCities: 0 1 2 3 4 5 6 7 \\x1b[0m\\n\\n\\n'"
      ]
     },
     "execution_count": 68,
     "metadata": {},
     "output_type": "execute_result"
    }
   ],
   "source": [
    "llama.inspect_history(n=1)"
   ]
  },
  {
   "cell_type": "code",
   "execution_count": 69,
   "id": "33585e61-ccf7-49b9-96f6-758c1fd39432",
   "metadata": {},
   "outputs": [
    {
     "name": "stdout",
     "output_type": "stream",
     "text": [
      "{'distance_matrix': [[0.0, 9.2, 14.6, 28.8, 19.2, 21.9, 17.9, 9.1, 16.8, 31.9], [9.2, 0.0, 23.3, 27.0, 19.4, 24.2, 9.2, 5.4, 25.5, 31.9], [14.6, 23.3, 0.0, 31.3, 21.6, 20.0, 32.3, 23.5, 2.2, 31.1], [28.8, 27.0, 31.3, 0.0, 10.0, 12.1, 32.2, 32.2, 32.6, 7.0], [19.2, 19.4, 21.6, 10.0, 0.0, 6.1, 26.6, 24.1, 23.1, 12.8], [21.9, 24.2, 20.0, 12.1, 6.1, 0.0, 32.0, 28.3, 21.0, 11.2], [17.9, 9.2, 32.3, 32.2, 26.6, 32.0, 0.0, 9.9, 34.5, 38.1], [9.1, 5.4, 23.5, 32.2, 24.1, 28.3, 9.9, 0.0, 25.7, 36.8], [16.8, 25.5, 2.2, 32.6, 23.1, 21.0, 34.5, 25.7, 0.0, 32.0], [31.9, 31.9, 31.1, 7.0, 12.8, 11.2, 38.1, 36.8, 32.0, 0.0]], 'route': [0, 2, 8, 5, 9, 3, 4, 1, 6, 7], 'optimal_distance': 111, 'constraints': [(3, 6)]}\n"
     ]
    }
   ],
   "source": [
    "test_example = pdp_testset[0]\n",
    "numerical_test_example = test_ds[0]\n",
    "print(numerical_test_example)"
   ]
  },
  {
   "cell_type": "code",
   "execution_count": 70,
   "id": "af359585-50b4-4c61-ad4f-aa038badba31",
   "metadata": {},
   "outputs": [
    {
     "name": "stdout",
     "output_type": "stream",
     "text": [
      "Predicted route: 0, 1, 7, 5, 4, 3, 6, 8, 2, 9\n",
      "\n",
      "---\n",
      "\n",
      "Cities: 0 1 2 3 4 5 6 7\n",
      "Total distance of the predicted route: 190.9\n",
      "Optimal route: 0, 2, 8, 5, 9, 3, 4, 1, 6, 7\n",
      "Total distance of the optimal route: 113.60000000000001\n"
     ]
    }
   ],
   "source": [
    "predicted_result = compiled_pdp(cities=test_example.cities, distances=test_example.distances, pickup=test_example.pickup, delivery=test_example.delivery)\n",
    "\n",
    "predicted_route = predicted_result.route\n",
    "\n",
    "predicted_distance = eval_tour(test_example.cities, predicted_route, test_example.distances, test_example.pickup, test_example.delivery)\n",
    "\n",
    "print(f\"Predicted route: {predicted_route}\")\n",
    "print(f\"Total distance of the predicted route: {predicted_distance}\")\n",
    "\n",
    "optimal_route = test_example.route\n",
    "optimal_distance = eval_tour(test_example.cities, optimal_route, test_example.distances, test_example.pickup, test_example.delivery)\n",
    "print(f\"Optimal route: {optimal_route}\")\n",
    "print(f\"Total distance of the optimal route: {optimal_distance}\")"
   ]
  },
  {
   "cell_type": "code",
   "execution_count": 71,
   "id": "40582a07-beb9-42eb-a6ec-b18cab039fa2",
   "metadata": {},
   "outputs": [
    {
     "data": {
      "text/plain": [
       "Example({'cities': '0 1 2 3 4 5 6 7 8 9', 'distances': '[[0.0, 9.2, 14.6, 28.8, 19.2, 21.9, 17.9, 9.1, 16.8, 31.9], [9.2, 0.0, 23.3, 27.0, 19.4, 24.2, 9.2, 5.4, 25.5, 31.9], [14.6, 23.3, 0.0, 31.3, 21.6, 20.0, 32.3, 23.5, 2.2, 31.1], [28.8, 27.0, 31.3, 0.0, 10.0, 12.1, 32.2, 32.2, 32.6, 7.0], [19.2, 19.4, 21.6, 10.0, 0.0, 6.1, 26.6, 24.1, 23.1, 12.8], [21.9, 24.2, 20.0, 12.1, 6.1, 0.0, 32.0, 28.3, 21.0, 11.2], [17.9, 9.2, 32.3, 32.2, 26.6, 32.0, 0.0, 9.9, 34.5, 38.1], [9.1, 5.4, 23.5, 32.2, 24.1, 28.3, 9.9, 0.0, 25.7, 36.8], [16.8, 25.5, 2.2, 32.6, 23.1, 21.0, 34.5, 25.7, 0.0, 32.0], [31.9, 31.9, 31.1, 7.0, 12.8, 11.2, 38.1, 36.8, 32.0, 0.0]]', 'route': '0, 2, 8, 5, 9, 3, 4, 1, 6, 7', 'pickup': '3', 'delivery': '6'}) (input_keys={'distances', 'pickup', 'cities', 'delivery'})"
      ]
     },
     "execution_count": 71,
     "metadata": {},
     "output_type": "execute_result"
    }
   ],
   "source": [
    "test_example"
   ]
  },
  {
   "cell_type": "code",
   "execution_count": 74,
   "id": "9527cad0-c5cd-48c4-b683-6f2c2b51a81b",
   "metadata": {},
   "outputs": [
    {
     "name": "stdout",
     "output_type": "stream",
     "text": [
      "{'distance_matrix': [[0.0, 9.2, 14.6, 28.8, 19.2, 21.9, 17.9, 9.1, 16.8, 31.9], [9.2, 0.0, 23.3, 27.0, 19.4, 24.2, 9.2, 5.4, 25.5, 31.9], [14.6, 23.3, 0.0, 31.3, 21.6, 20.0, 32.3, 23.5, 2.2, 31.1], [28.8, 27.0, 31.3, 0.0, 10.0, 12.1, 32.2, 32.2, 32.6, 7.0], [19.2, 19.4, 21.6, 10.0, 0.0, 6.1, 26.6, 24.1, 23.1, 12.8], [21.9, 24.2, 20.0, 12.1, 6.1, 0.0, 32.0, 28.3, 21.0, 11.2], [17.9, 9.2, 32.3, 32.2, 26.6, 32.0, 0.0, 9.9, 34.5, 38.1], [9.1, 5.4, 23.5, 32.2, 24.1, 28.3, 9.9, 0.0, 25.7, 36.8], [16.8, 25.5, 2.2, 32.6, 23.1, 21.0, 34.5, 25.7, 0.0, 32.0], [31.9, 31.9, 31.1, 7.0, 12.8, 11.2, 38.1, 36.8, 32.0, 0.0]], 'route': [0, 2, 8, 5, 9, 3, 4, 1, 6, 7], 'optimal_distance': 111, 'constraints': [(3, 6)]}\n",
      "path is [0, 8, 3, 6, 1, 4, 9, 2, 5, 7]\n",
      "distance is 211.50000000000003\n"
     ]
    }
   ],
   "source": [
    "print(numerical_test_example)\n",
    "path, distance = random_baseline(numerical_test_example[\"distance_matrix\"], numerical_test_example[\"constraints\"][0][0],numerical_test_example[\"constraints\"][0][1])\n",
    "print(f\"path is {path}\")\n",
    "print(f\"distance is {distance}\")"
   ]
  },
  {
   "cell_type": "markdown",
   "id": "7a503978-0046-4595-a298-2d155bdc4763",
   "metadata": {},
   "source": [
    "Random baseline eval:"
   ]
  },
  {
   "cell_type": "code",
   "execution_count": 75,
   "id": "81efc486-8bfa-4eee-a5f4-b9ca6f536e62",
   "metadata": {},
   "outputs": [
    {
     "name": "stdout",
     "output_type": "stream",
     "text": [
      "(RANDOM) total distance is 21222.7\n",
      "(RANDOM) average distance is 212.227\n"
     ]
    }
   ],
   "source": [
    "total_dis = 0\n",
    "for i in range(TEST_INSTANCES):\n",
    "    curr_example = test_ds[i]\n",
    "    _, distance = random_baseline(curr_example[\"distance_matrix\"], curr_example[\"constraints\"][0][0], curr_example[\"constraints\"][0][1])\n",
    "    total_dis += distance\n",
    "print(f\"(RANDOM) total distance is {total_dis}\")\n",
    "print(f\"(RANDOM) average distance is {total_dis/TEST_INSTANCES}\")"
   ]
  },
  {
   "cell_type": "code",
   "execution_count": 77,
   "id": "4f00ff49-3153-48c9-a6b3-216ee58df78c",
   "metadata": {},
   "outputs": [
    {
     "name": "stderr",
     "output_type": "stream",
     "text": [
      "Average Metric: -4733.799999999999 / 23  (-20581.7):  22%|▏| 22/100 [00:08<00:29\u001b[2m2024-07-31T22:36:28.195290Z\u001b[0m [\u001b[33m\u001b[1mwarning  \u001b[0m] \u001b[1mReceived SIGINT. Cancelling evaluation.\u001b[0m [\u001b[0m\u001b[1m\u001b[34mdspy.evaluate.evaluate\u001b[0m]\u001b[0m \u001b[36mfilename\u001b[0m=\u001b[35mevaluate.py\u001b[0m \u001b[36mlineno\u001b[0m=\u001b[35m91\u001b[0m\n",
      "\u001b[2m2024-07-31T22:36:28.377905Z\u001b[0m [\u001b[33m\u001b[1mwarning  \u001b[0m] \u001b[1mReceived SIGINT. Cancelling evaluation.\u001b[0m [\u001b[0m\u001b[1m\u001b[34mdspy.evaluate.evaluate\u001b[0m]\u001b[0m \u001b[36mfilename\u001b[0m=\u001b[35mevaluate.py\u001b[0m \u001b[36mlineno\u001b[0m=\u001b[35m91\u001b[0m\n"
     ]
    },
    {
     "ename": "KeyboardInterrupt",
     "evalue": "",
     "output_type": "error",
     "traceback": [
      "\u001b[0;31m---------------------------------------------------------------------------\u001b[0m",
      "\u001b[0;31mKeyboardInterrupt\u001b[0m                         Traceback (most recent call last)",
      "File \u001b[0;32m~/Desktop/TSP_Hybrid/DSPy/dspy/lib/python3.11/site-packages/dspy/evaluate/evaluate.py:109\u001b[0m, in \u001b[0;36mEvaluate._execute_multi_thread\u001b[0;34m(self, wrapped_program, devset, num_threads, display_progress)\u001b[0m\n\u001b[1;32m    107\u001b[0m pbar \u001b[38;5;241m=\u001b[39m tqdm\u001b[38;5;241m.\u001b[39mtqdm(total\u001b[38;5;241m=\u001b[39m\u001b[38;5;28mlen\u001b[39m(devset), dynamic_ncols\u001b[38;5;241m=\u001b[39m\u001b[38;5;28;01mTrue\u001b[39;00m, disable\u001b[38;5;241m=\u001b[39m\u001b[38;5;129;01mnot\u001b[39;00m display_progress)\n\u001b[0;32m--> 109\u001b[0m \u001b[43m\u001b[49m\u001b[38;5;28;43;01mfor\u001b[39;49;00m\u001b[43m \u001b[49m\u001b[43mfuture\u001b[49m\u001b[43m \u001b[49m\u001b[38;5;129;43;01min\u001b[39;49;00m\u001b[43m \u001b[49m\u001b[43mas_completed\u001b[49m\u001b[43m(\u001b[49m\u001b[43mfutures\u001b[49m\u001b[43m)\u001b[49m\u001b[43m:\u001b[49m\n\u001b[1;32m    110\u001b[0m \u001b[43m    \u001b[49m\u001b[43mexample_idx\u001b[49m\u001b[43m,\u001b[49m\u001b[43m \u001b[49m\u001b[43mexample\u001b[49m\u001b[43m,\u001b[49m\u001b[43m \u001b[49m\u001b[43mprediction\u001b[49m\u001b[43m,\u001b[49m\u001b[43m \u001b[49m\u001b[43mscore\u001b[49m\u001b[43m \u001b[49m\u001b[38;5;241;43m=\u001b[39;49m\u001b[43m \u001b[49m\u001b[43mfuture\u001b[49m\u001b[38;5;241;43m.\u001b[39;49m\u001b[43mresult\u001b[49m\u001b[43m(\u001b[49m\u001b[43m)\u001b[49m\n",
      "File \u001b[0;32m~/miniconda3/lib/python3.11/concurrent/futures/_base.py:243\u001b[0m, in \u001b[0;36mas_completed\u001b[0;34m(fs, timeout)\u001b[0m\n\u001b[1;32m    239\u001b[0m         \u001b[38;5;28;01mraise\u001b[39;00m \u001b[38;5;167;01mTimeoutError\u001b[39;00m(\n\u001b[1;32m    240\u001b[0m                 \u001b[38;5;124m'\u001b[39m\u001b[38;5;132;01m%d\u001b[39;00m\u001b[38;5;124m (of \u001b[39m\u001b[38;5;132;01m%d\u001b[39;00m\u001b[38;5;124m) futures unfinished\u001b[39m\u001b[38;5;124m'\u001b[39m \u001b[38;5;241m%\u001b[39m (\n\u001b[1;32m    241\u001b[0m                 \u001b[38;5;28mlen\u001b[39m(pending), total_futures))\n\u001b[0;32m--> 243\u001b[0m \u001b[43mwaiter\u001b[49m\u001b[38;5;241;43m.\u001b[39;49m\u001b[43mevent\u001b[49m\u001b[38;5;241;43m.\u001b[39;49m\u001b[43mwait\u001b[49m\u001b[43m(\u001b[49m\u001b[43mwait_timeout\u001b[49m\u001b[43m)\u001b[49m\n\u001b[1;32m    245\u001b[0m \u001b[38;5;28;01mwith\u001b[39;00m waiter\u001b[38;5;241m.\u001b[39mlock:\n",
      "File \u001b[0;32m~/miniconda3/lib/python3.11/threading.py:629\u001b[0m, in \u001b[0;36mEvent.wait\u001b[0;34m(self, timeout)\u001b[0m\n\u001b[1;32m    628\u001b[0m \u001b[38;5;28;01mif\u001b[39;00m \u001b[38;5;129;01mnot\u001b[39;00m signaled:\n\u001b[0;32m--> 629\u001b[0m     signaled \u001b[38;5;241m=\u001b[39m \u001b[38;5;28;43mself\u001b[39;49m\u001b[38;5;241;43m.\u001b[39;49m\u001b[43m_cond\u001b[49m\u001b[38;5;241;43m.\u001b[39;49m\u001b[43mwait\u001b[49m\u001b[43m(\u001b[49m\u001b[43mtimeout\u001b[49m\u001b[43m)\u001b[49m\n\u001b[1;32m    630\u001b[0m \u001b[38;5;28;01mreturn\u001b[39;00m signaled\n",
      "File \u001b[0;32m~/miniconda3/lib/python3.11/threading.py:327\u001b[0m, in \u001b[0;36mCondition.wait\u001b[0;34m(self, timeout)\u001b[0m\n\u001b[1;32m    326\u001b[0m \u001b[38;5;28;01mif\u001b[39;00m timeout \u001b[38;5;129;01mis\u001b[39;00m \u001b[38;5;28;01mNone\u001b[39;00m:\n\u001b[0;32m--> 327\u001b[0m     \u001b[43mwaiter\u001b[49m\u001b[38;5;241;43m.\u001b[39;49m\u001b[43macquire\u001b[49m\u001b[43m(\u001b[49m\u001b[43m)\u001b[49m\n\u001b[1;32m    328\u001b[0m     gotit \u001b[38;5;241m=\u001b[39m \u001b[38;5;28;01mTrue\u001b[39;00m\n",
      "File \u001b[0;32m~/Desktop/TSP_Hybrid/DSPy/dspy/lib/python3.11/site-packages/dspy/evaluate/evaluate.py:92\u001b[0m, in \u001b[0;36mEvaluate._execute_multi_thread.<locals>.interrupt_handler_manager.<locals>.interrupt_handler\u001b[0;34m(sig, frame)\u001b[0m\n\u001b[1;32m     91\u001b[0m dspy\u001b[38;5;241m.\u001b[39mlogger\u001b[38;5;241m.\u001b[39mwarning(\u001b[38;5;124m\"\u001b[39m\u001b[38;5;124mReceived SIGINT. Cancelling evaluation.\u001b[39m\u001b[38;5;124m\"\u001b[39m)\n\u001b[0;32m---> 92\u001b[0m \u001b[43mdefault_handler\u001b[49m\u001b[43m(\u001b[49m\u001b[43msig\u001b[49m\u001b[43m,\u001b[49m\u001b[43m \u001b[49m\u001b[43mframe\u001b[49m\u001b[43m)\u001b[49m\n",
      "\u001b[0;31mKeyboardInterrupt\u001b[0m: ",
      "\nDuring handling of the above exception, another exception occurred:\n",
      "\u001b[0;31mKeyboardInterrupt\u001b[0m                         Traceback (most recent call last)",
      "Cell \u001b[0;32mIn[77], line 1\u001b[0m\n\u001b[0;32m----> 1\u001b[0m zs_TSP \u001b[38;5;241m=\u001b[39m \u001b[43mevaluater\u001b[49m\u001b[43m(\u001b[49m\u001b[43mPDP\u001b[49m\u001b[43m(\u001b[49m\u001b[43m)\u001b[49m\u001b[43m)\u001b[49m\n\u001b[1;32m      2\u001b[0m \u001b[38;5;28mprint\u001b[39m(\u001b[38;5;124mf\u001b[39m\u001b[38;5;124m\"\u001b[39m\u001b[38;5;124m(Zero Shot) average distance is \u001b[39m\u001b[38;5;132;01m{\u001b[39;00mzs_PDP\u001b[38;5;250m \u001b[39m\u001b[38;5;241m/\u001b[39m\u001b[38;5;250m \u001b[39m\u001b[38;5;28mlen\u001b[39m(pdp_testset)\u001b[38;5;132;01m}\u001b[39;00m\u001b[38;5;124m\"\u001b[39m)\n",
      "File \u001b[0;32m~/Desktop/TSP_Hybrid/DSPy/dspy/lib/python3.11/site-packages/dspy/evaluate/evaluate.py:193\u001b[0m, in \u001b[0;36mEvaluate.__call__\u001b[0;34m(self, program, metric, devset, num_threads, display_progress, display_table, return_all_scores, return_outputs)\u001b[0m\n\u001b[1;32m    191\u001b[0m     reordered_devset, ncorrect, ntotal \u001b[38;5;241m=\u001b[39m \u001b[38;5;28mself\u001b[39m\u001b[38;5;241m.\u001b[39m_execute_single_thread(wrapped_program, devset, display_progress)\n\u001b[1;32m    192\u001b[0m \u001b[38;5;28;01melse\u001b[39;00m:\n\u001b[0;32m--> 193\u001b[0m     reordered_devset, ncorrect, ntotal \u001b[38;5;241m=\u001b[39m \u001b[38;5;28;43mself\u001b[39;49m\u001b[38;5;241;43m.\u001b[39;49m\u001b[43m_execute_multi_thread\u001b[49m\u001b[43m(\u001b[49m\n\u001b[1;32m    194\u001b[0m \u001b[43m        \u001b[49m\u001b[43mwrapped_program\u001b[49m\u001b[43m,\u001b[49m\n\u001b[1;32m    195\u001b[0m \u001b[43m        \u001b[49m\u001b[43mdevset\u001b[49m\u001b[43m,\u001b[49m\n\u001b[1;32m    196\u001b[0m \u001b[43m        \u001b[49m\u001b[43mnum_threads\u001b[49m\u001b[43m,\u001b[49m\n\u001b[1;32m    197\u001b[0m \u001b[43m        \u001b[49m\u001b[43mdisplay_progress\u001b[49m\u001b[43m,\u001b[49m\n\u001b[1;32m    198\u001b[0m \u001b[43m    \u001b[49m\u001b[43m)\u001b[49m\n\u001b[1;32m    200\u001b[0m dspy\u001b[38;5;241m.\u001b[39mlogger\u001b[38;5;241m.\u001b[39minfo(\u001b[38;5;124mf\u001b[39m\u001b[38;5;124m\"\u001b[39m\u001b[38;5;124mAverage Metric: \u001b[39m\u001b[38;5;132;01m{\u001b[39;00mncorrect\u001b[38;5;132;01m}\u001b[39;00m\u001b[38;5;124m / \u001b[39m\u001b[38;5;132;01m{\u001b[39;00mntotal\u001b[38;5;132;01m}\u001b[39;00m\u001b[38;5;124m (\u001b[39m\u001b[38;5;132;01m{\u001b[39;00m\u001b[38;5;28mround\u001b[39m(\u001b[38;5;241m100\u001b[39m\u001b[38;5;250m \u001b[39m\u001b[38;5;241m*\u001b[39m\u001b[38;5;250m \u001b[39mncorrect\u001b[38;5;250m \u001b[39m\u001b[38;5;241m/\u001b[39m\u001b[38;5;250m \u001b[39mntotal,\u001b[38;5;250m \u001b[39m\u001b[38;5;241m1\u001b[39m)\u001b[38;5;132;01m}\u001b[39;00m\u001b[38;5;124m%)\u001b[39m\u001b[38;5;124m\"\u001b[39m)\n\u001b[1;32m    202\u001b[0m predicted_devset \u001b[38;5;241m=\u001b[39m \u001b[38;5;28msorted\u001b[39m(reordered_devset)\n",
      "File \u001b[0;32m~/Desktop/TSP_Hybrid/DSPy/dspy/lib/python3.11/site-packages/dspy/evaluate/evaluate.py:105\u001b[0m, in \u001b[0;36mEvaluate._execute_multi_thread\u001b[0;34m(self, wrapped_program, devset, num_threads, display_progress)\u001b[0m\n\u001b[1;32m    102\u001b[0m         \u001b[38;5;28;01mreturn\u001b[39;00m \u001b[38;5;28;01mNone\u001b[39;00m, \u001b[38;5;28;01mNone\u001b[39;00m, job_cancelled, \u001b[38;5;28;01mNone\u001b[39;00m\n\u001b[1;32m    103\u001b[0m     \u001b[38;5;28;01mreturn\u001b[39;00m wrapped_program(idx, arg)\n\u001b[0;32m--> 105\u001b[0m \u001b[43m\u001b[49m\u001b[38;5;28;43;01mwith\u001b[39;49;00m\u001b[43m \u001b[49m\u001b[43mThreadPoolExecutor\u001b[49m\u001b[43m(\u001b[49m\u001b[43mmax_workers\u001b[49m\u001b[38;5;241;43m=\u001b[39;49m\u001b[43mnum_threads\u001b[49m\u001b[43m)\u001b[49m\u001b[43m \u001b[49m\u001b[38;5;28;43;01mas\u001b[39;49;00m\u001b[43m \u001b[49m\u001b[43mexecutor\u001b[49m\u001b[43m,\u001b[49m\u001b[43m \u001b[49m\u001b[43minterrupt_handler_manager\u001b[49m\u001b[43m(\u001b[49m\u001b[43m)\u001b[49m\u001b[43m:\u001b[49m\n\u001b[1;32m    106\u001b[0m \u001b[43m    \u001b[49m\u001b[43mfutures\u001b[49m\u001b[43m \u001b[49m\u001b[38;5;241;43m=\u001b[39;49m\u001b[43m \u001b[49m\u001b[43m{\u001b[49m\u001b[43mexecutor\u001b[49m\u001b[38;5;241;43m.\u001b[39;49m\u001b[43msubmit\u001b[49m\u001b[43m(\u001b[49m\u001b[43mcancellable_wrapped_program\u001b[49m\u001b[43m,\u001b[49m\u001b[43m \u001b[49m\u001b[43midx\u001b[49m\u001b[43m,\u001b[49m\u001b[43m \u001b[49m\u001b[43marg\u001b[49m\u001b[43m)\u001b[49m\u001b[43m \u001b[49m\u001b[38;5;28;43;01mfor\u001b[39;49;00m\u001b[43m \u001b[49m\u001b[43midx\u001b[49m\u001b[43m,\u001b[49m\u001b[43m \u001b[49m\u001b[43marg\u001b[49m\u001b[43m \u001b[49m\u001b[38;5;129;43;01min\u001b[39;49;00m\u001b[43m \u001b[49m\u001b[43mdevset\u001b[49m\u001b[43m}\u001b[49m\n\u001b[1;32m    107\u001b[0m \u001b[43m    \u001b[49m\u001b[43mpbar\u001b[49m\u001b[43m \u001b[49m\u001b[38;5;241;43m=\u001b[39;49m\u001b[43m \u001b[49m\u001b[43mtqdm\u001b[49m\u001b[38;5;241;43m.\u001b[39;49m\u001b[43mtqdm\u001b[49m\u001b[43m(\u001b[49m\u001b[43mtotal\u001b[49m\u001b[38;5;241;43m=\u001b[39;49m\u001b[38;5;28;43mlen\u001b[39;49m\u001b[43m(\u001b[49m\u001b[43mdevset\u001b[49m\u001b[43m)\u001b[49m\u001b[43m,\u001b[49m\u001b[43m \u001b[49m\u001b[43mdynamic_ncols\u001b[49m\u001b[38;5;241;43m=\u001b[39;49m\u001b[38;5;28;43;01mTrue\u001b[39;49;00m\u001b[43m,\u001b[49m\u001b[43m \u001b[49m\u001b[43mdisable\u001b[49m\u001b[38;5;241;43m=\u001b[39;49m\u001b[38;5;129;43;01mnot\u001b[39;49;00m\u001b[43m \u001b[49m\u001b[43mdisplay_progress\u001b[49m\u001b[43m)\u001b[49m\n",
      "File \u001b[0;32m~/miniconda3/lib/python3.11/concurrent/futures/_base.py:647\u001b[0m, in \u001b[0;36mExecutor.__exit__\u001b[0;34m(self, exc_type, exc_val, exc_tb)\u001b[0m\n\u001b[1;32m    646\u001b[0m \u001b[38;5;28;01mdef\u001b[39;00m \u001b[38;5;21m__exit__\u001b[39m(\u001b[38;5;28mself\u001b[39m, exc_type, exc_val, exc_tb):\n\u001b[0;32m--> 647\u001b[0m     \u001b[38;5;28;43mself\u001b[39;49m\u001b[38;5;241;43m.\u001b[39;49m\u001b[43mshutdown\u001b[49m\u001b[43m(\u001b[49m\u001b[43mwait\u001b[49m\u001b[38;5;241;43m=\u001b[39;49m\u001b[38;5;28;43;01mTrue\u001b[39;49;00m\u001b[43m)\u001b[49m\n\u001b[1;32m    648\u001b[0m     \u001b[38;5;28;01mreturn\u001b[39;00m \u001b[38;5;28;01mFalse\u001b[39;00m\n",
      "File \u001b[0;32m~/miniconda3/lib/python3.11/concurrent/futures/thread.py:235\u001b[0m, in \u001b[0;36mThreadPoolExecutor.shutdown\u001b[0;34m(self, wait, cancel_futures)\u001b[0m\n\u001b[1;32m    233\u001b[0m \u001b[38;5;28;01mif\u001b[39;00m wait:\n\u001b[1;32m    234\u001b[0m     \u001b[38;5;28;01mfor\u001b[39;00m t \u001b[38;5;129;01min\u001b[39;00m \u001b[38;5;28mself\u001b[39m\u001b[38;5;241m.\u001b[39m_threads:\n\u001b[0;32m--> 235\u001b[0m         \u001b[43mt\u001b[49m\u001b[38;5;241;43m.\u001b[39;49m\u001b[43mjoin\u001b[49m\u001b[43m(\u001b[49m\u001b[43m)\u001b[49m\n",
      "File \u001b[0;32m~/miniconda3/lib/python3.11/threading.py:1119\u001b[0m, in \u001b[0;36mThread.join\u001b[0;34m(self, timeout)\u001b[0m\n\u001b[1;32m   1116\u001b[0m     \u001b[38;5;28;01mraise\u001b[39;00m \u001b[38;5;167;01mRuntimeError\u001b[39;00m(\u001b[38;5;124m\"\u001b[39m\u001b[38;5;124mcannot join current thread\u001b[39m\u001b[38;5;124m\"\u001b[39m)\n\u001b[1;32m   1118\u001b[0m \u001b[38;5;28;01mif\u001b[39;00m timeout \u001b[38;5;129;01mis\u001b[39;00m \u001b[38;5;28;01mNone\u001b[39;00m:\n\u001b[0;32m-> 1119\u001b[0m     \u001b[38;5;28;43mself\u001b[39;49m\u001b[38;5;241;43m.\u001b[39;49m\u001b[43m_wait_for_tstate_lock\u001b[49m\u001b[43m(\u001b[49m\u001b[43m)\u001b[49m\n\u001b[1;32m   1120\u001b[0m \u001b[38;5;28;01melse\u001b[39;00m:\n\u001b[1;32m   1121\u001b[0m     \u001b[38;5;66;03m# the behavior of a negative timeout isn't documented, but\u001b[39;00m\n\u001b[1;32m   1122\u001b[0m     \u001b[38;5;66;03m# historically .join(timeout=x) for x<0 has acted as if timeout=0\u001b[39;00m\n\u001b[1;32m   1123\u001b[0m     \u001b[38;5;28mself\u001b[39m\u001b[38;5;241m.\u001b[39m_wait_for_tstate_lock(timeout\u001b[38;5;241m=\u001b[39m\u001b[38;5;28mmax\u001b[39m(timeout, \u001b[38;5;241m0\u001b[39m))\n",
      "File \u001b[0;32m~/miniconda3/lib/python3.11/threading.py:1139\u001b[0m, in \u001b[0;36mThread._wait_for_tstate_lock\u001b[0;34m(self, block, timeout)\u001b[0m\n\u001b[1;32m   1136\u001b[0m     \u001b[38;5;28;01mreturn\u001b[39;00m\n\u001b[1;32m   1138\u001b[0m \u001b[38;5;28;01mtry\u001b[39;00m:\n\u001b[0;32m-> 1139\u001b[0m     \u001b[38;5;28;01mif\u001b[39;00m \u001b[43mlock\u001b[49m\u001b[38;5;241;43m.\u001b[39;49m\u001b[43macquire\u001b[49m\u001b[43m(\u001b[49m\u001b[43mblock\u001b[49m\u001b[43m,\u001b[49m\u001b[43m \u001b[49m\u001b[43mtimeout\u001b[49m\u001b[43m)\u001b[49m:\n\u001b[1;32m   1140\u001b[0m         lock\u001b[38;5;241m.\u001b[39mrelease()\n\u001b[1;32m   1141\u001b[0m         \u001b[38;5;28mself\u001b[39m\u001b[38;5;241m.\u001b[39m_stop()\n",
      "File \u001b[0;32m~/Desktop/TSP_Hybrid/DSPy/dspy/lib/python3.11/site-packages/dspy/evaluate/evaluate.py:92\u001b[0m, in \u001b[0;36mEvaluate._execute_multi_thread.<locals>.interrupt_handler_manager.<locals>.interrupt_handler\u001b[0;34m(sig, frame)\u001b[0m\n\u001b[1;32m     90\u001b[0m \u001b[38;5;28mself\u001b[39m\u001b[38;5;241m.\u001b[39mcancel_jobs\u001b[38;5;241m.\u001b[39mset()\n\u001b[1;32m     91\u001b[0m dspy\u001b[38;5;241m.\u001b[39mlogger\u001b[38;5;241m.\u001b[39mwarning(\u001b[38;5;124m\"\u001b[39m\u001b[38;5;124mReceived SIGINT. Cancelling evaluation.\u001b[39m\u001b[38;5;124m\"\u001b[39m)\n\u001b[0;32m---> 92\u001b[0m \u001b[43mdefault_handler\u001b[49m\u001b[43m(\u001b[49m\u001b[43msig\u001b[49m\u001b[43m,\u001b[49m\u001b[43m \u001b[49m\u001b[43mframe\u001b[49m\u001b[43m)\u001b[49m\n",
      "\u001b[0;31mKeyboardInterrupt\u001b[0m: "
     ]
    }
   ],
   "source": [
    "zs_TSP = evaluater(PDP())\n",
    "print(f\"(Zero Shot) average distance is {zs_PDP / len(pdp_testset)}\")"
   ]
  },
  {
   "cell_type": "markdown",
   "id": "83abd91f-d0c1-43d1-bd30-d5a592ad0b72",
   "metadata": {},
   "source": [
    "Model eval:"
   ]
  },
  {
   "cell_type": "code",
   "execution_count": null,
   "id": "ad98ac9a-b6d3-4f26-880c-b25be747bc3a",
   "metadata": {},
   "outputs": [],
   "source": [
    "print(\"(MODEL) average distance is 159.6\")"
   ]
  },
  {
   "cell_type": "markdown",
   "id": "773ec6a9-2486-4119-a652-71e8542a10b0",
   "metadata": {},
   "source": [
    "Optimal route eval:"
   ]
  },
  {
   "cell_type": "code",
   "execution_count": null,
   "id": "6623461f-df0b-4a8e-a831-c6ee93470e97",
   "metadata": {},
   "outputs": [],
   "source": [
    "total_dis = 0\n",
    "for i in range(TEST_INSTANCES):\n",
    "    curr_example = test_ds[i]\n",
    "    total_dis += curr_example[\"optimal_distance\"]\n",
    "print(f\"(OPTIMAL) total distance is {total_dis}\")\n",
    "print(f\"(OPTIMAL) average distance is {total_dis/TEST_INSTANCES}\")"
   ]
  }
 ],
 "metadata": {
  "kernelspec": {
   "display_name": "Python (dspy-ai)",
   "language": "python",
   "name": "dspy"
  },
  "language_info": {
   "codemirror_mode": {
    "name": "ipython",
    "version": 3
   },
   "file_extension": ".py",
   "mimetype": "text/x-python",
   "name": "python",
   "nbconvert_exporter": "python",
   "pygments_lexer": "ipython3",
   "version": "3.11.8"
  }
 },
 "nbformat": 4,
 "nbformat_minor": 5
}
