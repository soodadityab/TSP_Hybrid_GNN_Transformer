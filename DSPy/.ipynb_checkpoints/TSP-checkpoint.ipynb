{
 "cells": [
  {
   "cell_type": "code",
   "execution_count": 1,
   "id": "eacf0e46",
   "metadata": {},
   "outputs": [],
   "source": [
    "import dspy\n",
    "import os\n",
    "from dspy.teleprompt import *\n",
    "import random\n",
    "import math\n",
    "import numpy as np\n",
    "from python_tsp.exact import solve_tsp_dynamic_programming\n",
    "import re\n",
    "\n",
    "os.environ['TOGETHER_API_KEY'] = '35ba5bebf6288e43fdc8989965161592e3335d7067c772c0c6995cdc0e60cd88'\n",
    "os.environ['TOGETHER_API_BASE'] = 'https://api.together.xyz/v1'"
   ]
  },
  {
   "cell_type": "code",
   "execution_count": 2,
   "id": "22a531ca-5eee-43a0-8b68-0c4532914c31",
   "metadata": {},
   "outputs": [],
   "source": [
    "# constants\n",
    "NUM_CITIES = 10\n",
    "TRAIN_INSTANCES = 100\n",
    "TEST_INSTANCES = 100\n",
    "CITIES = \" \".join(map(str, list(np.arange(NUM_CITIES))))\n",
    "# CITIES = \"[\" + \", \".join(map(str, list(np.arange(NUM_CITIES)))) + \"]\"\n",
    "NUM_THREADS = 5\n",
    "K = 8"
   ]
  },
  {
   "cell_type": "code",
   "execution_count": 3,
   "id": "df15624d-aaa7-4b70-882e-c79469afebcf",
   "metadata": {},
   "outputs": [],
   "source": [
    "# helper functions\n",
    "def euclidean_distance(point1, point2):\n",
    "    return round(math.sqrt((point1[0] - point2[0]) ** 2 + (point1[1] - point2[1]) ** 2), 1)\n",
    "\n",
    "def calc_path_distance(path, distances):\n",
    "    total_distance = 0\n",
    "    if len(path) < 2:\n",
    "        return 0\n",
    "    for i in range(len(path)-1):\n",
    "        total_distance += distances[path[i]][path[i + 1]]\n",
    "    total_distance += distances[0][path[len(path)-1]]\n",
    "    return total_distance\n",
    "\n",
    "def make_graphs(num_instances, num_cities):\n",
    "    x_range = (-20, 20)\n",
    "    y_range = (-20, 20)\n",
    "\n",
    "    distanceList = []\n",
    "    for _ in range(num_instances):\n",
    "        coordinates = [(random.uniform(*x_range), random.uniform(*y_range)) for _ in range(num_cities)]\n",
    "        distance_matrix = [[euclidean_distance(coordinates[i], coordinates[j]) for j in range(num_cities)] for i in range(num_cities)]\n",
    "        distanceList.append(np.array(distance_matrix))    \n",
    "    return distanceList\n",
    "\n",
    "def make_dataset(distanceList):\n",
    "    dataset = []\n",
    "    for matrix in distanceList:\n",
    "        permutation, distance = solve_tsp_dynamic_programming(matrix)\n",
    "        data_point = {\n",
    "            \"distance_matrix\": matrix.tolist(),\n",
    "            \"route\": permutation,\n",
    "            \"optimal_distance\": distance\n",
    "        }\n",
    "        dataset.append(data_point)\n",
    "    return dataset\n",
    "\n",
    "def makeDSPYExamples(dataset):\n",
    "    exampleList = []\n",
    "    for example in dataset:\n",
    "        distances = \"[\" + \", \".join([f\"[{', '.join(map(str, row))}]\" for row in example[\"distance_matrix\"]]) + \"]\"\n",
    "        route = \", \".join(map(str, example[\"route\"]))\n",
    "        exampleObj = dspy.Example(cities=CITIES, distances=distances, route=route).with_inputs(\"cities\", \"distances\")\n",
    "        exampleList.append(exampleObj)\n",
    "    return exampleList\n",
    "\n",
    "def random_baseline(distances):\n",
    "    numbers = list(range(NUM_CITIES))\n",
    "    random.shuffle(numbers)\n",
    "    curr = numbers[0]\n",
    "    for i in range(len(numbers)):\n",
    "        if numbers[i] == 0:\n",
    "            numbers[i] = curr\n",
    "            break\n",
    "    numbers[0] = 0\n",
    "    path_length = calc_path_distance(path=numbers, distances=distances)\n",
    "    return numbers, path_length"
   ]
  },
  {
   "cell_type": "code",
   "execution_count": 4,
   "id": "7c13f2c2",
   "metadata": {},
   "outputs": [],
   "source": [
    "# Train set:\n",
    "train_dl = make_graphs(TRAIN_INSTANCES, NUM_CITIES)\n",
    "train_ds = make_dataset(train_dl)\n",
    "tsp_trainset = makeDSPYExamples(train_ds)"
   ]
  },
  {
   "cell_type": "code",
   "execution_count": 5,
   "id": "0b4ac2bf-e5e7-43a6-9038-2f663c875a85",
   "metadata": {},
   "outputs": [],
   "source": [
    "# Test set:\n",
    "test_dl = make_graphs(TEST_INSTANCES, NUM_CITIES)\n",
    "test_ds = make_dataset(test_dl)\n",
    "tsp_testset = makeDSPYExamples(test_ds)"
   ]
  },
  {
   "cell_type": "code",
   "execution_count": 6,
   "id": "3c15c9b8-af2d-4f42-938e-fa71cd039ae2",
   "metadata": {},
   "outputs": [],
   "source": [
    "llama = dspy.Together(model=\"meta-llama/Meta-Llama-3-70B\", max_tokens=50)\n",
    "dspy.configure(lm=llama)"
   ]
  },
  {
   "cell_type": "code",
   "execution_count": 7,
   "id": "34204a54",
   "metadata": {},
   "outputs": [],
   "source": [
    "class TSP(dspy.Module):\n",
    "    def __init__(self):\n",
    "        super().__init__()\n",
    "        self.make_route = dspy.Predict(TSPSignature)\n",
    "        \n",
    "    def forward(self, cities, distances):\n",
    "        pred_route = self.make_route(cities=cities, distances=distances)\n",
    "        # print(pred_route)\n",
    "        return pred_route\n",
    "    \n",
    "class TSPSignature(dspy.Signature):\n",
    "    \"\"\"Generate a route, starting at city 0, visiting all cities once, minimizing distance traveled. The distance from the final node to city 0 will be added.\"\"\"\n",
    "    cities = dspy.InputField()\n",
    "    distances = dspy.InputField()\n",
    "    route = dspy.OutputField()\n",
    "\n",
    "def extract_route(route, N=NUM_CITIES):\n",
    "    # Extract the first N numbers from the route string\n",
    "    numbers = re.findall(r'\\d+', route)[:N]\n",
    "    \n",
    "    # Convert the numbers to integers\n",
    "    numbers = list(map(int, numbers))\n",
    "    # print(f\"extracted: {numbers}\")\n",
    "    return numbers\n",
    "\n",
    "def eval_tour(cities, route, distances):\n",
    "    # distances_matrix = np.array([list(map(float, row.split())) for row in distances.split('\\n')])\n",
    "    distances_matrix = np.array(eval(distances))\n",
    "    \n",
    "    try:\n",
    "        route = extract_route(route) # make it a list of ints\n",
    "        # print(route)\n",
    "        # print(route)\n",
    "    except ValueError:\n",
    "        raise ValueError(f\"Invalid route: {route}\")\n",
    "    if len(route) != len(distances_matrix):\n",
    "        raise ValueError(f\"Route length {len(route)} does not match number of cities {len(distances_matrix)}\")\n",
    "\n",
    "    # make it so that it's the difference between the two\n",
    "    total_distance = sum(distances_matrix[route[i]][route[i+1]] for i in range(len(route) - 1))\n",
    "    total_distance += distances_matrix[route[-1]][route[0]]\n",
    "    return total_distance\n",
    "\n",
    "# validation function for the TSP\n",
    "def metric(example, pred, trace=None):\n",
    "    # print(f\"pred.route: {pred.route}\")\n",
    "    try:\n",
    "        distance = eval_tour(example.cities, pred.route, example.distances)\n",
    "        return -distance  # Return negative distance to maximize the metric\n",
    "    except ValueError as e:\n",
    "        dspy.logger.error(e)\n",
    "        return float('-inf')\n",
    "    "
   ]
  },
  {
   "cell_type": "code",
   "execution_count": 8,
   "id": "5421ec89",
   "metadata": {},
   "outputs": [],
   "source": [
    "# DSPy optimizer to improve the TSP solution\n",
    "# config = dict(\n",
    "#     max_bootstrapped_demos=4,   # Number of bootstrapped demonstrations\n",
    "#     max_labeled_demos=4,        # Number of labeled demonstrations\n",
    "#     num_candidate_programs=10,  # Number of candidate programs to evaluate\n",
    "#     num_threads=4               # Number of threads for parallel evaluation\n",
    "# )\n",
    "# teleprompter = BootstrapFewShotWithRandomSearch(metric=metric, **config)\n",
    "\n",
    "teleprompter = LabeledFewShot(k=K)\n",
    "# teleprompter = BootstrapFewShot(max_labeled_demos=5, max_bootstrapped_demos=5)\n",
    "compiled_tsp = teleprompter.compile(TSP(), trainset=tsp_trainset)"
   ]
  },
  {
   "cell_type": "code",
   "execution_count": 9,
   "id": "bfd02960-a783-4652-af2a-9584af95c388",
   "metadata": {},
   "outputs": [
    {
     "name": "stderr",
     "output_type": "stream",
     "text": [
      "Average Metric: -6174.499999999999 / 40  (-15436.2):  39%|█████████████████████████████████████████████████████████▋                                                                                          | 39/100 [00:51<01:00,  1.02it/s]\u001b[2m2024-08-02T18:48:00.417493Z\u001b[0m [\u001b[33m\u001b[1mwarning  \u001b[0m] \u001b[1mReceived SIGINT. Cancelling evaluation.\u001b[0m [\u001b[0m\u001b[1m\u001b[34mdspy.evaluate.evaluate\u001b[0m]\u001b[0m \u001b[36mfilename\u001b[0m=\u001b[35mevaluate.py\u001b[0m \u001b[36mlineno\u001b[0m=\u001b[35m91\u001b[0m\n",
      "\u001b[2m2024-08-02T18:48:01.983160Z\u001b[0m [\u001b[33m\u001b[1mwarning  \u001b[0m] \u001b[1mReceived SIGINT. Cancelling evaluation.\u001b[0m [\u001b[0m\u001b[1m\u001b[34mdspy.evaluate.evaluate\u001b[0m]\u001b[0m \u001b[36mfilename\u001b[0m=\u001b[35mevaluate.py\u001b[0m \u001b[36mlineno\u001b[0m=\u001b[35m91\u001b[0m\n"
     ]
    },
    {
     "ename": "KeyboardInterrupt",
     "evalue": "",
     "output_type": "error",
     "traceback": [
      "\u001b[0;31m---------------------------------------------------------------------------\u001b[0m",
      "\u001b[0;31mKeyboardInterrupt\u001b[0m                         Traceback (most recent call last)",
      "File \u001b[0;32m~/Desktop/TSP_Hybrid/DSPy/dspy/lib/python3.11/site-packages/dspy/evaluate/evaluate.py:109\u001b[0m, in \u001b[0;36mEvaluate._execute_multi_thread\u001b[0;34m(self, wrapped_program, devset, num_threads, display_progress)\u001b[0m\n\u001b[1;32m    107\u001b[0m pbar \u001b[38;5;241m=\u001b[39m tqdm\u001b[38;5;241m.\u001b[39mtqdm(total\u001b[38;5;241m=\u001b[39m\u001b[38;5;28mlen\u001b[39m(devset), dynamic_ncols\u001b[38;5;241m=\u001b[39m\u001b[38;5;28;01mTrue\u001b[39;00m, disable\u001b[38;5;241m=\u001b[39m\u001b[38;5;129;01mnot\u001b[39;00m display_progress)\n\u001b[0;32m--> 109\u001b[0m \u001b[43m\u001b[49m\u001b[38;5;28;43;01mfor\u001b[39;49;00m\u001b[43m \u001b[49m\u001b[43mfuture\u001b[49m\u001b[43m \u001b[49m\u001b[38;5;129;43;01min\u001b[39;49;00m\u001b[43m \u001b[49m\u001b[43mas_completed\u001b[49m\u001b[43m(\u001b[49m\u001b[43mfutures\u001b[49m\u001b[43m)\u001b[49m\u001b[43m:\u001b[49m\n\u001b[1;32m    110\u001b[0m \u001b[43m    \u001b[49m\u001b[43mexample_idx\u001b[49m\u001b[43m,\u001b[49m\u001b[43m \u001b[49m\u001b[43mexample\u001b[49m\u001b[43m,\u001b[49m\u001b[43m \u001b[49m\u001b[43mprediction\u001b[49m\u001b[43m,\u001b[49m\u001b[43m \u001b[49m\u001b[43mscore\u001b[49m\u001b[43m \u001b[49m\u001b[38;5;241;43m=\u001b[39;49m\u001b[43m \u001b[49m\u001b[43mfuture\u001b[49m\u001b[38;5;241;43m.\u001b[39;49m\u001b[43mresult\u001b[49m\u001b[43m(\u001b[49m\u001b[43m)\u001b[49m\n",
      "File \u001b[0;32m~/miniconda3/lib/python3.11/concurrent/futures/_base.py:243\u001b[0m, in \u001b[0;36mas_completed\u001b[0;34m(fs, timeout)\u001b[0m\n\u001b[1;32m    239\u001b[0m         \u001b[38;5;28;01mraise\u001b[39;00m \u001b[38;5;167;01mTimeoutError\u001b[39;00m(\n\u001b[1;32m    240\u001b[0m                 \u001b[38;5;124m'\u001b[39m\u001b[38;5;132;01m%d\u001b[39;00m\u001b[38;5;124m (of \u001b[39m\u001b[38;5;132;01m%d\u001b[39;00m\u001b[38;5;124m) futures unfinished\u001b[39m\u001b[38;5;124m'\u001b[39m \u001b[38;5;241m%\u001b[39m (\n\u001b[1;32m    241\u001b[0m                 \u001b[38;5;28mlen\u001b[39m(pending), total_futures))\n\u001b[0;32m--> 243\u001b[0m \u001b[43mwaiter\u001b[49m\u001b[38;5;241;43m.\u001b[39;49m\u001b[43mevent\u001b[49m\u001b[38;5;241;43m.\u001b[39;49m\u001b[43mwait\u001b[49m\u001b[43m(\u001b[49m\u001b[43mwait_timeout\u001b[49m\u001b[43m)\u001b[49m\n\u001b[1;32m    245\u001b[0m \u001b[38;5;28;01mwith\u001b[39;00m waiter\u001b[38;5;241m.\u001b[39mlock:\n",
      "File \u001b[0;32m~/miniconda3/lib/python3.11/threading.py:629\u001b[0m, in \u001b[0;36mEvent.wait\u001b[0;34m(self, timeout)\u001b[0m\n\u001b[1;32m    628\u001b[0m \u001b[38;5;28;01mif\u001b[39;00m \u001b[38;5;129;01mnot\u001b[39;00m signaled:\n\u001b[0;32m--> 629\u001b[0m     signaled \u001b[38;5;241m=\u001b[39m \u001b[38;5;28;43mself\u001b[39;49m\u001b[38;5;241;43m.\u001b[39;49m\u001b[43m_cond\u001b[49m\u001b[38;5;241;43m.\u001b[39;49m\u001b[43mwait\u001b[49m\u001b[43m(\u001b[49m\u001b[43mtimeout\u001b[49m\u001b[43m)\u001b[49m\n\u001b[1;32m    630\u001b[0m \u001b[38;5;28;01mreturn\u001b[39;00m signaled\n",
      "File \u001b[0;32m~/miniconda3/lib/python3.11/threading.py:327\u001b[0m, in \u001b[0;36mCondition.wait\u001b[0;34m(self, timeout)\u001b[0m\n\u001b[1;32m    326\u001b[0m \u001b[38;5;28;01mif\u001b[39;00m timeout \u001b[38;5;129;01mis\u001b[39;00m \u001b[38;5;28;01mNone\u001b[39;00m:\n\u001b[0;32m--> 327\u001b[0m     \u001b[43mwaiter\u001b[49m\u001b[38;5;241;43m.\u001b[39;49m\u001b[43macquire\u001b[49m\u001b[43m(\u001b[49m\u001b[43m)\u001b[49m\n\u001b[1;32m    328\u001b[0m     gotit \u001b[38;5;241m=\u001b[39m \u001b[38;5;28;01mTrue\u001b[39;00m\n",
      "File \u001b[0;32m~/Desktop/TSP_Hybrid/DSPy/dspy/lib/python3.11/site-packages/dspy/evaluate/evaluate.py:92\u001b[0m, in \u001b[0;36mEvaluate._execute_multi_thread.<locals>.interrupt_handler_manager.<locals>.interrupt_handler\u001b[0;34m(sig, frame)\u001b[0m\n\u001b[1;32m     91\u001b[0m dspy\u001b[38;5;241m.\u001b[39mlogger\u001b[38;5;241m.\u001b[39mwarning(\u001b[38;5;124m\"\u001b[39m\u001b[38;5;124mReceived SIGINT. Cancelling evaluation.\u001b[39m\u001b[38;5;124m\"\u001b[39m)\n\u001b[0;32m---> 92\u001b[0m \u001b[43mdefault_handler\u001b[49m\u001b[43m(\u001b[49m\u001b[43msig\u001b[49m\u001b[43m,\u001b[49m\u001b[43m \u001b[49m\u001b[43mframe\u001b[49m\u001b[43m)\u001b[49m\n",
      "\u001b[0;31mKeyboardInterrupt\u001b[0m: ",
      "\nDuring handling of the above exception, another exception occurred:\n",
      "\u001b[0;31mKeyboardInterrupt\u001b[0m                         Traceback (most recent call last)",
      "Cell \u001b[0;32mIn[9], line 2\u001b[0m\n\u001b[1;32m      1\u001b[0m evaluater \u001b[38;5;241m=\u001b[39m Evaluate(devset\u001b[38;5;241m=\u001b[39mtsp_testset, metric\u001b[38;5;241m=\u001b[39mmetric, num_threads\u001b[38;5;241m=\u001b[39mNUM_THREADS, display_progress\u001b[38;5;241m=\u001b[39m\u001b[38;5;28;01mTrue\u001b[39;00m, display_table\u001b[38;5;241m=\u001b[39m\u001b[38;5;241m0\u001b[39m)\n\u001b[0;32m----> 2\u001b[0m \u001b[43mevaluater\u001b[49m\u001b[43m(\u001b[49m\u001b[43mcompiled_tsp\u001b[49m\u001b[43m)\u001b[49m\n",
      "File \u001b[0;32m~/Desktop/TSP_Hybrid/DSPy/dspy/lib/python3.11/site-packages/dspy/evaluate/evaluate.py:193\u001b[0m, in \u001b[0;36mEvaluate.__call__\u001b[0;34m(self, program, metric, devset, num_threads, display_progress, display_table, return_all_scores, return_outputs)\u001b[0m\n\u001b[1;32m    191\u001b[0m     reordered_devset, ncorrect, ntotal \u001b[38;5;241m=\u001b[39m \u001b[38;5;28mself\u001b[39m\u001b[38;5;241m.\u001b[39m_execute_single_thread(wrapped_program, devset, display_progress)\n\u001b[1;32m    192\u001b[0m \u001b[38;5;28;01melse\u001b[39;00m:\n\u001b[0;32m--> 193\u001b[0m     reordered_devset, ncorrect, ntotal \u001b[38;5;241m=\u001b[39m \u001b[38;5;28;43mself\u001b[39;49m\u001b[38;5;241;43m.\u001b[39;49m\u001b[43m_execute_multi_thread\u001b[49m\u001b[43m(\u001b[49m\n\u001b[1;32m    194\u001b[0m \u001b[43m        \u001b[49m\u001b[43mwrapped_program\u001b[49m\u001b[43m,\u001b[49m\n\u001b[1;32m    195\u001b[0m \u001b[43m        \u001b[49m\u001b[43mdevset\u001b[49m\u001b[43m,\u001b[49m\n\u001b[1;32m    196\u001b[0m \u001b[43m        \u001b[49m\u001b[43mnum_threads\u001b[49m\u001b[43m,\u001b[49m\n\u001b[1;32m    197\u001b[0m \u001b[43m        \u001b[49m\u001b[43mdisplay_progress\u001b[49m\u001b[43m,\u001b[49m\n\u001b[1;32m    198\u001b[0m \u001b[43m    \u001b[49m\u001b[43m)\u001b[49m\n\u001b[1;32m    200\u001b[0m dspy\u001b[38;5;241m.\u001b[39mlogger\u001b[38;5;241m.\u001b[39minfo(\u001b[38;5;124mf\u001b[39m\u001b[38;5;124m\"\u001b[39m\u001b[38;5;124mAverage Metric: \u001b[39m\u001b[38;5;132;01m{\u001b[39;00mncorrect\u001b[38;5;132;01m}\u001b[39;00m\u001b[38;5;124m / \u001b[39m\u001b[38;5;132;01m{\u001b[39;00mntotal\u001b[38;5;132;01m}\u001b[39;00m\u001b[38;5;124m (\u001b[39m\u001b[38;5;132;01m{\u001b[39;00m\u001b[38;5;28mround\u001b[39m(\u001b[38;5;241m100\u001b[39m\u001b[38;5;250m \u001b[39m\u001b[38;5;241m*\u001b[39m\u001b[38;5;250m \u001b[39mncorrect\u001b[38;5;250m \u001b[39m\u001b[38;5;241m/\u001b[39m\u001b[38;5;250m \u001b[39mntotal,\u001b[38;5;250m \u001b[39m\u001b[38;5;241m1\u001b[39m)\u001b[38;5;132;01m}\u001b[39;00m\u001b[38;5;124m%)\u001b[39m\u001b[38;5;124m\"\u001b[39m)\n\u001b[1;32m    202\u001b[0m predicted_devset \u001b[38;5;241m=\u001b[39m \u001b[38;5;28msorted\u001b[39m(reordered_devset)\n",
      "File \u001b[0;32m~/Desktop/TSP_Hybrid/DSPy/dspy/lib/python3.11/site-packages/dspy/evaluate/evaluate.py:105\u001b[0m, in \u001b[0;36mEvaluate._execute_multi_thread\u001b[0;34m(self, wrapped_program, devset, num_threads, display_progress)\u001b[0m\n\u001b[1;32m    102\u001b[0m         \u001b[38;5;28;01mreturn\u001b[39;00m \u001b[38;5;28;01mNone\u001b[39;00m, \u001b[38;5;28;01mNone\u001b[39;00m, job_cancelled, \u001b[38;5;28;01mNone\u001b[39;00m\n\u001b[1;32m    103\u001b[0m     \u001b[38;5;28;01mreturn\u001b[39;00m wrapped_program(idx, arg)\n\u001b[0;32m--> 105\u001b[0m \u001b[43m\u001b[49m\u001b[38;5;28;43;01mwith\u001b[39;49;00m\u001b[43m \u001b[49m\u001b[43mThreadPoolExecutor\u001b[49m\u001b[43m(\u001b[49m\u001b[43mmax_workers\u001b[49m\u001b[38;5;241;43m=\u001b[39;49m\u001b[43mnum_threads\u001b[49m\u001b[43m)\u001b[49m\u001b[43m \u001b[49m\u001b[38;5;28;43;01mas\u001b[39;49;00m\u001b[43m \u001b[49m\u001b[43mexecutor\u001b[49m\u001b[43m,\u001b[49m\u001b[43m \u001b[49m\u001b[43minterrupt_handler_manager\u001b[49m\u001b[43m(\u001b[49m\u001b[43m)\u001b[49m\u001b[43m:\u001b[49m\n\u001b[1;32m    106\u001b[0m \u001b[43m    \u001b[49m\u001b[43mfutures\u001b[49m\u001b[43m \u001b[49m\u001b[38;5;241;43m=\u001b[39;49m\u001b[43m \u001b[49m\u001b[43m{\u001b[49m\u001b[43mexecutor\u001b[49m\u001b[38;5;241;43m.\u001b[39;49m\u001b[43msubmit\u001b[49m\u001b[43m(\u001b[49m\u001b[43mcancellable_wrapped_program\u001b[49m\u001b[43m,\u001b[49m\u001b[43m \u001b[49m\u001b[43midx\u001b[49m\u001b[43m,\u001b[49m\u001b[43m \u001b[49m\u001b[43marg\u001b[49m\u001b[43m)\u001b[49m\u001b[43m \u001b[49m\u001b[38;5;28;43;01mfor\u001b[39;49;00m\u001b[43m \u001b[49m\u001b[43midx\u001b[49m\u001b[43m,\u001b[49m\u001b[43m \u001b[49m\u001b[43marg\u001b[49m\u001b[43m \u001b[49m\u001b[38;5;129;43;01min\u001b[39;49;00m\u001b[43m \u001b[49m\u001b[43mdevset\u001b[49m\u001b[43m}\u001b[49m\n\u001b[1;32m    107\u001b[0m \u001b[43m    \u001b[49m\u001b[43mpbar\u001b[49m\u001b[43m \u001b[49m\u001b[38;5;241;43m=\u001b[39;49m\u001b[43m \u001b[49m\u001b[43mtqdm\u001b[49m\u001b[38;5;241;43m.\u001b[39;49m\u001b[43mtqdm\u001b[49m\u001b[43m(\u001b[49m\u001b[43mtotal\u001b[49m\u001b[38;5;241;43m=\u001b[39;49m\u001b[38;5;28;43mlen\u001b[39;49m\u001b[43m(\u001b[49m\u001b[43mdevset\u001b[49m\u001b[43m)\u001b[49m\u001b[43m,\u001b[49m\u001b[43m \u001b[49m\u001b[43mdynamic_ncols\u001b[49m\u001b[38;5;241;43m=\u001b[39;49m\u001b[38;5;28;43;01mTrue\u001b[39;49;00m\u001b[43m,\u001b[49m\u001b[43m \u001b[49m\u001b[43mdisable\u001b[49m\u001b[38;5;241;43m=\u001b[39;49m\u001b[38;5;129;43;01mnot\u001b[39;49;00m\u001b[43m \u001b[49m\u001b[43mdisplay_progress\u001b[49m\u001b[43m)\u001b[49m\n",
      "File \u001b[0;32m~/miniconda3/lib/python3.11/concurrent/futures/_base.py:647\u001b[0m, in \u001b[0;36mExecutor.__exit__\u001b[0;34m(self, exc_type, exc_val, exc_tb)\u001b[0m\n\u001b[1;32m    646\u001b[0m \u001b[38;5;28;01mdef\u001b[39;00m \u001b[38;5;21m__exit__\u001b[39m(\u001b[38;5;28mself\u001b[39m, exc_type, exc_val, exc_tb):\n\u001b[0;32m--> 647\u001b[0m     \u001b[38;5;28;43mself\u001b[39;49m\u001b[38;5;241;43m.\u001b[39;49m\u001b[43mshutdown\u001b[49m\u001b[43m(\u001b[49m\u001b[43mwait\u001b[49m\u001b[38;5;241;43m=\u001b[39;49m\u001b[38;5;28;43;01mTrue\u001b[39;49;00m\u001b[43m)\u001b[49m\n\u001b[1;32m    648\u001b[0m     \u001b[38;5;28;01mreturn\u001b[39;00m \u001b[38;5;28;01mFalse\u001b[39;00m\n",
      "File \u001b[0;32m~/miniconda3/lib/python3.11/concurrent/futures/thread.py:235\u001b[0m, in \u001b[0;36mThreadPoolExecutor.shutdown\u001b[0;34m(self, wait, cancel_futures)\u001b[0m\n\u001b[1;32m    233\u001b[0m \u001b[38;5;28;01mif\u001b[39;00m wait:\n\u001b[1;32m    234\u001b[0m     \u001b[38;5;28;01mfor\u001b[39;00m t \u001b[38;5;129;01min\u001b[39;00m \u001b[38;5;28mself\u001b[39m\u001b[38;5;241m.\u001b[39m_threads:\n\u001b[0;32m--> 235\u001b[0m         \u001b[43mt\u001b[49m\u001b[38;5;241;43m.\u001b[39;49m\u001b[43mjoin\u001b[49m\u001b[43m(\u001b[49m\u001b[43m)\u001b[49m\n",
      "File \u001b[0;32m~/miniconda3/lib/python3.11/threading.py:1119\u001b[0m, in \u001b[0;36mThread.join\u001b[0;34m(self, timeout)\u001b[0m\n\u001b[1;32m   1116\u001b[0m     \u001b[38;5;28;01mraise\u001b[39;00m \u001b[38;5;167;01mRuntimeError\u001b[39;00m(\u001b[38;5;124m\"\u001b[39m\u001b[38;5;124mcannot join current thread\u001b[39m\u001b[38;5;124m\"\u001b[39m)\n\u001b[1;32m   1118\u001b[0m \u001b[38;5;28;01mif\u001b[39;00m timeout \u001b[38;5;129;01mis\u001b[39;00m \u001b[38;5;28;01mNone\u001b[39;00m:\n\u001b[0;32m-> 1119\u001b[0m     \u001b[38;5;28;43mself\u001b[39;49m\u001b[38;5;241;43m.\u001b[39;49m\u001b[43m_wait_for_tstate_lock\u001b[49m\u001b[43m(\u001b[49m\u001b[43m)\u001b[49m\n\u001b[1;32m   1120\u001b[0m \u001b[38;5;28;01melse\u001b[39;00m:\n\u001b[1;32m   1121\u001b[0m     \u001b[38;5;66;03m# the behavior of a negative timeout isn't documented, but\u001b[39;00m\n\u001b[1;32m   1122\u001b[0m     \u001b[38;5;66;03m# historically .join(timeout=x) for x<0 has acted as if timeout=0\u001b[39;00m\n\u001b[1;32m   1123\u001b[0m     \u001b[38;5;28mself\u001b[39m\u001b[38;5;241m.\u001b[39m_wait_for_tstate_lock(timeout\u001b[38;5;241m=\u001b[39m\u001b[38;5;28mmax\u001b[39m(timeout, \u001b[38;5;241m0\u001b[39m))\n",
      "File \u001b[0;32m~/miniconda3/lib/python3.11/threading.py:1139\u001b[0m, in \u001b[0;36mThread._wait_for_tstate_lock\u001b[0;34m(self, block, timeout)\u001b[0m\n\u001b[1;32m   1136\u001b[0m     \u001b[38;5;28;01mreturn\u001b[39;00m\n\u001b[1;32m   1138\u001b[0m \u001b[38;5;28;01mtry\u001b[39;00m:\n\u001b[0;32m-> 1139\u001b[0m     \u001b[38;5;28;01mif\u001b[39;00m \u001b[43mlock\u001b[49m\u001b[38;5;241;43m.\u001b[39;49m\u001b[43macquire\u001b[49m\u001b[43m(\u001b[49m\u001b[43mblock\u001b[49m\u001b[43m,\u001b[49m\u001b[43m \u001b[49m\u001b[43mtimeout\u001b[49m\u001b[43m)\u001b[49m:\n\u001b[1;32m   1140\u001b[0m         lock\u001b[38;5;241m.\u001b[39mrelease()\n\u001b[1;32m   1141\u001b[0m         \u001b[38;5;28mself\u001b[39m\u001b[38;5;241m.\u001b[39m_stop()\n",
      "File \u001b[0;32m~/Desktop/TSP_Hybrid/DSPy/dspy/lib/python3.11/site-packages/dspy/evaluate/evaluate.py:92\u001b[0m, in \u001b[0;36mEvaluate._execute_multi_thread.<locals>.interrupt_handler_manager.<locals>.interrupt_handler\u001b[0;34m(sig, frame)\u001b[0m\n\u001b[1;32m     90\u001b[0m \u001b[38;5;28mself\u001b[39m\u001b[38;5;241m.\u001b[39mcancel_jobs\u001b[38;5;241m.\u001b[39mset()\n\u001b[1;32m     91\u001b[0m dspy\u001b[38;5;241m.\u001b[39mlogger\u001b[38;5;241m.\u001b[39mwarning(\u001b[38;5;124m\"\u001b[39m\u001b[38;5;124mReceived SIGINT. Cancelling evaluation.\u001b[39m\u001b[38;5;124m\"\u001b[39m)\n\u001b[0;32m---> 92\u001b[0m \u001b[43mdefault_handler\u001b[49m\u001b[43m(\u001b[49m\u001b[43msig\u001b[49m\u001b[43m,\u001b[49m\u001b[43m \u001b[49m\u001b[43mframe\u001b[49m\u001b[43m)\u001b[49m\n",
      "\u001b[0;31mKeyboardInterrupt\u001b[0m: "
     ]
    }
   ],
   "source": [
    "evaluater = Evaluate(devset=tsp_testset, metric=metric, num_threads=NUM_THREADS, display_progress=True, display_table=0)\n",
    "evaluater(compiled_tsp)"
   ]
  },
  {
   "cell_type": "code",
   "execution_count": 10,
   "id": "e4792cbc-97bd-4032-aa6d-6b7b5aa2f3e0",
   "metadata": {},
   "outputs": [
    {
     "name": "stdout",
     "output_type": "stream",
     "text": [
      "\n",
      "\n",
      "\n",
      "Generate a route, starting at city 0, visiting all cities once, minimizing distance traveled. The distance from the final node to city 0 will be added.\n",
      "\n",
      "---\n",
      "\n",
      "Follow the following format.\n",
      "\n",
      "Cities: ${cities}\n",
      "Distances: ${distances}\n",
      "Route: ${route}\n",
      "\n",
      "---\n",
      "\n",
      "Cities: 0 1 2 3 4 5 6 7 8 9\n",
      "Distances: [[0.0, 27.6, 41.1, 14.0, 30.0, 22.9, 17.9, 34.8, 26.5, 19.1], [27.6, 0.0, 19.3, 24.6, 27.0, 6.8, 33.0, 34.1, 2.3, 9.8], [41.1, 19.3, 0.0, 31.5, 22.4, 25.8, 37.8, 27.6, 21.6, 22.7], [14.0, 24.6, 31.5, 0.0, 16.2, 23.2, 8.5, 20.8, 24.7, 14.9], [30.0, 27.0, 22.4, 16.2, 0.0, 29.6, 18.4, 7.2, 28.3, 20.8], [22.9, 6.8, 25.8, 23.2, 29.6, 0.0, 31.7, 36.7, 4.7, 9.2], [17.9, 33.0, 37.8, 8.5, 18.4, 31.7, 0.0, 20.1, 33.1, 23.4], [34.8, 34.1, 27.6, 20.8, 7.2, 36.7, 20.1, 0.0, 35.5, 27.8], [26.5, 2.3, 21.6, 24.7, 28.3, 4.7, 33.1, 35.5, 0.0, 9.8], [19.1, 9.8, 22.7, 14.9, 20.8, 9.2, 23.4, 27.8, 9.8, 0.0]]\n",
      "Route: 0, 3, 6, 7, 4, 2, 1, 8, 5, 9\n",
      "\n",
      "---\n",
      "\n",
      "Cities: 0 1 2 3 4 5 6 7 8 9\n",
      "Distances: [[0.0, 13.6, 17.7, 36.8, 22.3, 36.8, 16.2, 39.7, 9.2, 30.5], [13.6, 0.0, 15.9, 40.3, 30.4, 42.4, 2.9, 33.6, 18.4, 23.0], [17.7, 15.9, 0.0, 24.7, 18.7, 27.5, 18.1, 22.1, 13.3, 14.1], [36.8, 40.3, 24.7, 0.0, 17.2, 6.5, 42.6, 26.6, 27.8, 29.0], [22.3, 30.4, 18.7, 17.2, 0.0, 15.1, 33.2, 34.2, 13.2, 30.6], [36.8, 42.4, 27.5, 6.5, 15.1, 0.0, 44.9, 32.8, 27.5, 34.1], [16.2, 2.9, 18.1, 42.6, 33.2, 44.9, 0.0, 34.3, 21.4, 23.6], [39.7, 33.6, 22.1, 26.6, 34.2, 32.8, 34.3, 0.0, 34.7, 10.8], [9.2, 18.4, 13.3, 27.8, 13.2, 27.5, 21.4, 34.7, 0.0, 27.3], [30.5, 23.0, 14.1, 29.0, 30.6, 34.1, 23.6, 10.8, 27.3, 0.0]]\n",
      "Route: 0, 1, 6, 2, 9, 7, 3, 5, 4, 8\n",
      "\n",
      "---\n",
      "\n",
      "Cities: 0 1 2 3 4 5 6 7 8 9\n",
      "Distances: [[0.0, 13.0, 19.2, 25.6, 12.8, 9.7, 17.2, 1.6, 16.7, 22.2], [13.0, 0.0, 16.0, 32.5, 10.7, 6.4, 21.6, 11.5, 8.6, 24.5], [19.2, 16.0, 0.0, 44.5, 6.6, 20.6, 34.8, 18.5, 24.6, 38.9], [25.6, 32.5, 44.5, 0.0, 37.9, 26.1, 11.2, 26.0, 28.0, 11.4], [12.8, 10.7, 6.6, 37.9, 0.0, 14.3, 28.2, 12.0, 19.2, 32.4], [9.7, 6.4, 20.6, 26.1, 14.3, 0.0, 15.2, 8.3, 7.0, 18.5], [17.2, 21.6, 34.8, 11.2, 28.2, 15.2, 0.0, 17.1, 16.8, 5.5], [1.6, 11.5, 18.5, 26.0, 12.0, 8.3, 17.1, 0.0, 15.3, 22.0], [16.7, 8.6, 24.6, 28.0, 19.2, 7.0, 16.8, 15.3, 0.0, 18.1], [22.2, 24.5, 38.9, 11.4, 32.4, 18.5, 5.5, 22.0, 18.1, 0.0]]\n",
      "Route: 0, 7, 4, 2, 1, 5, 8, 9, 3, 6\n",
      "\n",
      "---\n",
      "\n",
      "Cities: 0 1 2 3 4 5 6 7 8 9\n",
      "Distances: [[0.0, 37.3, 26.9, 5.6, 38.4, 33.3, 22.3, 38.2, 27.3, 32.8], [37.3, 0.0, 24.5, 32.6, 3.5, 5.4, 17.8, 4.5, 19.7, 29.2], [26.9, 24.5, 0.0, 21.5, 27.7, 24.8, 10.4, 28.3, 4.8, 42.4], [5.6, 32.6, 21.5, 0.0, 34.0, 29.0, 16.9, 33.9, 21.8, 32.2], [38.4, 3.5, 27.7, 34.0, 0.0, 5.2, 20.3, 1.1, 22.9, 27.0], [33.3, 5.4, 24.8, 29.0, 5.2, 0.0, 16.2, 4.9, 20.0, 24.1], [22.3, 17.8, 10.4, 16.9, 20.3, 16.2, 0.0, 20.5, 7.1, 32.0], [38.2, 4.5, 28.3, 33.9, 1.1, 4.9, 20.5, 0.0, 23.5, 26.0], [27.3, 19.7, 4.8, 21.8, 22.9, 20.0, 7.1, 23.5, 0.0, 38.8], [32.8, 29.2, 42.4, 32.2, 27.0, 24.1, 32.0, 26.0, 38.8, 0.0]]\n",
      "Route: 0, 3, 2, 8, 6, 1, 4, 7, 5, 9\n",
      "\n",
      "---\n",
      "\n",
      "Cities: 0 1 2 3 4 5 6 7 8 9\n",
      "Distances: [[0.0, 14.6, 3.6, 5.9, 24.4, 16.2, 8.2, 9.5, 13.1, 17.3], [14.6, 0.0, 13.2, 20.3, 38.9, 16.6, 10.7, 23.6, 2.2, 16.8], [3.6, 13.2, 0.0, 8.9, 25.8, 12.6, 4.8, 12.5, 11.4, 19.6], [5.9, 20.3, 8.9, 0.0, 19.3, 20.7, 13.7, 3.6, 18.9, 19.1], [24.4, 38.9, 25.8, 19.3, 0.0, 32.9, 29.9, 16.8, 37.2, 37.2], [16.2, 16.6, 12.6, 20.7, 32.9, 0.0, 8.9, 23.9, 14.6, 30.1], [8.2, 10.7, 4.8, 13.7, 29.9, 8.9, 0.0, 17.2, 8.5, 21.4], [9.5, 23.6, 12.5, 3.6, 16.8, 23.9, 17.2, 0.0, 22.3, 20.6], [13.1, 2.2, 11.4, 18.9, 37.2, 14.6, 8.5, 22.3, 0.0, 17.6], [17.3, 16.8, 19.6, 19.1, 37.2, 30.1, 21.4, 20.6, 17.6, 0.0]]\n",
      "Route: 0, 2, 6, 5, 8, 1, 9, 7, 4, 3\n",
      "\n",
      "---\n",
      "\n",
      "Cities: 0 1 2 3 4 5 6 7 8 9\n",
      "Distances: [[0.0, 31.5, 32.2, 28.7, 35.5, 39.4, 31.8, 35.2, 33.5, 40.3], [31.5, 0.0, 8.7, 5.5, 8.8, 9.3, 21.9, 3.7, 17.7, 14.5], [32.2, 8.7, 0.0, 13.4, 3.6, 8.7, 30.1, 9.4, 9.1, 8.4], [28.7, 5.5, 13.4, 0.0, 14.2, 14.6, 16.7, 8.4, 22.0, 20.0], [35.5, 8.8, 3.6, 14.2, 0.0, 5.3, 30.8, 8.0, 11.0, 5.8], [39.4, 9.3, 8.7, 14.6, 5.3, 0.0, 30.0, 6.4, 15.9, 7.4], [31.8, 21.9, 30.1, 16.7, 30.8, 30.0, 0.0, 23.7, 38.4, 36.3], [35.2, 3.7, 9.4, 8.4, 8.0, 6.4, 23.7, 0.0, 18.4, 12.9], [33.5, 17.7, 9.1, 22.0, 11.0, 15.9, 38.4, 18.4, 0.0, 10.7], [40.3, 14.5, 8.4, 20.0, 5.8, 7.4, 36.3, 12.9, 10.7, 0.0]]\n",
      "Route: 0, 6, 3, 1, 7, 5, 9, 4, 2, 8\n",
      "\n",
      "---\n",
      "\n",
      "Cities: 0 1 2 3 4 5 6 7 8 9\n",
      "Distances: [[0.0, 24.2, 14.5, 17.7, 10.2, 15.8, 13.3, 6.2, 19.8, 21.2], [24.2, 0.0, 22.7, 41.9, 34.4, 39.7, 23.5, 23.5, 9.5, 36.2], [14.5, 22.7, 0.0, 26.8, 20.6, 27.1, 26.0, 8.5, 24.3, 13.5], [17.7, 41.9, 26.8, 0.0, 7.6, 4.8, 25.6, 20.0, 36.9, 23.2], [10.2, 34.4, 20.6, 7.6, 0.0, 6.5, 19.3, 13.0, 29.5, 20.7], [15.8, 39.7, 27.1, 4.8, 6.5, 0.0, 21.6, 19.5, 33.9, 26.0], [13.3, 23.5, 26.0, 25.6, 19.3, 21.6, 0.0, 18.8, 15.0, 34.5], [6.2, 23.5, 8.5, 20.0, 13.0, 19.5, 18.8, 0.0, 21.6, 16.1], [19.8, 9.5, 24.3, 36.9, 29.5, 33.9, 15.0, 21.6, 0.0, 36.8], [21.2, 36.2, 13.5, 23.2, 20.7, 26.0, 34.5, 16.1, 36.8, 0.0]]\n",
      "Route: 0, 4, 3, 5, 6, 8, 1, 2, 9, 7\n",
      "\n",
      "---\n",
      "\n",
      "Cities: 0 1 2 3 4 5 6 7 8 9\n",
      "Distances: [[0.0, 41.7, 41.2, 7.4, 46.3, 32.4, 24.1, 2.5, 39.8, 9.6], [41.7, 0.0, 20.2, 39.2, 16.5, 36.3, 18.6, 42.6, 9.5, 32.3], [41.2, 20.2, 0.0, 42.3, 7.6, 20.1, 27.1, 43.1, 10.7, 32.5], [7.4, 39.2, 42.3, 0.0, 46.4, 36.8, 20.7, 5.8, 39.0, 10.1], [46.3, 16.5, 7.6, 46.4, 0.0, 27.7, 28.7, 47.9, 8.7, 37.1], [32.4, 36.3, 20.1, 36.8, 27.7, 0.0, 32.2, 34.8, 27.7, 27.2], [24.1, 18.6, 27.1, 20.7, 28.7, 32.2, 0.0, 24.5, 20.3, 15.3], [2.5, 42.6, 43.1, 5.8, 47.9, 34.8, 24.5, 0.0, 41.1, 10.9], [39.8, 9.5, 10.7, 39.0, 8.7, 27.7, 20.3, 41.1, 0.0, 30.3], [9.6, 32.3, 32.5, 10.1, 37.1, 27.2, 15.3, 10.9, 30.3, 0.0]]\n",
      "Route: 0, 7, 3, 6, 1, 8, 4, 2, 5, 9\n",
      "\n",
      "---\n",
      "\n",
      "Cities: 0 1 2 3 4 5 6 7 8 9\n",
      "Distances: [[0.0, 8.2, 26.6, 33.5, 23.3, 13.6, 13.4, 38.5, 9.8, 6.6], [8.2, 0.0, 33.1, 41.2, 28.7, 21.6, 20.5, 46.5, 3.5, 10.7], [26.6, 33.1, 0.0, 12.8, 6.3, 16.3, 27.5, 21.2, 32.4, 22.4], [33.5, 41.2, 12.8, 0.0, 19.0, 20.3, 28.9, 8.5, 41.4, 31.4], [23.3, 28.7, 6.3, 19.0, 0.0, 16.1, 27.2, 27.2, 27.6, 18.0], [13.6, 21.6, 16.3, 20.3, 16.1, 0.0, 11.3, 24.9, 22.5, 13.5], [13.4, 20.5, 27.5, 28.9, 27.2, 11.3, 0.0, 31.1, 22.9, 18.0], [38.5, 46.5, 21.2, 8.5, 27.2, 24.9, 31.1, 0.0, 47.2, 37.5], [9.8, 3.5, 32.4, 41.4, 27.6, 22.5, 22.9, 47.2, 0.0, 10.1], [6.6, 10.7, 22.4, 31.4, 18.0, 13.5, 18.0, 37.5, 10.1, 0.0]]\n",
      "Route:\u001b[32m 0, 1, 8, 2, 4, 5, 6, 9, 3, 7\n",
      "\n",
      "---\n",
      "\n",
      "Cities: 0 1 2 3 4 5 6 7 \u001b[0m\n",
      "\n",
      "\n",
      "\n"
     ]
    },
    {
     "data": {
      "text/plain": [
       "'\\n\\n\\nGenerate a route, starting at city 0, visiting all cities once, minimizing distance traveled. The distance from the final node to city 0 will be added.\\n\\n---\\n\\nFollow the following format.\\n\\nCities: ${cities}\\nDistances: ${distances}\\nRoute: ${route}\\n\\n---\\n\\nCities: 0 1 2 3 4 5 6 7 8 9\\nDistances: [[0.0, 27.6, 41.1, 14.0, 30.0, 22.9, 17.9, 34.8, 26.5, 19.1], [27.6, 0.0, 19.3, 24.6, 27.0, 6.8, 33.0, 34.1, 2.3, 9.8], [41.1, 19.3, 0.0, 31.5, 22.4, 25.8, 37.8, 27.6, 21.6, 22.7], [14.0, 24.6, 31.5, 0.0, 16.2, 23.2, 8.5, 20.8, 24.7, 14.9], [30.0, 27.0, 22.4, 16.2, 0.0, 29.6, 18.4, 7.2, 28.3, 20.8], [22.9, 6.8, 25.8, 23.2, 29.6, 0.0, 31.7, 36.7, 4.7, 9.2], [17.9, 33.0, 37.8, 8.5, 18.4, 31.7, 0.0, 20.1, 33.1, 23.4], [34.8, 34.1, 27.6, 20.8, 7.2, 36.7, 20.1, 0.0, 35.5, 27.8], [26.5, 2.3, 21.6, 24.7, 28.3, 4.7, 33.1, 35.5, 0.0, 9.8], [19.1, 9.8, 22.7, 14.9, 20.8, 9.2, 23.4, 27.8, 9.8, 0.0]]\\nRoute: 0, 3, 6, 7, 4, 2, 1, 8, 5, 9\\n\\n---\\n\\nCities: 0 1 2 3 4 5 6 7 8 9\\nDistances: [[0.0, 13.6, 17.7, 36.8, 22.3, 36.8, 16.2, 39.7, 9.2, 30.5], [13.6, 0.0, 15.9, 40.3, 30.4, 42.4, 2.9, 33.6, 18.4, 23.0], [17.7, 15.9, 0.0, 24.7, 18.7, 27.5, 18.1, 22.1, 13.3, 14.1], [36.8, 40.3, 24.7, 0.0, 17.2, 6.5, 42.6, 26.6, 27.8, 29.0], [22.3, 30.4, 18.7, 17.2, 0.0, 15.1, 33.2, 34.2, 13.2, 30.6], [36.8, 42.4, 27.5, 6.5, 15.1, 0.0, 44.9, 32.8, 27.5, 34.1], [16.2, 2.9, 18.1, 42.6, 33.2, 44.9, 0.0, 34.3, 21.4, 23.6], [39.7, 33.6, 22.1, 26.6, 34.2, 32.8, 34.3, 0.0, 34.7, 10.8], [9.2, 18.4, 13.3, 27.8, 13.2, 27.5, 21.4, 34.7, 0.0, 27.3], [30.5, 23.0, 14.1, 29.0, 30.6, 34.1, 23.6, 10.8, 27.3, 0.0]]\\nRoute: 0, 1, 6, 2, 9, 7, 3, 5, 4, 8\\n\\n---\\n\\nCities: 0 1 2 3 4 5 6 7 8 9\\nDistances: [[0.0, 13.0, 19.2, 25.6, 12.8, 9.7, 17.2, 1.6, 16.7, 22.2], [13.0, 0.0, 16.0, 32.5, 10.7, 6.4, 21.6, 11.5, 8.6, 24.5], [19.2, 16.0, 0.0, 44.5, 6.6, 20.6, 34.8, 18.5, 24.6, 38.9], [25.6, 32.5, 44.5, 0.0, 37.9, 26.1, 11.2, 26.0, 28.0, 11.4], [12.8, 10.7, 6.6, 37.9, 0.0, 14.3, 28.2, 12.0, 19.2, 32.4], [9.7, 6.4, 20.6, 26.1, 14.3, 0.0, 15.2, 8.3, 7.0, 18.5], [17.2, 21.6, 34.8, 11.2, 28.2, 15.2, 0.0, 17.1, 16.8, 5.5], [1.6, 11.5, 18.5, 26.0, 12.0, 8.3, 17.1, 0.0, 15.3, 22.0], [16.7, 8.6, 24.6, 28.0, 19.2, 7.0, 16.8, 15.3, 0.0, 18.1], [22.2, 24.5, 38.9, 11.4, 32.4, 18.5, 5.5, 22.0, 18.1, 0.0]]\\nRoute: 0, 7, 4, 2, 1, 5, 8, 9, 3, 6\\n\\n---\\n\\nCities: 0 1 2 3 4 5 6 7 8 9\\nDistances: [[0.0, 37.3, 26.9, 5.6, 38.4, 33.3, 22.3, 38.2, 27.3, 32.8], [37.3, 0.0, 24.5, 32.6, 3.5, 5.4, 17.8, 4.5, 19.7, 29.2], [26.9, 24.5, 0.0, 21.5, 27.7, 24.8, 10.4, 28.3, 4.8, 42.4], [5.6, 32.6, 21.5, 0.0, 34.0, 29.0, 16.9, 33.9, 21.8, 32.2], [38.4, 3.5, 27.7, 34.0, 0.0, 5.2, 20.3, 1.1, 22.9, 27.0], [33.3, 5.4, 24.8, 29.0, 5.2, 0.0, 16.2, 4.9, 20.0, 24.1], [22.3, 17.8, 10.4, 16.9, 20.3, 16.2, 0.0, 20.5, 7.1, 32.0], [38.2, 4.5, 28.3, 33.9, 1.1, 4.9, 20.5, 0.0, 23.5, 26.0], [27.3, 19.7, 4.8, 21.8, 22.9, 20.0, 7.1, 23.5, 0.0, 38.8], [32.8, 29.2, 42.4, 32.2, 27.0, 24.1, 32.0, 26.0, 38.8, 0.0]]\\nRoute: 0, 3, 2, 8, 6, 1, 4, 7, 5, 9\\n\\n---\\n\\nCities: 0 1 2 3 4 5 6 7 8 9\\nDistances: [[0.0, 14.6, 3.6, 5.9, 24.4, 16.2, 8.2, 9.5, 13.1, 17.3], [14.6, 0.0, 13.2, 20.3, 38.9, 16.6, 10.7, 23.6, 2.2, 16.8], [3.6, 13.2, 0.0, 8.9, 25.8, 12.6, 4.8, 12.5, 11.4, 19.6], [5.9, 20.3, 8.9, 0.0, 19.3, 20.7, 13.7, 3.6, 18.9, 19.1], [24.4, 38.9, 25.8, 19.3, 0.0, 32.9, 29.9, 16.8, 37.2, 37.2], [16.2, 16.6, 12.6, 20.7, 32.9, 0.0, 8.9, 23.9, 14.6, 30.1], [8.2, 10.7, 4.8, 13.7, 29.9, 8.9, 0.0, 17.2, 8.5, 21.4], [9.5, 23.6, 12.5, 3.6, 16.8, 23.9, 17.2, 0.0, 22.3, 20.6], [13.1, 2.2, 11.4, 18.9, 37.2, 14.6, 8.5, 22.3, 0.0, 17.6], [17.3, 16.8, 19.6, 19.1, 37.2, 30.1, 21.4, 20.6, 17.6, 0.0]]\\nRoute: 0, 2, 6, 5, 8, 1, 9, 7, 4, 3\\n\\n---\\n\\nCities: 0 1 2 3 4 5 6 7 8 9\\nDistances: [[0.0, 31.5, 32.2, 28.7, 35.5, 39.4, 31.8, 35.2, 33.5, 40.3], [31.5, 0.0, 8.7, 5.5, 8.8, 9.3, 21.9, 3.7, 17.7, 14.5], [32.2, 8.7, 0.0, 13.4, 3.6, 8.7, 30.1, 9.4, 9.1, 8.4], [28.7, 5.5, 13.4, 0.0, 14.2, 14.6, 16.7, 8.4, 22.0, 20.0], [35.5, 8.8, 3.6, 14.2, 0.0, 5.3, 30.8, 8.0, 11.0, 5.8], [39.4, 9.3, 8.7, 14.6, 5.3, 0.0, 30.0, 6.4, 15.9, 7.4], [31.8, 21.9, 30.1, 16.7, 30.8, 30.0, 0.0, 23.7, 38.4, 36.3], [35.2, 3.7, 9.4, 8.4, 8.0, 6.4, 23.7, 0.0, 18.4, 12.9], [33.5, 17.7, 9.1, 22.0, 11.0, 15.9, 38.4, 18.4, 0.0, 10.7], [40.3, 14.5, 8.4, 20.0, 5.8, 7.4, 36.3, 12.9, 10.7, 0.0]]\\nRoute: 0, 6, 3, 1, 7, 5, 9, 4, 2, 8\\n\\n---\\n\\nCities: 0 1 2 3 4 5 6 7 8 9\\nDistances: [[0.0, 24.2, 14.5, 17.7, 10.2, 15.8, 13.3, 6.2, 19.8, 21.2], [24.2, 0.0, 22.7, 41.9, 34.4, 39.7, 23.5, 23.5, 9.5, 36.2], [14.5, 22.7, 0.0, 26.8, 20.6, 27.1, 26.0, 8.5, 24.3, 13.5], [17.7, 41.9, 26.8, 0.0, 7.6, 4.8, 25.6, 20.0, 36.9, 23.2], [10.2, 34.4, 20.6, 7.6, 0.0, 6.5, 19.3, 13.0, 29.5, 20.7], [15.8, 39.7, 27.1, 4.8, 6.5, 0.0, 21.6, 19.5, 33.9, 26.0], [13.3, 23.5, 26.0, 25.6, 19.3, 21.6, 0.0, 18.8, 15.0, 34.5], [6.2, 23.5, 8.5, 20.0, 13.0, 19.5, 18.8, 0.0, 21.6, 16.1], [19.8, 9.5, 24.3, 36.9, 29.5, 33.9, 15.0, 21.6, 0.0, 36.8], [21.2, 36.2, 13.5, 23.2, 20.7, 26.0, 34.5, 16.1, 36.8, 0.0]]\\nRoute: 0, 4, 3, 5, 6, 8, 1, 2, 9, 7\\n\\n---\\n\\nCities: 0 1 2 3 4 5 6 7 8 9\\nDistances: [[0.0, 41.7, 41.2, 7.4, 46.3, 32.4, 24.1, 2.5, 39.8, 9.6], [41.7, 0.0, 20.2, 39.2, 16.5, 36.3, 18.6, 42.6, 9.5, 32.3], [41.2, 20.2, 0.0, 42.3, 7.6, 20.1, 27.1, 43.1, 10.7, 32.5], [7.4, 39.2, 42.3, 0.0, 46.4, 36.8, 20.7, 5.8, 39.0, 10.1], [46.3, 16.5, 7.6, 46.4, 0.0, 27.7, 28.7, 47.9, 8.7, 37.1], [32.4, 36.3, 20.1, 36.8, 27.7, 0.0, 32.2, 34.8, 27.7, 27.2], [24.1, 18.6, 27.1, 20.7, 28.7, 32.2, 0.0, 24.5, 20.3, 15.3], [2.5, 42.6, 43.1, 5.8, 47.9, 34.8, 24.5, 0.0, 41.1, 10.9], [39.8, 9.5, 10.7, 39.0, 8.7, 27.7, 20.3, 41.1, 0.0, 30.3], [9.6, 32.3, 32.5, 10.1, 37.1, 27.2, 15.3, 10.9, 30.3, 0.0]]\\nRoute: 0, 7, 3, 6, 1, 8, 4, 2, 5, 9\\n\\n---\\n\\nCities: 0 1 2 3 4 5 6 7 8 9\\nDistances: [[0.0, 8.2, 26.6, 33.5, 23.3, 13.6, 13.4, 38.5, 9.8, 6.6], [8.2, 0.0, 33.1, 41.2, 28.7, 21.6, 20.5, 46.5, 3.5, 10.7], [26.6, 33.1, 0.0, 12.8, 6.3, 16.3, 27.5, 21.2, 32.4, 22.4], [33.5, 41.2, 12.8, 0.0, 19.0, 20.3, 28.9, 8.5, 41.4, 31.4], [23.3, 28.7, 6.3, 19.0, 0.0, 16.1, 27.2, 27.2, 27.6, 18.0], [13.6, 21.6, 16.3, 20.3, 16.1, 0.0, 11.3, 24.9, 22.5, 13.5], [13.4, 20.5, 27.5, 28.9, 27.2, 11.3, 0.0, 31.1, 22.9, 18.0], [38.5, 46.5, 21.2, 8.5, 27.2, 24.9, 31.1, 0.0, 47.2, 37.5], [9.8, 3.5, 32.4, 41.4, 27.6, 22.5, 22.9, 47.2, 0.0, 10.1], [6.6, 10.7, 22.4, 31.4, 18.0, 13.5, 18.0, 37.5, 10.1, 0.0]]\\nRoute:\\x1b[32m 0, 1, 8, 2, 4, 5, 6, 9, 3, 7\\n\\n---\\n\\nCities: 0 1 2 3 4 5 6 7 \\x1b[0m\\n\\n\\n'"
      ]
     },
     "execution_count": 10,
     "metadata": {},
     "output_type": "execute_result"
    }
   ],
   "source": [
    "llama.inspect_history(n=1)"
   ]
  },
  {
   "cell_type": "code",
   "execution_count": null,
   "id": "33585e61-ccf7-49b9-96f6-758c1fd39432",
   "metadata": {},
   "outputs": [],
   "source": [
    "test_example = tsp_testset[0]\n",
    "numerical_test_example = test_ds[4]\n",
    "print(numerical_test_example)"
   ]
  },
  {
   "cell_type": "code",
   "execution_count": null,
   "id": "af359585-50b4-4c61-ad4f-aa038badba31",
   "metadata": {},
   "outputs": [],
   "source": [
    "predicted_result = compiled_tsp(cities=test_example.cities, distances=test_example.distances)\n",
    "\n",
    "predicted_route = predicted_result.route\n",
    "\n",
    "predicted_distance = eval_tour(test_example.cities, predicted_route, test_example.distances)\n",
    "\n",
    "print(f\"Predicted route: {predicted_route}\")\n",
    "print(f\"Total distance of the predicted route: {predicted_distance}\")\n",
    "\n",
    "optimal_route = test_example.route\n",
    "optimal_distance = eval_tour(test_example.cities, optimal_route, test_example.distances)\n",
    "print(f\"Optimal route: {optimal_route}\")\n",
    "print(f\"Total distance of the optimal route: {optimal_distance}\")"
   ]
  },
  {
   "cell_type": "code",
   "execution_count": null,
   "id": "9527cad0-c5cd-48c4-b683-6f2c2b51a81b",
   "metadata": {},
   "outputs": [],
   "source": [
    "print(numerical_test_example)\n",
    "path, distance = random_baseline(numerical_test_example[\"distance_matrix\"])\n",
    "print(f\"path is {path}\")\n",
    "print(f\"distance is {distance}\")"
   ]
  },
  {
   "cell_type": "markdown",
   "id": "7a503978-0046-4595-a298-2d155bdc4763",
   "metadata": {},
   "source": [
    "Random baseline eval:"
   ]
  },
  {
   "cell_type": "code",
   "execution_count": null,
   "id": "81efc486-8bfa-4eee-a5f4-b9ca6f536e62",
   "metadata": {},
   "outputs": [],
   "source": [
    "total_dis = 0\n",
    "for i in range(TEST_INSTANCES):\n",
    "    curr_example = test_ds[i]\n",
    "    _, distance = random_baseline(curr_example[\"distance_matrix\"])\n",
    "    total_dis += distance\n",
    "print(f\"(RANDOM) total distance is {total_dis}\")\n",
    "print(f\"(RANDOM) average distance is {total_dis/TEST_INSTANCES}\")"
   ]
  },
  {
   "cell_type": "code",
   "execution_count": null,
   "id": "4f00ff49-3153-48c9-a6b3-216ee58df78c",
   "metadata": {},
   "outputs": [],
   "source": [
    "zs_TSP = evaluater(TSP())\n",
    "print(f\"(Zero Shot) average distance is {zs_TSP / len(tsp_testset)}\")"
   ]
  },
  {
   "cell_type": "markdown",
   "id": "83abd91f-d0c1-43d1-bd30-d5a592ad0b72",
   "metadata": {},
   "source": [
    "Model eval:"
   ]
  },
  {
   "cell_type": "code",
   "execution_count": null,
   "id": "ad98ac9a-b6d3-4f26-880c-b25be747bc3a",
   "metadata": {},
   "outputs": [],
   "source": [
    "print(\"(MODEL) average distance is 159.6\")"
   ]
  },
  {
   "cell_type": "markdown",
   "id": "773ec6a9-2486-4119-a652-71e8542a10b0",
   "metadata": {},
   "source": [
    "Optimal route eval:"
   ]
  },
  {
   "cell_type": "code",
   "execution_count": null,
   "id": "6623461f-df0b-4a8e-a831-c6ee93470e97",
   "metadata": {},
   "outputs": [],
   "source": [
    "total_dis = 0\n",
    "for i in range(TEST_INSTANCES):\n",
    "    curr_example = test_ds[i]\n",
    "    total_dis += curr_example[\"optimal_distance\"]\n",
    "print(f\"(OPTIMAL) total distance is {total_dis}\")\n",
    "print(f\"(OPTIMAL) average distance is {total_dis/TEST_INSTANCES}\")"
   ]
  }
 ],
 "metadata": {
  "kernelspec": {
   "display_name": "Python (dspy-ai)",
   "language": "python",
   "name": "dspy"
  },
  "language_info": {
   "codemirror_mode": {
    "name": "ipython",
    "version": 3
   },
   "file_extension": ".py",
   "mimetype": "text/x-python",
   "name": "python",
   "nbconvert_exporter": "python",
   "pygments_lexer": "ipython3",
   "version": "3.11.8"
  }
 },
 "nbformat": 4,
 "nbformat_minor": 5
}
