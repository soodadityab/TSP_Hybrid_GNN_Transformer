{
 "cells": [
  {
   "cell_type": "code",
   "execution_count": 1,
   "id": "eacf0e46",
   "metadata": {},
   "outputs": [],
   "source": [
    "import os\n",
    "import math\n",
    "import random\n",
    "import numpy as np\n",
    "import re\n",
    "import dspy\n",
    "from dspy.teleprompt import *\n",
    "from ortools.constraint_solver import pywrapcp, routing_enums_pb2\n",
    "\n",
    "os.environ['TOGETHER_API_KEY'] = '35ba5bebf6288e43fdc8989965161592e3335d7067c772c0c6995cdc0e60cd88'\n",
    "os.environ['TOGETHER_API_BASE'] = 'https://api.together.xyz/v1'"
   ]
  },
  {
   "cell_type": "code",
   "execution_count": 25,
   "id": "22a531ca-5eee-43a0-8b68-0c4532914c31",
   "metadata": {},
   "outputs": [],
   "source": [
    "# constants\n",
    "NUM_PAIRS = 1\n",
    "NUM_CITIES = 10\n",
    "TRAIN_INSTANCES = 100\n",
    "TEST_INSTANCES = 100\n",
    "# CITIES = \" \".join(map(str, list(np.arange(NUM_CITIES))))\n",
    "CITIES = \", \".join(map(str, list(np.arange(NUM_CITIES))))\n",
    "NUM_THREADS = 5\n",
    "K = 6"
   ]
  },
  {
   "cell_type": "code",
   "execution_count": 26,
   "id": "d7163fe8-5593-4f13-acf0-7c6eb7f4322b",
   "metadata": {},
   "outputs": [
    {
     "data": {
      "text/plain": [
       "'0, 1, 2, 3, 4, 5, 6, 7, 8, 9'"
      ]
     },
     "execution_count": 26,
     "metadata": {},
     "output_type": "execute_result"
    }
   ],
   "source": [
    "CITIES"
   ]
  },
  {
   "cell_type": "code",
   "execution_count": 3,
   "id": "7971a281-76a1-4afb-b2f9-6f8f4f947a7a",
   "metadata": {},
   "outputs": [],
   "source": [
    "# OR Tools\n",
    "def create_data_model(distance_matrix, constraints):\n",
    "    \"\"\"Stores the data for the problem.\"\"\"\n",
    "    data = {\n",
    "        \"distance_matrix\": distance_matrix,\n",
    "        \"pickups_deliveries\": constraints,\n",
    "        \"num_vehicles\": 1,\n",
    "        \"depot\": 0\n",
    "    }\n",
    "    return data\n",
    "\n",
    "def print_solution(data, manager, routing, solution):\n",
    "    \"\"\"Prints solution on console and returns the route and distance.\"\"\"\n",
    "    total_distance = 0\n",
    "    optimal_route = []\n",
    "    \n",
    "    for vehicle_id in range(data[\"num_vehicles\"]):\n",
    "        index = routing.Start(vehicle_id)\n",
    "        route = []\n",
    "        route_distance = 0\n",
    "        plan_output = f\"Route for vehicle {vehicle_id}:\\n\"\n",
    "        while not routing.IsEnd(index):\n",
    "            node_index = manager.IndexToNode(index)\n",
    "            route.append(node_index)\n",
    "            plan_output += f\" {node_index} -> \"\n",
    "            previous_index = index\n",
    "            index = solution.Value(routing.NextVar(index))\n",
    "            route_distance += routing.GetArcCostForVehicle(previous_index, index, vehicle_id)\n",
    "        node_index = manager.IndexToNode(index)\n",
    "        route.append(node_index)\n",
    "        plan_output += f\"{node_index}\\n\"\n",
    "        plan_output += f\"Distance of the route: {route_distance}m\\n\"\n",
    "        # print(plan_output)\n",
    "        optimal_route.append(route)\n",
    "        total_distance += route_distance\n",
    "    optimal_route = optimal_route[0][:-1]\n",
    "    # print(f\"Total Distance of all routes: {total_distance}m\")\n",
    "    return optimal_route, total_distance\n",
    "\n",
    "\n",
    "def solve_pdp_with_constraints(locations, constraints, distance_matrix, num_vehicles=1, depot=0):\n",
    "    \"\"\"Solve the PDP using OR-Tools.\"\"\"\n",
    "    locations = [list(loc) for loc in locations]\n",
    "    distance_matrix = distance_matrix.astype(int).tolist()\n",
    "\n",
    "    data = create_data_model(distance_matrix, constraints)\n",
    "\n",
    "    manager = pywrapcp.RoutingIndexManager(len(data[\"distance_matrix\"]), num_vehicles, depot)\n",
    "\n",
    "    routing = pywrapcp.RoutingModel(manager)\n",
    "\n",
    "    def distance_callback(from_index, to_index):\n",
    "        from_node = manager.IndexToNode(from_index)\n",
    "        to_node = manager.IndexToNode(to_index)\n",
    "        return data[\"distance_matrix\"][from_node][to_node]\n",
    "\n",
    "    transit_callback_index = routing.RegisterTransitCallback(distance_callback)\n",
    "    routing.SetArcCostEvaluatorOfAllVehicles(transit_callback_index)\n",
    "\n",
    "    dimension_name = \"Distance\"\n",
    "    routing.AddDimension(\n",
    "        transit_callback_index,\n",
    "        0,  # no slack\n",
    "        3000,  # vehicle maximum travel distance\n",
    "        True,  # start cumul to zero\n",
    "        dimension_name,\n",
    "    )\n",
    "    distance_dimension = routing.GetDimensionOrDie(dimension_name)\n",
    "    distance_dimension.SetGlobalSpanCostCoefficient(100)\n",
    "\n",
    "    for request in data[\"pickups_deliveries\"]:\n",
    "        pickup_index = manager.NodeToIndex(request[0])\n",
    "        delivery_index = manager.NodeToIndex(request[1])\n",
    "        routing.AddPickupAndDelivery(pickup_index, delivery_index)\n",
    "        routing.solver().Add(routing.VehicleVar(pickup_index) == routing.VehicleVar(delivery_index))\n",
    "        routing.solver().Add(distance_dimension.CumulVar(pickup_index) <= distance_dimension.CumulVar(delivery_index))\n",
    "\n",
    "    search_parameters = pywrapcp.DefaultRoutingSearchParameters()\n",
    "    search_parameters.first_solution_strategy = routing_enums_pb2.FirstSolutionStrategy.PARALLEL_CHEAPEST_INSERTION\n",
    "\n",
    "    solution = routing.SolveWithParameters(search_parameters)\n",
    "\n",
    "    if solution:\n",
    "        optimal_route, total_distance = print_solution(data, manager, routing, solution)\n",
    "        return optimal_route, total_distance\n",
    "    else:\n",
    "        print(\"No solution found!\")\n",
    "        return None"
   ]
  },
  {
   "cell_type": "code",
   "execution_count": 43,
   "id": "df15624d-aaa7-4b70-882e-c79469afebcf",
   "metadata": {},
   "outputs": [],
   "source": [
    "def euclidean_distance(point1, point2):\n",
    "    return round(math.sqrt((point1[0] - point2[0]) ** 2 + (point1[1] - point2[1]) ** 2), 1)\n",
    "\n",
    "def calc_path_distance(path, distances):\n",
    "    total_distance = 0\n",
    "    if len(path) < 2:\n",
    "        return 0\n",
    "    for i in range(len(path) - 1):\n",
    "        total_distance += distances[path[i]][path[i + 1]]\n",
    "    total_distance += distances[path[-1]][path[0]]\n",
    "    return total_distance\n",
    "\n",
    "def make_graphs(num_instances, num_cities):\n",
    "    x_range = (-20, 20)\n",
    "    y_range = (-20, 20)\n",
    "\n",
    "    distanceList = []\n",
    "    precedence_constraints = []\n",
    "    for _ in range(num_instances):\n",
    "        coordinates = [(random.randint(*x_range), random.randint(*y_range)) for _ in range(num_cities)]\n",
    "        distance_matrix = [[euclidean_distance(coordinates[i], coordinates[j]) for j in range(num_cities)] for i in range(num_cities)]\n",
    "        \n",
    "        # Generate NUM_PAIRS random precedence pairs\n",
    "        # ensures there is no constraint where 0 is after sumn\n",
    "        pairs = []\n",
    "        for _ in range(NUM_PAIRS):\n",
    "            a, b = random.sample(range(1, num_cities), 2)\n",
    "            pairs.append((a, b))\n",
    "        \n",
    "        distanceList.append(np.array(distance_matrix))\n",
    "        precedence_constraints.append(pairs)\n",
    "    return coordinates, distanceList, precedence_constraints\n",
    "\n",
    "def make_dataset(coordinates, distanceList, precedence_constraints):\n",
    "    dataset = []\n",
    "    for i in range(len(distanceList)):\n",
    "        matrix = distanceList[i]\n",
    "        constraints = precedence_constraints[i]\n",
    "        # Replace with your own PDP solver or use OR-tools for a quick setup\n",
    "        optimal_route, total_distance = solve_pdp_with_constraints(locations=coordinates, constraints=constraints, distance_matrix=matrix)\n",
    "        data_point = {\n",
    "            \"distances\": matrix.tolist(),\n",
    "            \"route\": optimal_route,\n",
    "            \"optimal_distance\": total_distance,\n",
    "            \"constraints\": constraints\n",
    "        }\n",
    "        dataset.append(data_point)\n",
    "    return dataset\n",
    "\n",
    "def adjacency_matrix_to_distances(matrix):\n",
    "    distances_str = \"\"\n",
    "    num_cities = len(matrix)\n",
    "    for i in range(num_cities):\n",
    "        for j in range(i + 1, num_cities):\n",
    "            distances_str += f\"  - {i} to {j}: {matrix[i][j]}\\n\"\n",
    "    return distances_str\n",
    "\n",
    "def makeDSPYExamples(dataset):\n",
    "    exampleList = []\n",
    "    for example in dataset:\n",
    "        str_distances = adjacency_matrix_to_distances(example[\"distances\"])\n",
    "        route = \" -> \".join(map(str, example[\"route\"]))\n",
    "        constraints = \", \".join([f\"({p[0]}, {p[1]})\" for p in example[\"constraints\"]])\n",
    "        opt_dis = str(example[\"optimal_distance\"])\n",
    "        exampleObj = dspy.Example(Cities=CITIES, Distances=str_distances, Constraints=constraints, Route=route, Optimal_Distance=opt_dis).with_inputs(\"Cities\", \"Distances\", \"Constraints\")\n",
    "        exampleList.append(exampleObj)\n",
    "    return exampleList\n",
    "\n",
    "def random_baseline(distances, constraints):\n",
    "    numbers = list(range(1, NUM_CITIES))\n",
    "    random.shuffle(numbers)\n",
    "    numbers.insert(0, 0)\n",
    "    for constraint in constraints:\n",
    "        a, b = constraint\n",
    "        if numbers.index(a) > numbers.index(b):\n",
    "            numbers.remove(a)\n",
    "            numbers.insert(numbers.index(b), a)\n",
    "    \n",
    "    path_length = calc_path_distance(path=numbers, distances=distances)\n",
    "    return numbers, path_length"
   ]
  },
  {
   "cell_type": "code",
   "execution_count": 44,
   "id": "7c13f2c2",
   "metadata": {},
   "outputs": [],
   "source": [
    "# Train set:\n",
    "train_coordinates, train_dl, train_p = make_graphs(TRAIN_INSTANCES, NUM_CITIES)\n",
    "train_ds = make_dataset(train_coordinates, train_dl, train_p)\n",
    "pdp_trainset = makeDSPYExamples(train_ds)"
   ]
  },
  {
   "cell_type": "code",
   "execution_count": 45,
   "id": "4d33e713-2d0b-41c3-befe-0f14a06b1897",
   "metadata": {},
   "outputs": [
    {
     "data": {
      "text/plain": [
       "Example({'Cities': '0, 1, 2, 3, 4, 5, 6, 7, 8, 9', 'Distances': '  - 0 to 1: 27.0\\n  - 0 to 2: 25.5\\n  - 0 to 3: 5.7\\n  - 0 to 4: 14.8\\n  - 0 to 5: 24.2\\n  - 0 to 6: 21.6\\n  - 0 to 7: 21.2\\n  - 0 to 8: 12.0\\n  - 0 to 9: 28.7\\n  - 1 to 2: 11.7\\n  - 1 to 3: 23.3\\n  - 1 to 4: 36.4\\n  - 1 to 5: 13.4\\n  - 1 to 6: 38.3\\n  - 1 to 7: 31.9\\n  - 1 to 8: 28.6\\n  - 1 to 9: 28.2\\n  - 2 to 3: 24.2\\n  - 2 to 4: 38.4\\n  - 2 to 5: 2.2\\n  - 2 to 6: 29.7\\n  - 2 to 7: 22.4\\n  - 2 to 8: 22.0\\n  - 2 to 9: 16.6\\n  - 3 to 4: 14.2\\n  - 3 to 5: 23.3\\n  - 3 to 6: 26.6\\n  - 3 to 7: 25.0\\n  - 3 to 8: 16.3\\n  - 3 to 9: 30.7\\n  - 4 to 5: 37.5\\n  - 4 to 6: 34.1\\n  - 4 to 7: 35.4\\n  - 4 to 8: 26.2\\n  - 4 to 9: 43.4\\n  - 5 to 6: 27.5\\n  - 5 to 7: 20.1\\n  - 5 to 8: 20.0\\n  - 5 to 9: 14.8\\n  - 6 to 7: 8.0\\n  - 6 to 8: 10.8\\n  - 6 to 9: 19.4\\n  - 7 to 8: 9.2\\n  - 7 to 9: 11.7\\n  - 8 to 9: 18.4\\n', 'Constraints': '(4, 2)', 'Route': '0 -> 4 -> 3 -> 1 -> 2 -> 5 -> 9 -> 7 -> 6 -> 8', 'Optimal_Distance': '119'}) (input_keys={'Distances', 'Cities', 'Constraints'})"
      ]
     },
     "execution_count": 45,
     "metadata": {},
     "output_type": "execute_result"
    }
   ],
   "source": [
    "pdp_trainset[0]"
   ]
  },
  {
   "cell_type": "code",
   "execution_count": 46,
   "id": "0b4ac2bf-e5e7-43a6-9038-2f663c875a85",
   "metadata": {},
   "outputs": [],
   "source": [
    "# Test set:\n",
    "test_coordinates, test_dl, test_p = make_graphs(TEST_INSTANCES, NUM_CITIES)\n",
    "test_ds = make_dataset(test_coordinates, test_dl, test_p)\n",
    "pdp_testset = makeDSPYExamples(test_ds)"
   ]
  },
  {
   "cell_type": "code",
   "execution_count": 47,
   "id": "3c15c9b8-af2d-4f42-938e-fa71cd039ae2",
   "metadata": {},
   "outputs": [],
   "source": [
    "llama = dspy.Together(model=\"meta-llama/Meta-Llama-3-70B\", max_tokens=50)\n",
    "dspy.configure(lm=llama)"
   ]
  },
  {
   "cell_type": "code",
   "execution_count": 48,
   "id": "100fdf67-2ed3-460d-a9f0-acc8249ca999",
   "metadata": {},
   "outputs": [
    {
     "data": {
      "text/plain": [
       "Example({'Cities': '0, 1, 2, 3, 4, 5, 6, 7, 8, 9', 'Distances': '  - 0 to 1: 27.0\\n  - 0 to 2: 25.5\\n  - 0 to 3: 5.7\\n  - 0 to 4: 14.8\\n  - 0 to 5: 24.2\\n  - 0 to 6: 21.6\\n  - 0 to 7: 21.2\\n  - 0 to 8: 12.0\\n  - 0 to 9: 28.7\\n  - 1 to 2: 11.7\\n  - 1 to 3: 23.3\\n  - 1 to 4: 36.4\\n  - 1 to 5: 13.4\\n  - 1 to 6: 38.3\\n  - 1 to 7: 31.9\\n  - 1 to 8: 28.6\\n  - 1 to 9: 28.2\\n  - 2 to 3: 24.2\\n  - 2 to 4: 38.4\\n  - 2 to 5: 2.2\\n  - 2 to 6: 29.7\\n  - 2 to 7: 22.4\\n  - 2 to 8: 22.0\\n  - 2 to 9: 16.6\\n  - 3 to 4: 14.2\\n  - 3 to 5: 23.3\\n  - 3 to 6: 26.6\\n  - 3 to 7: 25.0\\n  - 3 to 8: 16.3\\n  - 3 to 9: 30.7\\n  - 4 to 5: 37.5\\n  - 4 to 6: 34.1\\n  - 4 to 7: 35.4\\n  - 4 to 8: 26.2\\n  - 4 to 9: 43.4\\n  - 5 to 6: 27.5\\n  - 5 to 7: 20.1\\n  - 5 to 8: 20.0\\n  - 5 to 9: 14.8\\n  - 6 to 7: 8.0\\n  - 6 to 8: 10.8\\n  - 6 to 9: 19.4\\n  - 7 to 8: 9.2\\n  - 7 to 9: 11.7\\n  - 8 to 9: 18.4\\n', 'Constraints': '(4, 2)', 'Route': '0 -> 4 -> 3 -> 1 -> 2 -> 5 -> 9 -> 7 -> 6 -> 8', 'Optimal_Distance': '119'}) (input_keys={'Distances', 'Cities', 'Constraints'})"
      ]
     },
     "execution_count": 48,
     "metadata": {},
     "output_type": "execute_result"
    }
   ],
   "source": [
    "pdp_trainset[0]"
   ]
  },
  {
   "cell_type": "code",
   "execution_count": 88,
   "id": "34204a54",
   "metadata": {},
   "outputs": [],
   "source": [
    "def check_order(route, pickup, delivery):\n",
    "    return route.index(pickup) < route.index(delivery)\n",
    "\n",
    "class PDP(dspy.Module):\n",
    "    def __init__(self):\n",
    "        super().__init__()\n",
    "        self.make_route = dspy.Predict(PDPSignature)\n",
    "        \n",
    "    def forward(self, Cities, Distances, Constraints):\n",
    "        pred_route = self.make_route(Cities=Cities, Distances=Distances, Constraints=Constraints)\n",
    "        numbers, pickup, delivery = extract_route(pred_route.Route, Constraints)\n",
    "        dspy.Suggest(\n",
    "                check_order(numbers, pickup, delivery),\n",
    "                f\"{pickup} must be visited before {delivery}\"\n",
    "            )\n",
    "        return pred_route\n",
    "    \n",
    "class PDPSignature(dspy.Signature):\n",
    "    \"\"\"Generate a TSP route starting at city 0 that visits the specified pickup before the delivery node, minimizing distance traveled.\"\"\"\n",
    "    Cities = dspy.InputField(desc=\"List of city indices to visit\")\n",
    "    Distances = dspy.InputField(desc=\"Distances between two cities\")\n",
    "    Route = dspy.OutputField(desc=\"Optimized route visiting all cities with pickup and delivery\")\n",
    "    Constraints = dspy.InputField(desc=\"Tuple containing (pickup, delivery) nodes\")\n",
    "\n",
    "\n",
    "def extract_route(route, constraints, N=NUM_CITIES):\n",
    "    # Extract the first N numbers from the route string\n",
    "    numbers = re.findall(r'\\d+', route)[:N]\n",
    "    \n",
    "    # Convert the numbers to integers\n",
    "    numbers = list(map(int, numbers))\n",
    "\n",
    "    pattern = r'\\((\\d+),\\s*(\\d+)\\)'\n",
    "\n",
    "    # Use re.search to find the numbers\n",
    "    match = re.search(pattern, constraints)\n",
    "    \n",
    "    if match:\n",
    "        pickup = int(match.group(1))\n",
    "        delivery = int(match.group(2))\n",
    "        # print(\"First number:\", pickup)\n",
    "        # print(\"Second number:\", delivery)\n",
    "    else:\n",
    "        print(\"No match found\")\n",
    "    return numbers, pickup, delivery\n",
    "\n",
    "def eval_tour(cities, route, distances, constraints):\n",
    "    try:\n",
    "        route, pickup, delivery = extract_route(route, constraints)  # make it a list of ints\n",
    "    except ValueError:\n",
    "        raise ValueError(f\"Invalid route: {route}\")\n",
    "\n",
    "    # Check precedence constraints\n",
    "    if route.index(pickup) > route.index(delivery):\n",
    "        raise ValueError(f\"Precedence constraint violated: {pickup} must be visited before {delivery}\")\n",
    "\n",
    "    distances_dict = {}\n",
    "    pattern = re.compile(r\"\\s*-\\s*(\\d+)\\s*to\\s*(\\d+):\\s*([\\d.]+)\")\n",
    "    \n",
    "    for line in distances.splitlines():\n",
    "        match = pattern.match(line)\n",
    "        if match:\n",
    "            city1, city2, distance = match.groups()\n",
    "            city1, city2, distance = int(city1), int(city2), float(distance)\n",
    "            distances_dict[(city1, city2)] = distance\n",
    "            distances_dict[(city2, city1)] = distance  # since the distances are symmetrical\n",
    "    \n",
    "    # Step 2: Calculate the total distance of the route\n",
    "    total_distance = 0.0\n",
    "    for i in range(len(route) - 1):\n",
    "        city1 = route[i]\n",
    "        city2 = route[i + 1]\n",
    "        total_distance += distances_dict[(city1, city2)]\n",
    "    \n",
    "    # To return to the starting point\n",
    "    total_distance += distances_dict[(route[-1], route[0])]\n",
    "    return total_distance\n",
    "\n",
    "# Validation function for the Precedence-Constrained TSP\n",
    "def metric(example, pred, trace=None):\n",
    "    try:\n",
    "        distance = eval_tour(example.Cities, pred.Route, example.Distances, example.Constraints)\n",
    "        return -distance  # Return negative distance to maximize the metric\n",
    "    except ValueError as e:\n",
    "        dspy.logger.error(e)\n",
    "        return -200"
   ]
  },
  {
   "cell_type": "code",
   "execution_count": 89,
   "id": "d0cb22a8-830d-44fd-84d3-c3080270b4ed",
   "metadata": {},
   "outputs": [
    {
     "name": "stderr",
     "output_type": "stream",
     "text": [
      "Average Metric: -2105.4 / 13  (-16195.4):  13%|▏| 13/100 [00:49<03:26,  2.38s/it\u001b[2m2024-08-05T18:17:37.193005Z\u001b[0m [\u001b[31m\u001b[1merror    \u001b[0m] \u001b[1mPrecedence constraint violated: 3 must be visited before 4\u001b[0m [\u001b[0m\u001b[1m\u001b[34m__main__\u001b[0m]\u001b[0m \u001b[36mfilename\u001b[0m=\u001b[35m1988560602.py\u001b[0m \u001b[36mlineno\u001b[0m=\u001b[35m85\u001b[0m\n",
      "Average Metric: -3532.3 / 22  (-16055.9):  22%|▏| 22/100 [01:12<02:54,  2.24s/it\u001b[2m2024-08-05T18:18:00.196661Z\u001b[0m [\u001b[31m\u001b[1merror    \u001b[0m] \u001b[1mPrecedence constraint violated: 5 must be visited before 7\u001b[0m [\u001b[0m\u001b[1m\u001b[34m__main__\u001b[0m]\u001b[0m \u001b[36mfilename\u001b[0m=\u001b[35m1988560602.py\u001b[0m \u001b[36mlineno\u001b[0m=\u001b[35m85\u001b[0m\n",
      "Average Metric: -4212.8 / 26  (-16203.1):  26%|▎| 26/100 [01:23<02:57,  2.39s/it\u001b[2m2024-08-05T18:18:11.357826Z\u001b[0m [\u001b[31m\u001b[1merror    \u001b[0m] \u001b[1mPrecedence constraint violated: 7 must be visited before 2\u001b[0m [\u001b[0m\u001b[1m\u001b[34m__main__\u001b[0m]\u001b[0m \u001b[36mfilename\u001b[0m=\u001b[35m1988560602.py\u001b[0m \u001b[36mlineno\u001b[0m=\u001b[35m85\u001b[0m\n",
      "Average Metric: -6105.9000000000015 / 37  (-16502.4):  37%|▎| 37/100 [01:54<03:1\u001b[2m2024-08-05T18:18:42.345965Z\u001b[0m [\u001b[31m\u001b[1merror    \u001b[0m] \u001b[1mPrecedence constraint violated: 6 must be visited before 7\u001b[0m [\u001b[0m\u001b[1m\u001b[34m__main__\u001b[0m]\u001b[0m \u001b[36mfilename\u001b[0m=\u001b[35m1988560602.py\u001b[0m \u001b[36mlineno\u001b[0m=\u001b[35m85\u001b[0m\n",
      "Average Metric: -6602.500000000002 / 40  (-16506.3):  40%|▍| 40/100 [02:04<02:51\u001b[2m2024-08-05T18:18:51.844585Z\u001b[0m [\u001b[31m\u001b[1merror    \u001b[0m] \u001b[1mPrecedence constraint violated: 6 must be visited before 9\u001b[0m [\u001b[0m\u001b[1m\u001b[34m__main__\u001b[0m]\u001b[0m \u001b[36mfilename\u001b[0m=\u001b[35m1988560602.py\u001b[0m \u001b[36mlineno\u001b[0m=\u001b[35m85\u001b[0m\n",
      "Average Metric: -9049.200000000003 / 55  (-16453.1):  55%|▌| 55/100 [02:47<01:51\u001b[2m2024-08-05T18:19:35.529138Z\u001b[0m [\u001b[31m\u001b[1merror    \u001b[0m] \u001b[1mPrecedence constraint violated: 6 must be visited before 1\u001b[0m [\u001b[0m\u001b[1m\u001b[34m__main__\u001b[0m]\u001b[0m \u001b[36mfilename\u001b[0m=\u001b[35m1988560602.py\u001b[0m \u001b[36mlineno\u001b[0m=\u001b[35m85\u001b[0m\n",
      "Average Metric: -10182.1 / 61  (-16692.0):  61%|▌| 61/100 [03:07<01:45,  2.71s/i\u001b[2m2024-08-05T18:19:55.167489Z\u001b[0m [\u001b[31m\u001b[1merror    \u001b[0m] \u001b[1mPrecedence constraint violated: 7 must be visited before 8\u001b[0m [\u001b[0m\u001b[1m\u001b[34m__main__\u001b[0m]\u001b[0m \u001b[36mfilename\u001b[0m=\u001b[35m1988560602.py\u001b[0m \u001b[36mlineno\u001b[0m=\u001b[35m85\u001b[0m\n",
      "Average Metric: -11934.5 / 72  (-16575.7):  72%|▋| 72/100 [03:37<01:17,  2.75s/i\u001b[2m2024-08-05T18:20:24.840698Z\u001b[0m [\u001b[31m\u001b[1merror    \u001b[0m] \u001b[1mPrecedence constraint violated: 7 must be visited before 9\u001b[0m [\u001b[0m\u001b[1m\u001b[34m__main__\u001b[0m]\u001b[0m \u001b[36mfilename\u001b[0m=\u001b[35m1988560602.py\u001b[0m \u001b[36mlineno\u001b[0m=\u001b[35m85\u001b[0m\n",
      "Average Metric: -12134.5 / 73  (-16622.6):  73%|▋| 73/100 [03:42<01:35,  3.55s/i\u001b[2m2024-08-05T18:20:30.213213Z\u001b[0m [\u001b[31m\u001b[1merror    \u001b[0m] \u001b[1mPrecedence constraint violated: 7 must be visited before 9\u001b[0m [\u001b[0m\u001b[1m\u001b[34m__main__\u001b[0m]\u001b[0m \u001b[36mfilename\u001b[0m=\u001b[35m1988560602.py\u001b[0m \u001b[36mlineno\u001b[0m=\u001b[35m85\u001b[0m\n",
      "Average Metric: -13118.499999999998 / 78  (-16818.6):  78%|▊| 78/100 [03:57<00:5\u001b[2m2024-08-05T18:20:39.370262Z\u001b[0m [\u001b[33m\u001b[1mwarning  \u001b[0m] \u001b[1mReceived SIGINT. Cancelling evaluation.\u001b[0m [\u001b[0m\u001b[1m\u001b[34mdspy.evaluate.evaluate\u001b[0m]\u001b[0m \u001b[36mfilename\u001b[0m=\u001b[35mevaluate.py\u001b[0m \u001b[36mlineno\u001b[0m=\u001b[35m91\u001b[0m\n",
      "\u001b[2m2024-08-05T18:20:39.835102Z\u001b[0m [\u001b[33m\u001b[1mwarning  \u001b[0m] \u001b[1mReceived SIGINT. Cancelling evaluation.\u001b[0m [\u001b[0m\u001b[1m\u001b[34mdspy.evaluate.evaluate\u001b[0m]\u001b[0m \u001b[36mfilename\u001b[0m=\u001b[35mevaluate.py\u001b[0m \u001b[36mlineno\u001b[0m=\u001b[35m91\u001b[0m\n"
     ]
    },
    {
     "ename": "KeyboardInterrupt",
     "evalue": "",
     "output_type": "error",
     "traceback": [
      "\u001b[0;31m---------------------------------------------------------------------------\u001b[0m",
      "\u001b[0;31mKeyboardInterrupt\u001b[0m                         Traceback (most recent call last)",
      "File \u001b[0;32m~/Desktop/TSP_Hybrid/DSPy/dspy/lib/python3.11/site-packages/dspy/evaluate/evaluate.py:109\u001b[0m, in \u001b[0;36mEvaluate._execute_multi_thread\u001b[0;34m(self, wrapped_program, devset, num_threads, display_progress)\u001b[0m\n\u001b[1;32m    107\u001b[0m pbar \u001b[38;5;241m=\u001b[39m tqdm\u001b[38;5;241m.\u001b[39mtqdm(total\u001b[38;5;241m=\u001b[39m\u001b[38;5;28mlen\u001b[39m(devset), dynamic_ncols\u001b[38;5;241m=\u001b[39m\u001b[38;5;28;01mTrue\u001b[39;00m, disable\u001b[38;5;241m=\u001b[39m\u001b[38;5;129;01mnot\u001b[39;00m display_progress)\n\u001b[0;32m--> 109\u001b[0m \u001b[43m\u001b[49m\u001b[38;5;28;43;01mfor\u001b[39;49;00m\u001b[43m \u001b[49m\u001b[43mfuture\u001b[49m\u001b[43m \u001b[49m\u001b[38;5;129;43;01min\u001b[39;49;00m\u001b[43m \u001b[49m\u001b[43mas_completed\u001b[49m\u001b[43m(\u001b[49m\u001b[43mfutures\u001b[49m\u001b[43m)\u001b[49m\u001b[43m:\u001b[49m\n\u001b[1;32m    110\u001b[0m \u001b[43m    \u001b[49m\u001b[43mexample_idx\u001b[49m\u001b[43m,\u001b[49m\u001b[43m \u001b[49m\u001b[43mexample\u001b[49m\u001b[43m,\u001b[49m\u001b[43m \u001b[49m\u001b[43mprediction\u001b[49m\u001b[43m,\u001b[49m\u001b[43m \u001b[49m\u001b[43mscore\u001b[49m\u001b[43m \u001b[49m\u001b[38;5;241;43m=\u001b[39;49m\u001b[43m \u001b[49m\u001b[43mfuture\u001b[49m\u001b[38;5;241;43m.\u001b[39;49m\u001b[43mresult\u001b[49m\u001b[43m(\u001b[49m\u001b[43m)\u001b[49m\n",
      "File \u001b[0;32m~/miniconda3/lib/python3.11/concurrent/futures/_base.py:243\u001b[0m, in \u001b[0;36mas_completed\u001b[0;34m(fs, timeout)\u001b[0m\n\u001b[1;32m    239\u001b[0m         \u001b[38;5;28;01mraise\u001b[39;00m \u001b[38;5;167;01mTimeoutError\u001b[39;00m(\n\u001b[1;32m    240\u001b[0m                 \u001b[38;5;124m'\u001b[39m\u001b[38;5;132;01m%d\u001b[39;00m\u001b[38;5;124m (of \u001b[39m\u001b[38;5;132;01m%d\u001b[39;00m\u001b[38;5;124m) futures unfinished\u001b[39m\u001b[38;5;124m'\u001b[39m \u001b[38;5;241m%\u001b[39m (\n\u001b[1;32m    241\u001b[0m                 \u001b[38;5;28mlen\u001b[39m(pending), total_futures))\n\u001b[0;32m--> 243\u001b[0m \u001b[43mwaiter\u001b[49m\u001b[38;5;241;43m.\u001b[39;49m\u001b[43mevent\u001b[49m\u001b[38;5;241;43m.\u001b[39;49m\u001b[43mwait\u001b[49m\u001b[43m(\u001b[49m\u001b[43mwait_timeout\u001b[49m\u001b[43m)\u001b[49m\n\u001b[1;32m    245\u001b[0m \u001b[38;5;28;01mwith\u001b[39;00m waiter\u001b[38;5;241m.\u001b[39mlock:\n",
      "File \u001b[0;32m~/miniconda3/lib/python3.11/threading.py:629\u001b[0m, in \u001b[0;36mEvent.wait\u001b[0;34m(self, timeout)\u001b[0m\n\u001b[1;32m    628\u001b[0m \u001b[38;5;28;01mif\u001b[39;00m \u001b[38;5;129;01mnot\u001b[39;00m signaled:\n\u001b[0;32m--> 629\u001b[0m     signaled \u001b[38;5;241m=\u001b[39m \u001b[38;5;28;43mself\u001b[39;49m\u001b[38;5;241;43m.\u001b[39;49m\u001b[43m_cond\u001b[49m\u001b[38;5;241;43m.\u001b[39;49m\u001b[43mwait\u001b[49m\u001b[43m(\u001b[49m\u001b[43mtimeout\u001b[49m\u001b[43m)\u001b[49m\n\u001b[1;32m    630\u001b[0m \u001b[38;5;28;01mreturn\u001b[39;00m signaled\n",
      "File \u001b[0;32m~/miniconda3/lib/python3.11/threading.py:327\u001b[0m, in \u001b[0;36mCondition.wait\u001b[0;34m(self, timeout)\u001b[0m\n\u001b[1;32m    326\u001b[0m \u001b[38;5;28;01mif\u001b[39;00m timeout \u001b[38;5;129;01mis\u001b[39;00m \u001b[38;5;28;01mNone\u001b[39;00m:\n\u001b[0;32m--> 327\u001b[0m     \u001b[43mwaiter\u001b[49m\u001b[38;5;241;43m.\u001b[39;49m\u001b[43macquire\u001b[49m\u001b[43m(\u001b[49m\u001b[43m)\u001b[49m\n\u001b[1;32m    328\u001b[0m     gotit \u001b[38;5;241m=\u001b[39m \u001b[38;5;28;01mTrue\u001b[39;00m\n",
      "File \u001b[0;32m~/Desktop/TSP_Hybrid/DSPy/dspy/lib/python3.11/site-packages/dspy/evaluate/evaluate.py:92\u001b[0m, in \u001b[0;36mEvaluate._execute_multi_thread.<locals>.interrupt_handler_manager.<locals>.interrupt_handler\u001b[0;34m(sig, frame)\u001b[0m\n\u001b[1;32m     91\u001b[0m dspy\u001b[38;5;241m.\u001b[39mlogger\u001b[38;5;241m.\u001b[39mwarning(\u001b[38;5;124m\"\u001b[39m\u001b[38;5;124mReceived SIGINT. Cancelling evaluation.\u001b[39m\u001b[38;5;124m\"\u001b[39m)\n\u001b[0;32m---> 92\u001b[0m default_handler(sig, frame)\n",
      "\u001b[0;31mKeyboardInterrupt\u001b[0m: ",
      "\nDuring handling of the above exception, another exception occurred:\n",
      "\u001b[0;31mKeyboardInterrupt\u001b[0m                         Traceback (most recent call last)",
      "Cell \u001b[0;32mIn[89], line 10\u001b[0m\n\u001b[1;32m      7\u001b[0m compiled_pdp \u001b[38;5;241m=\u001b[39m teleprompter\u001b[38;5;241m.\u001b[39mcompile(baleen_with_suggestions, trainset\u001b[38;5;241m=\u001b[39mpdp_trainset)\n\u001b[1;32m      9\u001b[0m evaluater \u001b[38;5;241m=\u001b[39m Evaluate(devset\u001b[38;5;241m=\u001b[39mpdp_testset, metric\u001b[38;5;241m=\u001b[39mmetric, num_threads\u001b[38;5;241m=\u001b[39mNUM_THREADS, display_progress\u001b[38;5;241m=\u001b[39m\u001b[38;5;28;01mTrue\u001b[39;00m, display_table\u001b[38;5;241m=\u001b[39m\u001b[38;5;241m0\u001b[39m)\n\u001b[0;32m---> 10\u001b[0m \u001b[43mevaluater\u001b[49m\u001b[43m(\u001b[49m\u001b[43mcompiled_pdp\u001b[49m\u001b[43m)\u001b[49m\n",
      "File \u001b[0;32m~/Desktop/TSP_Hybrid/DSPy/dspy/lib/python3.11/site-packages/dspy/evaluate/evaluate.py:193\u001b[0m, in \u001b[0;36mEvaluate.__call__\u001b[0;34m(self, program, metric, devset, num_threads, display_progress, display_table, return_all_scores, return_outputs)\u001b[0m\n\u001b[1;32m    191\u001b[0m     reordered_devset, ncorrect, ntotal \u001b[38;5;241m=\u001b[39m \u001b[38;5;28mself\u001b[39m\u001b[38;5;241m.\u001b[39m_execute_single_thread(wrapped_program, devset, display_progress)\n\u001b[1;32m    192\u001b[0m \u001b[38;5;28;01melse\u001b[39;00m:\n\u001b[0;32m--> 193\u001b[0m     reordered_devset, ncorrect, ntotal \u001b[38;5;241m=\u001b[39m \u001b[38;5;28;43mself\u001b[39;49m\u001b[38;5;241;43m.\u001b[39;49m\u001b[43m_execute_multi_thread\u001b[49m\u001b[43m(\u001b[49m\n\u001b[1;32m    194\u001b[0m \u001b[43m        \u001b[49m\u001b[43mwrapped_program\u001b[49m\u001b[43m,\u001b[49m\n\u001b[1;32m    195\u001b[0m \u001b[43m        \u001b[49m\u001b[43mdevset\u001b[49m\u001b[43m,\u001b[49m\n\u001b[1;32m    196\u001b[0m \u001b[43m        \u001b[49m\u001b[43mnum_threads\u001b[49m\u001b[43m,\u001b[49m\n\u001b[1;32m    197\u001b[0m \u001b[43m        \u001b[49m\u001b[43mdisplay_progress\u001b[49m\u001b[43m,\u001b[49m\n\u001b[1;32m    198\u001b[0m \u001b[43m    \u001b[49m\u001b[43m)\u001b[49m\n\u001b[1;32m    200\u001b[0m dspy\u001b[38;5;241m.\u001b[39mlogger\u001b[38;5;241m.\u001b[39minfo(\u001b[38;5;124mf\u001b[39m\u001b[38;5;124m\"\u001b[39m\u001b[38;5;124mAverage Metric: \u001b[39m\u001b[38;5;132;01m{\u001b[39;00mncorrect\u001b[38;5;132;01m}\u001b[39;00m\u001b[38;5;124m / \u001b[39m\u001b[38;5;132;01m{\u001b[39;00mntotal\u001b[38;5;132;01m}\u001b[39;00m\u001b[38;5;124m (\u001b[39m\u001b[38;5;132;01m{\u001b[39;00m\u001b[38;5;28mround\u001b[39m(\u001b[38;5;241m100\u001b[39m\u001b[38;5;250m \u001b[39m\u001b[38;5;241m*\u001b[39m\u001b[38;5;250m \u001b[39mncorrect\u001b[38;5;250m \u001b[39m\u001b[38;5;241m/\u001b[39m\u001b[38;5;250m \u001b[39mntotal,\u001b[38;5;250m \u001b[39m\u001b[38;5;241m1\u001b[39m)\u001b[38;5;132;01m}\u001b[39;00m\u001b[38;5;124m%)\u001b[39m\u001b[38;5;124m\"\u001b[39m)\n\u001b[1;32m    202\u001b[0m predicted_devset \u001b[38;5;241m=\u001b[39m \u001b[38;5;28msorted\u001b[39m(reordered_devset)\n",
      "File \u001b[0;32m~/Desktop/TSP_Hybrid/DSPy/dspy/lib/python3.11/site-packages/dspy/evaluate/evaluate.py:105\u001b[0m, in \u001b[0;36mEvaluate._execute_multi_thread\u001b[0;34m(self, wrapped_program, devset, num_threads, display_progress)\u001b[0m\n\u001b[1;32m    102\u001b[0m         \u001b[38;5;28;01mreturn\u001b[39;00m \u001b[38;5;28;01mNone\u001b[39;00m, \u001b[38;5;28;01mNone\u001b[39;00m, job_cancelled, \u001b[38;5;28;01mNone\u001b[39;00m\n\u001b[1;32m    103\u001b[0m     \u001b[38;5;28;01mreturn\u001b[39;00m wrapped_program(idx, arg)\n\u001b[0;32m--> 105\u001b[0m \u001b[43m\u001b[49m\u001b[38;5;28;43;01mwith\u001b[39;49;00m\u001b[43m \u001b[49m\u001b[43mThreadPoolExecutor\u001b[49m\u001b[43m(\u001b[49m\u001b[43mmax_workers\u001b[49m\u001b[38;5;241;43m=\u001b[39;49m\u001b[43mnum_threads\u001b[49m\u001b[43m)\u001b[49m\u001b[43m \u001b[49m\u001b[38;5;28;43;01mas\u001b[39;49;00m\u001b[43m \u001b[49m\u001b[43mexecutor\u001b[49m\u001b[43m,\u001b[49m\u001b[43m \u001b[49m\u001b[43minterrupt_handler_manager\u001b[49m\u001b[43m(\u001b[49m\u001b[43m)\u001b[49m\u001b[43m:\u001b[49m\n\u001b[1;32m    106\u001b[0m \u001b[43m    \u001b[49m\u001b[43mfutures\u001b[49m\u001b[43m \u001b[49m\u001b[38;5;241;43m=\u001b[39;49m\u001b[43m \u001b[49m\u001b[43m{\u001b[49m\u001b[43mexecutor\u001b[49m\u001b[38;5;241;43m.\u001b[39;49m\u001b[43msubmit\u001b[49m\u001b[43m(\u001b[49m\u001b[43mcancellable_wrapped_program\u001b[49m\u001b[43m,\u001b[49m\u001b[43m \u001b[49m\u001b[43midx\u001b[49m\u001b[43m,\u001b[49m\u001b[43m \u001b[49m\u001b[43marg\u001b[49m\u001b[43m)\u001b[49m\u001b[43m \u001b[49m\u001b[38;5;28;43;01mfor\u001b[39;49;00m\u001b[43m \u001b[49m\u001b[43midx\u001b[49m\u001b[43m,\u001b[49m\u001b[43m \u001b[49m\u001b[43marg\u001b[49m\u001b[43m \u001b[49m\u001b[38;5;129;43;01min\u001b[39;49;00m\u001b[43m \u001b[49m\u001b[43mdevset\u001b[49m\u001b[43m}\u001b[49m\n\u001b[1;32m    107\u001b[0m \u001b[43m    \u001b[49m\u001b[43mpbar\u001b[49m\u001b[43m \u001b[49m\u001b[38;5;241;43m=\u001b[39;49m\u001b[43m \u001b[49m\u001b[43mtqdm\u001b[49m\u001b[38;5;241;43m.\u001b[39;49m\u001b[43mtqdm\u001b[49m\u001b[43m(\u001b[49m\u001b[43mtotal\u001b[49m\u001b[38;5;241;43m=\u001b[39;49m\u001b[38;5;28;43mlen\u001b[39;49m\u001b[43m(\u001b[49m\u001b[43mdevset\u001b[49m\u001b[43m)\u001b[49m\u001b[43m,\u001b[49m\u001b[43m \u001b[49m\u001b[43mdynamic_ncols\u001b[49m\u001b[38;5;241;43m=\u001b[39;49m\u001b[38;5;28;43;01mTrue\u001b[39;49;00m\u001b[43m,\u001b[49m\u001b[43m \u001b[49m\u001b[43mdisable\u001b[49m\u001b[38;5;241;43m=\u001b[39;49m\u001b[38;5;129;43;01mnot\u001b[39;49;00m\u001b[43m \u001b[49m\u001b[43mdisplay_progress\u001b[49m\u001b[43m)\u001b[49m\n",
      "File \u001b[0;32m~/miniconda3/lib/python3.11/concurrent/futures/_base.py:647\u001b[0m, in \u001b[0;36mExecutor.__exit__\u001b[0;34m(self, exc_type, exc_val, exc_tb)\u001b[0m\n\u001b[1;32m    646\u001b[0m \u001b[38;5;28;01mdef\u001b[39;00m \u001b[38;5;21m__exit__\u001b[39m(\u001b[38;5;28mself\u001b[39m, exc_type, exc_val, exc_tb):\n\u001b[0;32m--> 647\u001b[0m     \u001b[38;5;28;43mself\u001b[39;49m\u001b[38;5;241;43m.\u001b[39;49m\u001b[43mshutdown\u001b[49m\u001b[43m(\u001b[49m\u001b[43mwait\u001b[49m\u001b[38;5;241;43m=\u001b[39;49m\u001b[38;5;28;43;01mTrue\u001b[39;49;00m\u001b[43m)\u001b[49m\n\u001b[1;32m    648\u001b[0m     \u001b[38;5;28;01mreturn\u001b[39;00m \u001b[38;5;28;01mFalse\u001b[39;00m\n",
      "File \u001b[0;32m~/miniconda3/lib/python3.11/concurrent/futures/thread.py:235\u001b[0m, in \u001b[0;36mThreadPoolExecutor.shutdown\u001b[0;34m(self, wait, cancel_futures)\u001b[0m\n\u001b[1;32m    233\u001b[0m \u001b[38;5;28;01mif\u001b[39;00m wait:\n\u001b[1;32m    234\u001b[0m     \u001b[38;5;28;01mfor\u001b[39;00m t \u001b[38;5;129;01min\u001b[39;00m \u001b[38;5;28mself\u001b[39m\u001b[38;5;241m.\u001b[39m_threads:\n\u001b[0;32m--> 235\u001b[0m         \u001b[43mt\u001b[49m\u001b[38;5;241;43m.\u001b[39;49m\u001b[43mjoin\u001b[49m\u001b[43m(\u001b[49m\u001b[43m)\u001b[49m\n",
      "File \u001b[0;32m~/miniconda3/lib/python3.11/threading.py:1119\u001b[0m, in \u001b[0;36mThread.join\u001b[0;34m(self, timeout)\u001b[0m\n\u001b[1;32m   1116\u001b[0m     \u001b[38;5;28;01mraise\u001b[39;00m \u001b[38;5;167;01mRuntimeError\u001b[39;00m(\u001b[38;5;124m\"\u001b[39m\u001b[38;5;124mcannot join current thread\u001b[39m\u001b[38;5;124m\"\u001b[39m)\n\u001b[1;32m   1118\u001b[0m \u001b[38;5;28;01mif\u001b[39;00m timeout \u001b[38;5;129;01mis\u001b[39;00m \u001b[38;5;28;01mNone\u001b[39;00m:\n\u001b[0;32m-> 1119\u001b[0m     \u001b[38;5;28;43mself\u001b[39;49m\u001b[38;5;241;43m.\u001b[39;49m\u001b[43m_wait_for_tstate_lock\u001b[49m\u001b[43m(\u001b[49m\u001b[43m)\u001b[49m\n\u001b[1;32m   1120\u001b[0m \u001b[38;5;28;01melse\u001b[39;00m:\n\u001b[1;32m   1121\u001b[0m     \u001b[38;5;66;03m# the behavior of a negative timeout isn't documented, but\u001b[39;00m\n\u001b[1;32m   1122\u001b[0m     \u001b[38;5;66;03m# historically .join(timeout=x) for x<0 has acted as if timeout=0\u001b[39;00m\n\u001b[1;32m   1123\u001b[0m     \u001b[38;5;28mself\u001b[39m\u001b[38;5;241m.\u001b[39m_wait_for_tstate_lock(timeout\u001b[38;5;241m=\u001b[39m\u001b[38;5;28mmax\u001b[39m(timeout, \u001b[38;5;241m0\u001b[39m))\n",
      "File \u001b[0;32m~/miniconda3/lib/python3.11/threading.py:1139\u001b[0m, in \u001b[0;36mThread._wait_for_tstate_lock\u001b[0;34m(self, block, timeout)\u001b[0m\n\u001b[1;32m   1136\u001b[0m     \u001b[38;5;28;01mreturn\u001b[39;00m\n\u001b[1;32m   1138\u001b[0m \u001b[38;5;28;01mtry\u001b[39;00m:\n\u001b[0;32m-> 1139\u001b[0m     \u001b[38;5;28;01mif\u001b[39;00m \u001b[43mlock\u001b[49m\u001b[38;5;241;43m.\u001b[39;49m\u001b[43macquire\u001b[49m\u001b[43m(\u001b[49m\u001b[43mblock\u001b[49m\u001b[43m,\u001b[49m\u001b[43m \u001b[49m\u001b[43mtimeout\u001b[49m\u001b[43m)\u001b[49m:\n\u001b[1;32m   1140\u001b[0m         lock\u001b[38;5;241m.\u001b[39mrelease()\n\u001b[1;32m   1141\u001b[0m         \u001b[38;5;28mself\u001b[39m\u001b[38;5;241m.\u001b[39m_stop()\n",
      "File \u001b[0;32m~/Desktop/TSP_Hybrid/DSPy/dspy/lib/python3.11/site-packages/dspy/evaluate/evaluate.py:92\u001b[0m, in \u001b[0;36mEvaluate._execute_multi_thread.<locals>.interrupt_handler_manager.<locals>.interrupt_handler\u001b[0;34m(sig, frame)\u001b[0m\n\u001b[1;32m     90\u001b[0m \u001b[38;5;28mself\u001b[39m\u001b[38;5;241m.\u001b[39mcancel_jobs\u001b[38;5;241m.\u001b[39mset()\n\u001b[1;32m     91\u001b[0m dspy\u001b[38;5;241m.\u001b[39mlogger\u001b[38;5;241m.\u001b[39mwarning(\u001b[38;5;124m\"\u001b[39m\u001b[38;5;124mReceived SIGINT. Cancelling evaluation.\u001b[39m\u001b[38;5;124m\"\u001b[39m)\n\u001b[0;32m---> 92\u001b[0m default_handler(sig, frame)\n",
      "\u001b[0;31mKeyboardInterrupt\u001b[0m: "
     ]
    },
    {
     "name": "stderr",
     "output_type": "stream",
     "text": [
      "\u001b[2m2024-08-05T18:20:44.328134Z\u001b[0m [\u001b[31m\u001b[1merror    \u001b[0m] \u001b[1mPrecedence constraint violated: 3 must be visited before 5\u001b[0m [\u001b[0m\u001b[1m\u001b[34m__main__\u001b[0m]\u001b[0m \u001b[36mfilename\u001b[0m=\u001b[35m1988560602.py\u001b[0m \u001b[36mlineno\u001b[0m=\u001b[35m85\u001b[0m\n"
     ]
    }
   ],
   "source": [
    "from dspy.primitives.assertions import backtrack_handler\n",
    "\n",
    "# Transform the module to include the backtracking mechanism\n",
    "baleen_with_suggestions = PDP().activate_assertions(backtrack_handler)\n",
    "\n",
    "teleprompter = LabeledFewShot(k=K)\n",
    "compiled_pdp = teleprompter.compile(baleen_with_suggestions, trainset=pdp_trainset)\n",
    "\n",
    "evaluater = Evaluate(devset=pdp_testset, metric=metric, num_threads=NUM_THREADS, display_progress=True, display_table=0)\n",
    "evaluater(compiled_pdp)"
   ]
  },
  {
   "cell_type": "code",
   "execution_count": 90,
   "id": "25574a4f-5a63-49ba-bfaf-99261da75f95",
   "metadata": {},
   "outputs": [
    {
     "name": "stdout",
     "output_type": "stream",
     "text": [
      "\n",
      "\n",
      "\n",
      "Generate a TSP route starting at city 0 that visits the specified pickup before the delivery node, minimizing distance traveled.\n",
      "\n",
      "---\n",
      "\n",
      "Cities: 0, 1, 2, 3, 4, 5, 6, 7, 8, 9\n",
      "Distances: - 0 to 1: 13.6 - 0 to 2: 24.6 - 0 to 3: 10.6 - 0 to 4: 10.0 - 0 to 5: 22.8 - 0 to 6: 23.1 - 0 to 7: 24.2 - 0 to 8: 41.0 - 0 to 9: 11.7 - 1 to 2: 22.0 - 1 to 3: 3.2 - 1 to 4: 21.1 - 1 to 5: 11.2 - 1 to 6: 13.4 - 1 to 7: 11.2 - 1 to 8: 29.0 - 1 to 9: 7.6 - 2 to 3: 22.8 - 2 to 4: 22.0 - 2 to 5: 17.0 - 2 to 6: 13.0 - 2 to 7: 21.0 - 2 to 8: 26.9 - 2 to 9: 28.4 - 3 to 4: 18.8 - 3 to 5: 14.0 - 3 to 6: 15.8 - 3 to 7: 14.3 - 3 to 8: 32.1 - 3 to 9: 5.7 - 4 to 5: 27.2 - 4 to 6: 25.9 - 4 to 7: 29.7 - 4 to 8: 44.3 - 4 to 9: 21.4 - 5 to 6: 4.1 - 5 to 7: 4.0 - 5 to 8: 18.2 - 5 to 9: 18.7 - 6 to 7: 8.1 - 6 to 8: 18.4 - 6 to 9: 21.0 - 7 to 8: 18.0 - 7 to 9: 18.0 - 8 to 9: 36.1\n",
      "Constraints: (9, 5)\n",
      "Route: 0 -> 9 -> 3 -> 1 -> 7 -> 5 -> 6 -> 8 -> 2 -> 4\n",
      "\n",
      "Cities: 0, 1, 2, 3, 4, 5, 6, 7, 8, 9\n",
      "Distances: - 0 to 1: 28.0 - 0 to 2: 18.4 - 0 to 3: 5.0 - 0 to 4: 22.0 - 0 to 5: 13.9 - 0 to 6: 15.3 - 0 to 7: 37.1 - 0 to 8: 33.8 - 0 to 9: 1.4 - 1 to 2: 24.8 - 1 to 3: 28.4 - 1 to 4: 25.5 - 1 to 5: 37.0 - 1 to 6: 13.3 - 1 to 7: 45.2 - 1 to 8: 19.0 - 1 to 9: 29.0 - 2 to 3: 14.2 - 2 to 4: 3.6 - 2 to 5: 16.5 - 2 to 6: 19.9 - 2 to 7: 22.1 - 2 to 8: 19.2 - 2 to 9: 19.7 - 3 to 4: 17.8 - 3 to 5: 9.9 - 3 to 6: 17.0 - 3 to 7: 32.1 - 3 to 8: 31.3 - 3 to 9: 6.1 - 4 to 5: 19.3 - 4 to 6: 22.4 - 4 to 7: 20.1 - 4 to 8: 17.0 - 4 to 9: 23.3 - 5 to 6: 26.6 - 5 to 7: 26.6 - 5 to 8: 35.7 - 5 to 9: 14.3 - 6 to 7: 42.1 - 6 to 8: 25.6 - 6 to 9: 16.1 - 7 to 8: 31.6 - 7 to 9: 38.1 - 8 to 9: 35.2\n",
      "Constraints: (3, 4)\n",
      "Route: 0 -> 9 -> 3 -> 5 -> 7 -> 2 -> 4 -> 8 -> 1 -> 6\n",
      "\n",
      "Cities: 0, 1, 2, 3, 4, 5, 6, 7, 8, 9\n",
      "Distances: - 0 to 1: 30.8 - 0 to 2: 23.0 - 0 to 3: 36.7 - 0 to 4: 29.7 - 0 to 5: 32.8 - 0 to 6: 24.6 - 0 to 7: 20.1 - 0 to 8: 8.1 - 0 to 9: 4.1 - 1 to 2: 43.1 - 1 to 3: 6.0 - 1 to 4: 28.2 - 1 to 5: 14.1 - 1 to 6: 19.7 - 1 to 7: 13.5 - 1 to 8: 23.2 - 1 to 9: 31.0 - 2 to 3: 47.6 - 2 to 4: 23.2 - 2 to 5: 36.7 - 2 to 6: 25.9 - 2 to 7: 29.7 - 2 to 8: 28.2 - 2 to 9: 19.1 - 3 to 4: 30.4 - 3 to 5: 14.6 - 3 to 6: 22.8 - 3 to 7: 18.4 - 3 to 8: 29.2 - 3 to 9: 36.7 - 4 to 5: 16.4 - 4 to 6: 9.0 - 4 to 7: 18.1 - 4 to 8: 28.3 - 4 to 9: 26.4 - 5 to 6: 10.8 - 5 to 7: 13.0 - 5 to 8: 27.3 - 5 to 9: 31.1 - 6 to 7: 9.2 - 6 to 8: 21.2 - 6 to 9: 22.1 - 7 to 8: 14.3 - 7 to 9: 19.1 - 8 to 9: 10.0\n",
      "Constraints: (6, 1)\n",
      "Route: 0 -> 9 -> 2 -> 4 -> 6 -> 5 -> 3 -> 1 -> 7 -> 8\n",
      "\n",
      "Cities: 0, 1, 2, 3, 4, 5, 6, 7, 8, 9\n",
      "Distances: - 0 to 1: 35.5 - 0 to 2: 23.3 - 0 to 3: 23.8 - 0 to 4: 22.1 - 0 to 5: 12.0 - 0 to 6: 24.4 - 0 to 7: 9.8 - 0 to 8: 13.6 - 0 to 9: 25.5 - 1 to 2: 12.2 - 1 to 3: 29.1 - 1 to 4: 32.1 - 1 to 5: 26.9 - 1 to 6: 22.4 - 1 to 7: 25.8 - 1 to 8: 22.7 - 1 to 9: 10.6 - 2 to 3: 21.1 - 2 to 4: 24.2 - 2 to 5: 15.3 - 2 to 6: 16.3 - 2 to 7: 13.6 - 2 to 8: 10.6 - 2 to 9: 3.2 - 3 to 4: 39.2 - 3 to 5: 12.8 - 3 to 6: 34.9 - 3 to 7: 18.4 - 3 to 8: 15.8 - 3 to 9: 20.0 - 4 to 5: 26.9 - 4 to 6: 10.0 - 4 to 7: 21.1 - 4 to 8: 23.4 - 4 to 9: 27.3 - 5 to 6: 24.3 - 5 to 7: 5.8 - 5 to 8: 5.1 - 5 to 9: 16.3 - 6 to 7: 19.0 - 6 to 8: 19.6 - 6 to 9: 19.2 - 7 to 8: 4.0 - 7 to 9: 15.7 - 8 to 9: 12.2\n",
      "Constraints: (1, 7)\n",
      "Route: 0 -> 4 -> 6 -> 1 -> 9 -> 2 -> 8 -> 3 -> 5 -> 7\n",
      "\n",
      "Cities: 0, 1, 2, 3, 4, 5, 6, 7, 8, 9\n",
      "Distances: - 0 to 1: 16.1 - 0 to 2: 17.9 - 0 to 3: 15.8 - 0 to 4: 23.3 - 0 to 5: 26.0 - 0 to 6: 10.8 - 0 to 7: 8.9 - 0 to 8: 17.9 - 0 to 9: 5.8 - 1 to 2: 6.0 - 1 to 3: 31.0 - 1 to 4: 27.7 - 1 to 5: 31.8 - 1 to 6: 10.6 - 1 to 7: 22.4 - 1 to 8: 6.0 - 1 to 9: 12.1 - 2 to 3: 33.6 - 2 to 4: 33.2 - 2 to 5: 37.2 - 2 to 6: 15.7 - 2 to 7: 25.6 - 2 to 8: 0.0 - 2 to 9: 15.6 - 3 to 4: 22.0 - 3 to 5: 22.0 - 3 to 6: 22.2 - 3 to 7: 9.1 - 3 to 8: 33.6 - 3 to 9: 19.0 - 4 to 5: 4.2 - 4 to 6: 17.7 - 4 to 7: 17.0 - 4 to 8: 33.2 - 4 to 9: 20.0 - 5 to 6: 21.5 - 5 to 7: 18.7 - 5 to 8: 37.2 - 5 to 9: 23.3 - 6 to 7: 13.2 - 6 to 8: 15.7 - 6 to 9: 5.0 - 7 to 8: 25.6 - 7 to 9: 10.3 - 8 to 9: 15.6\n",
      "Constraints: (8, 7)\n",
      "Route: 0 -> 9 -> 8 -> 2 -> 1 -> 6 -> 4 -> 5 -> 3 -> 7\n",
      "\n",
      "Cities: 0, 1, 2, 3, 4, 5, 6, 7, 8, 9\n",
      "Distances: - 0 to 1: 14.3 - 0 to 2: 31.6 - 0 to 3: 30.6 - 0 to 4: 17.5 - 0 to 5: 35.5 - 0 to 6: 18.2 - 0 to 7: 33.1 - 0 to 8: 34.5 - 0 to 9: 41.4 - 1 to 2: 27.3 - 1 to 3: 30.6 - 1 to 4: 15.1 - 1 to 5: 30.2 - 1 to 6: 5.8 - 1 to 7: 20.4 - 1 to 8: 24.2 - 1 to 9: 27.2 - 2 to 3: 9.2 - 2 to 4: 14.2 - 2 to 5: 4.1 - 2 to 6: 22.5 - 2 to 7: 21.2 - 2 to 8: 14.4 - 2 to 9: 34.5 - 3 to 4: 15.5 - 3 to 5: 12.1 - 3 to 6: 27.0 - 3 to 7: 29.5 - 3 to 8: 23.4 - 3 to 9: 42.9 - 4 to 5: 18.0 - 4 to 6: 12.4 - 4 to 7: 21.1 - 4 to 8: 19.2 - 4 to 9: 33.2 - 5 to 6: 25.1 - 5 to 7: 21.2 - 5 to 8: 13.6 - 5 to 9: 34.2 - 6 to 7: 15.0 - 6 to 8: 18.4 - 6 to 9: 23.7 - 7 to 8: 8.1 - 7 to 9: 13.4 - 8 to 9: 20.6\n",
      "Constraints: (7, 9)\n",
      "Route: 0 -> 4 -> 3 -> 2 -> 5 -> 8 -> 7 -> 9 -> 6 -> 1\n",
      "\n",
      "---\n",
      "\n",
      "Follow the following format.\n",
      "\n",
      "Cities: List of city indices to visit\n",
      "\n",
      "Distances: Distances between two cities\n",
      "\n",
      "Constraints: Tuple containing (pickup, delivery) nodes\n",
      "\n",
      "Previous Route: past Route: with errors\n",
      "\n",
      "Instructions: Some instructions you must satisfy\n",
      "\n",
      "Route: Optimized route visiting all cities with pickup and delivery\n",
      "\n",
      "---\n",
      "\n",
      "Cities: 0, 1, 2, 3, 4, 5, 6, 7, 8, 9\n",
      "\n",
      "Distances: - 0 to 1: 10.2 - 0 to 2: 10.0 - 0 to 3: 6.7 - 0 to 4: 24.4 - 0 to 5: 13.2 - 0 to 6: 20.6 - 0 to 7: 19.8 - 0 to 8: 15.8 - 0 to 9: 17.5 - 1 to 2: 12.8 - 1 to 3: 16.8 - 1 to 4: 18.4 - 1 to 5: 5.0 - 1 to 6: 10.4 - 1 to 7: 12.1 - 1 to 8: 19.8 - 1 to 9: 12.1 - 2 to 3: 14.3 - 2 to 4: 17.2 - 2 to 5: 17.7 - 2 to 6: 20.6 - 2 to 7: 15.3 - 2 to 8: 7.1 - 2 to 9: 24.2 - 3 to 4: 30.5 - 3 to 5: 19.0 - 3 to 6: 27.2 - 3 to 7: 26.4 - 3 to 8: 18.0 - 3 to 9: 21.8 - 4 to 5: 22.0 - 4 to 6: 16.2 - 4 to 7: 7.1 - 4 to 8: 19.6 - 4 to 9: 29.0 - 5 to 6: 9.9 - 5 to 7: 15.1 - 5 to 8: 24.8 - 5 to 9: 7.3 - 6 to 7: 9.4 - 6 to 8: 26.9 - 6 to 9: 14.9 - 7 to 8: 20.1 - 7 to 9: 22.0 - 8 to 9: 31.2\n",
      "\n",
      "Constraints: (3, 5)\n",
      "\n",
      "Previous Route: 0 -> 9 -> 5 -> 3 -> 1 -> 2 -> 8 -> 4 -> 6 -> 7 --- Cities: 0, 1, 2, 3, 4, 5\n",
      "\n",
      "Instructions: 3 must be visited before 5\n",
      "\n",
      "Route:\u001b[32m 0 -> 9 -> 5 -> 3 -> 1 -> 2 -> 8 -> 4 -> 6 -> 7\n",
      "\n",
      "---\n",
      "\n",
      "Cities: 0, 1, 2, 3, 4, 5\u001b[0m\n",
      "\n",
      "\n",
      "\n"
     ]
    },
    {
     "data": {
      "text/plain": [
       "'\\n\\n\\nGenerate a TSP route starting at city 0 that visits the specified pickup before the delivery node, minimizing distance traveled.\\n\\n---\\n\\nCities: 0, 1, 2, 3, 4, 5, 6, 7, 8, 9\\nDistances: - 0 to 1: 13.6 - 0 to 2: 24.6 - 0 to 3: 10.6 - 0 to 4: 10.0 - 0 to 5: 22.8 - 0 to 6: 23.1 - 0 to 7: 24.2 - 0 to 8: 41.0 - 0 to 9: 11.7 - 1 to 2: 22.0 - 1 to 3: 3.2 - 1 to 4: 21.1 - 1 to 5: 11.2 - 1 to 6: 13.4 - 1 to 7: 11.2 - 1 to 8: 29.0 - 1 to 9: 7.6 - 2 to 3: 22.8 - 2 to 4: 22.0 - 2 to 5: 17.0 - 2 to 6: 13.0 - 2 to 7: 21.0 - 2 to 8: 26.9 - 2 to 9: 28.4 - 3 to 4: 18.8 - 3 to 5: 14.0 - 3 to 6: 15.8 - 3 to 7: 14.3 - 3 to 8: 32.1 - 3 to 9: 5.7 - 4 to 5: 27.2 - 4 to 6: 25.9 - 4 to 7: 29.7 - 4 to 8: 44.3 - 4 to 9: 21.4 - 5 to 6: 4.1 - 5 to 7: 4.0 - 5 to 8: 18.2 - 5 to 9: 18.7 - 6 to 7: 8.1 - 6 to 8: 18.4 - 6 to 9: 21.0 - 7 to 8: 18.0 - 7 to 9: 18.0 - 8 to 9: 36.1\\nConstraints: (9, 5)\\nRoute: 0 -> 9 -> 3 -> 1 -> 7 -> 5 -> 6 -> 8 -> 2 -> 4\\n\\nCities: 0, 1, 2, 3, 4, 5, 6, 7, 8, 9\\nDistances: - 0 to 1: 28.0 - 0 to 2: 18.4 - 0 to 3: 5.0 - 0 to 4: 22.0 - 0 to 5: 13.9 - 0 to 6: 15.3 - 0 to 7: 37.1 - 0 to 8: 33.8 - 0 to 9: 1.4 - 1 to 2: 24.8 - 1 to 3: 28.4 - 1 to 4: 25.5 - 1 to 5: 37.0 - 1 to 6: 13.3 - 1 to 7: 45.2 - 1 to 8: 19.0 - 1 to 9: 29.0 - 2 to 3: 14.2 - 2 to 4: 3.6 - 2 to 5: 16.5 - 2 to 6: 19.9 - 2 to 7: 22.1 - 2 to 8: 19.2 - 2 to 9: 19.7 - 3 to 4: 17.8 - 3 to 5: 9.9 - 3 to 6: 17.0 - 3 to 7: 32.1 - 3 to 8: 31.3 - 3 to 9: 6.1 - 4 to 5: 19.3 - 4 to 6: 22.4 - 4 to 7: 20.1 - 4 to 8: 17.0 - 4 to 9: 23.3 - 5 to 6: 26.6 - 5 to 7: 26.6 - 5 to 8: 35.7 - 5 to 9: 14.3 - 6 to 7: 42.1 - 6 to 8: 25.6 - 6 to 9: 16.1 - 7 to 8: 31.6 - 7 to 9: 38.1 - 8 to 9: 35.2\\nConstraints: (3, 4)\\nRoute: 0 -> 9 -> 3 -> 5 -> 7 -> 2 -> 4 -> 8 -> 1 -> 6\\n\\nCities: 0, 1, 2, 3, 4, 5, 6, 7, 8, 9\\nDistances: - 0 to 1: 30.8 - 0 to 2: 23.0 - 0 to 3: 36.7 - 0 to 4: 29.7 - 0 to 5: 32.8 - 0 to 6: 24.6 - 0 to 7: 20.1 - 0 to 8: 8.1 - 0 to 9: 4.1 - 1 to 2: 43.1 - 1 to 3: 6.0 - 1 to 4: 28.2 - 1 to 5: 14.1 - 1 to 6: 19.7 - 1 to 7: 13.5 - 1 to 8: 23.2 - 1 to 9: 31.0 - 2 to 3: 47.6 - 2 to 4: 23.2 - 2 to 5: 36.7 - 2 to 6: 25.9 - 2 to 7: 29.7 - 2 to 8: 28.2 - 2 to 9: 19.1 - 3 to 4: 30.4 - 3 to 5: 14.6 - 3 to 6: 22.8 - 3 to 7: 18.4 - 3 to 8: 29.2 - 3 to 9: 36.7 - 4 to 5: 16.4 - 4 to 6: 9.0 - 4 to 7: 18.1 - 4 to 8: 28.3 - 4 to 9: 26.4 - 5 to 6: 10.8 - 5 to 7: 13.0 - 5 to 8: 27.3 - 5 to 9: 31.1 - 6 to 7: 9.2 - 6 to 8: 21.2 - 6 to 9: 22.1 - 7 to 8: 14.3 - 7 to 9: 19.1 - 8 to 9: 10.0\\nConstraints: (6, 1)\\nRoute: 0 -> 9 -> 2 -> 4 -> 6 -> 5 -> 3 -> 1 -> 7 -> 8\\n\\nCities: 0, 1, 2, 3, 4, 5, 6, 7, 8, 9\\nDistances: - 0 to 1: 35.5 - 0 to 2: 23.3 - 0 to 3: 23.8 - 0 to 4: 22.1 - 0 to 5: 12.0 - 0 to 6: 24.4 - 0 to 7: 9.8 - 0 to 8: 13.6 - 0 to 9: 25.5 - 1 to 2: 12.2 - 1 to 3: 29.1 - 1 to 4: 32.1 - 1 to 5: 26.9 - 1 to 6: 22.4 - 1 to 7: 25.8 - 1 to 8: 22.7 - 1 to 9: 10.6 - 2 to 3: 21.1 - 2 to 4: 24.2 - 2 to 5: 15.3 - 2 to 6: 16.3 - 2 to 7: 13.6 - 2 to 8: 10.6 - 2 to 9: 3.2 - 3 to 4: 39.2 - 3 to 5: 12.8 - 3 to 6: 34.9 - 3 to 7: 18.4 - 3 to 8: 15.8 - 3 to 9: 20.0 - 4 to 5: 26.9 - 4 to 6: 10.0 - 4 to 7: 21.1 - 4 to 8: 23.4 - 4 to 9: 27.3 - 5 to 6: 24.3 - 5 to 7: 5.8 - 5 to 8: 5.1 - 5 to 9: 16.3 - 6 to 7: 19.0 - 6 to 8: 19.6 - 6 to 9: 19.2 - 7 to 8: 4.0 - 7 to 9: 15.7 - 8 to 9: 12.2\\nConstraints: (1, 7)\\nRoute: 0 -> 4 -> 6 -> 1 -> 9 -> 2 -> 8 -> 3 -> 5 -> 7\\n\\nCities: 0, 1, 2, 3, 4, 5, 6, 7, 8, 9\\nDistances: - 0 to 1: 16.1 - 0 to 2: 17.9 - 0 to 3: 15.8 - 0 to 4: 23.3 - 0 to 5: 26.0 - 0 to 6: 10.8 - 0 to 7: 8.9 - 0 to 8: 17.9 - 0 to 9: 5.8 - 1 to 2: 6.0 - 1 to 3: 31.0 - 1 to 4: 27.7 - 1 to 5: 31.8 - 1 to 6: 10.6 - 1 to 7: 22.4 - 1 to 8: 6.0 - 1 to 9: 12.1 - 2 to 3: 33.6 - 2 to 4: 33.2 - 2 to 5: 37.2 - 2 to 6: 15.7 - 2 to 7: 25.6 - 2 to 8: 0.0 - 2 to 9: 15.6 - 3 to 4: 22.0 - 3 to 5: 22.0 - 3 to 6: 22.2 - 3 to 7: 9.1 - 3 to 8: 33.6 - 3 to 9: 19.0 - 4 to 5: 4.2 - 4 to 6: 17.7 - 4 to 7: 17.0 - 4 to 8: 33.2 - 4 to 9: 20.0 - 5 to 6: 21.5 - 5 to 7: 18.7 - 5 to 8: 37.2 - 5 to 9: 23.3 - 6 to 7: 13.2 - 6 to 8: 15.7 - 6 to 9: 5.0 - 7 to 8: 25.6 - 7 to 9: 10.3 - 8 to 9: 15.6\\nConstraints: (8, 7)\\nRoute: 0 -> 9 -> 8 -> 2 -> 1 -> 6 -> 4 -> 5 -> 3 -> 7\\n\\nCities: 0, 1, 2, 3, 4, 5, 6, 7, 8, 9\\nDistances: - 0 to 1: 14.3 - 0 to 2: 31.6 - 0 to 3: 30.6 - 0 to 4: 17.5 - 0 to 5: 35.5 - 0 to 6: 18.2 - 0 to 7: 33.1 - 0 to 8: 34.5 - 0 to 9: 41.4 - 1 to 2: 27.3 - 1 to 3: 30.6 - 1 to 4: 15.1 - 1 to 5: 30.2 - 1 to 6: 5.8 - 1 to 7: 20.4 - 1 to 8: 24.2 - 1 to 9: 27.2 - 2 to 3: 9.2 - 2 to 4: 14.2 - 2 to 5: 4.1 - 2 to 6: 22.5 - 2 to 7: 21.2 - 2 to 8: 14.4 - 2 to 9: 34.5 - 3 to 4: 15.5 - 3 to 5: 12.1 - 3 to 6: 27.0 - 3 to 7: 29.5 - 3 to 8: 23.4 - 3 to 9: 42.9 - 4 to 5: 18.0 - 4 to 6: 12.4 - 4 to 7: 21.1 - 4 to 8: 19.2 - 4 to 9: 33.2 - 5 to 6: 25.1 - 5 to 7: 21.2 - 5 to 8: 13.6 - 5 to 9: 34.2 - 6 to 7: 15.0 - 6 to 8: 18.4 - 6 to 9: 23.7 - 7 to 8: 8.1 - 7 to 9: 13.4 - 8 to 9: 20.6\\nConstraints: (7, 9)\\nRoute: 0 -> 4 -> 3 -> 2 -> 5 -> 8 -> 7 -> 9 -> 6 -> 1\\n\\n---\\n\\nFollow the following format.\\n\\nCities: List of city indices to visit\\n\\nDistances: Distances between two cities\\n\\nConstraints: Tuple containing (pickup, delivery) nodes\\n\\nPrevious Route: past Route: with errors\\n\\nInstructions: Some instructions you must satisfy\\n\\nRoute: Optimized route visiting all cities with pickup and delivery\\n\\n---\\n\\nCities: 0, 1, 2, 3, 4, 5, 6, 7, 8, 9\\n\\nDistances: - 0 to 1: 10.2 - 0 to 2: 10.0 - 0 to 3: 6.7 - 0 to 4: 24.4 - 0 to 5: 13.2 - 0 to 6: 20.6 - 0 to 7: 19.8 - 0 to 8: 15.8 - 0 to 9: 17.5 - 1 to 2: 12.8 - 1 to 3: 16.8 - 1 to 4: 18.4 - 1 to 5: 5.0 - 1 to 6: 10.4 - 1 to 7: 12.1 - 1 to 8: 19.8 - 1 to 9: 12.1 - 2 to 3: 14.3 - 2 to 4: 17.2 - 2 to 5: 17.7 - 2 to 6: 20.6 - 2 to 7: 15.3 - 2 to 8: 7.1 - 2 to 9: 24.2 - 3 to 4: 30.5 - 3 to 5: 19.0 - 3 to 6: 27.2 - 3 to 7: 26.4 - 3 to 8: 18.0 - 3 to 9: 21.8 - 4 to 5: 22.0 - 4 to 6: 16.2 - 4 to 7: 7.1 - 4 to 8: 19.6 - 4 to 9: 29.0 - 5 to 6: 9.9 - 5 to 7: 15.1 - 5 to 8: 24.8 - 5 to 9: 7.3 - 6 to 7: 9.4 - 6 to 8: 26.9 - 6 to 9: 14.9 - 7 to 8: 20.1 - 7 to 9: 22.0 - 8 to 9: 31.2\\n\\nConstraints: (3, 5)\\n\\nPrevious Route: 0 -> 9 -> 5 -> 3 -> 1 -> 2 -> 8 -> 4 -> 6 -> 7 --- Cities: 0, 1, 2, 3, 4, 5\\n\\nInstructions: 3 must be visited before 5\\n\\nRoute:\\x1b[32m 0 -> 9 -> 5 -> 3 -> 1 -> 2 -> 8 -> 4 -> 6 -> 7\\n\\n---\\n\\nCities: 0, 1, 2, 3, 4, 5\\x1b[0m\\n\\n\\n'"
      ]
     },
     "execution_count": 90,
     "metadata": {},
     "output_type": "execute_result"
    }
   ],
   "source": [
    "llama.inspect_history(n=1)"
   ]
  },
  {
   "cell_type": "code",
   "execution_count": null,
   "id": "33585e61-ccf7-49b9-96f6-758c1fd39432",
   "metadata": {},
   "outputs": [],
   "source": [
    "test_example = pdp_testset[0]\n",
    "numerical_test_example = test_ds[4]\n",
    "print(numerical_test_example)"
   ]
  },
  {
   "cell_type": "code",
   "execution_count": null,
   "id": "af359585-50b4-4c61-ad4f-aa038badba31",
   "metadata": {},
   "outputs": [],
   "source": [
    "predicted_result = compiled_pdp(cities=test_example.cities, distances=test_example.distances, constraints=test_example.constraints)\n",
    "\n",
    "predicted_route = predicted_result.route\n",
    "\n",
    "predicted_distance = eval_tour(test_example.cities, predicted_route, test_example.distances, test_example.constraints)\n",
    "\n",
    "print(f\"Predicted route: {predicted_route}\")\n",
    "print(f\"Total distance of the predicted route: {predicted_distance}\")\n",
    "\n",
    "optimal_route = test_example.route\n",
    "optimal_distance = eval_tour(test_example.cities, optimal_route, test_example.distances, test_example.constraints)\n",
    "print(f\"Optimal route: {optimal_route}\")\n",
    "print(f\"Total distance of the optimal route: {optimal_distance}\")"
   ]
  },
  {
   "cell_type": "code",
   "execution_count": null,
   "id": "9527cad0-c5cd-48c4-b683-6f2c2b51a81b",
   "metadata": {},
   "outputs": [],
   "source": [
    "print(numerical_test_example)\n",
    "path, distance = random_baseline(numerical_test_example[\"distance_matrix\"], numerical_test_example[\"constraints\"])\n",
    "print(f\"path is {path}\")\n",
    "print(f\"distance is {distance}\")"
   ]
  },
  {
   "cell_type": "markdown",
   "id": "7a503978-0046-4595-a298-2d155bdc4763",
   "metadata": {},
   "source": [
    "Random baseline eval:"
   ]
  },
  {
   "cell_type": "code",
   "execution_count": null,
   "id": "81efc486-8bfa-4eee-a5f4-b9ca6f536e62",
   "metadata": {},
   "outputs": [],
   "source": [
    "total_dis = 0\n",
    "for i in range(TEST_INSTANCES):\n",
    "    curr_example = test_ds[i]\n",
    "    _, distance = random_baseline(curr_example[\"distance_matrix\"], curr_example[\"constraints\"])\n",
    "    total_dis += distance\n",
    "print(f\"(RANDOM) total distance is {total_dis}\")\n",
    "print(f\"(RANDOM) average distance is {total_dis/TEST_INSTANCES}\")"
   ]
  },
  {
   "cell_type": "code",
   "execution_count": null,
   "id": "4f00ff49-3153-48c9-a6b3-216ee58df78c",
   "metadata": {},
   "outputs": [],
   "source": [
    "zs_TSP = evaluater(PDP())\n",
    "print(f\"(Zero Shot) average distance is {zs_PDP / len(pdp_testset)}\")"
   ]
  },
  {
   "cell_type": "markdown",
   "id": "83abd91f-d0c1-43d1-bd30-d5a592ad0b72",
   "metadata": {},
   "source": [
    "Model eval:"
   ]
  },
  {
   "cell_type": "code",
   "execution_count": null,
   "id": "ad98ac9a-b6d3-4f26-880c-b25be747bc3a",
   "metadata": {},
   "outputs": [],
   "source": [
    "print(\"(MODEL) average distance is 159.6\")"
   ]
  },
  {
   "cell_type": "markdown",
   "id": "773ec6a9-2486-4119-a652-71e8542a10b0",
   "metadata": {},
   "source": [
    "Optimal route eval:"
   ]
  },
  {
   "cell_type": "code",
   "execution_count": null,
   "id": "6623461f-df0b-4a8e-a831-c6ee93470e97",
   "metadata": {},
   "outputs": [],
   "source": [
    "total_dis = 0\n",
    "for i in range(TEST_INSTANCES):\n",
    "    curr_example = test_ds[i]\n",
    "    total_dis += curr_example[\"optimal_distance\"]\n",
    "print(f\"(OPTIMAL) total distance is {total_dis}\")\n",
    "print(f\"(OPTIMAL) average distance is {total_dis/TEST_INSTANCES}\")"
   ]
  }
 ],
 "metadata": {
  "kernelspec": {
   "display_name": "Python (dspy-ai)",
   "language": "python",
   "name": "dspy"
  },
  "language_info": {
   "codemirror_mode": {
    "name": "ipython",
    "version": 3
   },
   "file_extension": ".py",
   "mimetype": "text/x-python",
   "name": "python",
   "nbconvert_exporter": "python",
   "pygments_lexer": "ipython3",
   "version": "3.11.8"
  }
 },
 "nbformat": 4,
 "nbformat_minor": 5
}
